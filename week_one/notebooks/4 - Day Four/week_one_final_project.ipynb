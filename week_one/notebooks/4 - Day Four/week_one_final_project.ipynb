{
 "cells": [
  {
   "cell_type": "markdown",
   "metadata": {},
   "source": [
    "# Week One Final Project: Movie Revenue Prediction and Exploration\n",
    "\n",
    "Where has week one gone! We have one more project for you to put a nice little bow on all of the hard work you've done so far. For this project, be persistent, be curious, and ask questions if you get stuck!\n",
    "\n",
    "## The Project\n",
    "\n",
    "You and your teammates will create one prediction model and *AT LEAST* three plots or charts. Everyone will present their model and their charts during the final session of the day.\n",
    "* Model predictions will be ranked according to their r-squared values and we will crown a winner!\n",
    "* Your plots should be driven by curiosity. Everyone will present at least one plot.\n",
    "\n",
    "## Helper Functions\n",
    "\n",
    "We've provided helper functions down below. If you need help remembering what they do, refer to the `airbnb_solution.ipynb` example."
   ]
  },
  {
   "cell_type": "code",
   "execution_count": 1,
   "metadata": {},
   "outputs": [
    {
     "ename": "ModuleNotFoundError",
     "evalue": "No module named 'matplotlib'",
     "output_type": "error",
     "traceback": [
      "\u001b[1;31m---------------------------------------------------------------------------\u001b[0m",
      "\u001b[1;31mModuleNotFoundError\u001b[0m                       Traceback (most recent call last)",
      "Cell \u001b[1;32mIn[1], line 4\u001b[0m\n\u001b[0;32m      2\u001b[0m \u001b[38;5;28;01mimport\u001b[39;00m \u001b[38;5;21;01mpandas\u001b[39;00m \u001b[38;5;28;01mas\u001b[39;00m \u001b[38;5;21;01mpd\u001b[39;00m\n\u001b[0;32m      3\u001b[0m \u001b[38;5;28;01mimport\u001b[39;00m \u001b[38;5;21;01mnumpy\u001b[39;00m \u001b[38;5;28;01mas\u001b[39;00m \u001b[38;5;21;01mnp\u001b[39;00m\n\u001b[1;32m----> 4\u001b[0m \u001b[38;5;28;01mfrom\u001b[39;00m \u001b[38;5;21;01mmatplotlib\u001b[39;00m \u001b[38;5;28;01mimport\u001b[39;00m pyplot \u001b[38;5;28;01mas\u001b[39;00m plt\n\u001b[0;32m      5\u001b[0m \u001b[38;5;28;01mfrom\u001b[39;00m \u001b[38;5;21;01msklearn\u001b[39;00m\u001b[38;5;21;01m.\u001b[39;00m\u001b[38;5;21;01mensemble\u001b[39;00m \u001b[38;5;28;01mimport\u001b[39;00m RandomForestRegressor, RandomForestClassifier\n\u001b[0;32m      6\u001b[0m \u001b[38;5;28;01mfrom\u001b[39;00m \u001b[38;5;21;01msklearn\u001b[39;00m\u001b[38;5;21;01m.\u001b[39;00m\u001b[38;5;21;01mmetrics\u001b[39;00m \u001b[38;5;28;01mimport\u001b[39;00m r2_score, mean_absolute_error, mean_squared_error, accuracy_score\n",
      "\u001b[1;31mModuleNotFoundError\u001b[0m: No module named 'matplotlib'"
     ]
    }
   ],
   "source": [
    "# We'll use these packages\n",
    "import pandas as pd\n",
    "import numpy as np\n",
    "from matplotlib import pyplot as plt\n",
    "from sklearn.ensemble import RandomForestRegressor, RandomForestClassifier\n",
    "from sklearn.metrics import r2_score, mean_absolute_error, mean_squared_error, accuracy_score\n",
    "from sklearn.preprocessing import MultiLabelBinarizer\n",
    "\n",
    "pd.set_option('display.max_columns', 100)\n",
    "\n",
    "# Read in the data!\n",
    "movie_data = pd.read_csv(\"movie_dataset_final.csv\")"
   ]
  },
  {
   "cell_type": "code",
   "execution_count": null,
   "metadata": {},
   "outputs": [],
   "source": [
    "# Helper Function: Feature Engineering\n",
    "# Use this to turn dictionary columns into useful features\n",
    "# We use the genre column as an example\n",
    "\n",
    "column = \"genre\"  # Change this to a different column if you prefer\n",
    "\n",
    "movie_dataset[f'{column}_list'] = movie_dataset['column'].apply(lambda x: [dic['name'] for dic in x])\n",
    "\n",
    "# Let's initialize the MultiLabelBinarizer\n",
    "mlb = MultiLabelBinarizer()\n",
    "\n",
    "# Now we fit and transform the 'genre_list' column and put the result in a new DataFrame\n",
    "binary_matrix = pd.DataFrame(mlb.fit_transform(movie_dataset[f'{column}_list']), columns=mlb.classes_)\n",
    "\n",
    "# Now you have a binary matrix, where each genre is a feature. \n",
    "# To add these features back into your original dataframe, we use the pandas function 'concat'.\n",
    "new_feature_names = binary_matrix.columns\n",
    "movie_dataset = pd.concat([movie_dataset, binary_matrix], axis=1)\n",
    "\n"
   ]
  },
  {
   "cell_type": "code",
   "execution_count": null,
   "metadata": {},
   "outputs": [],
   "source": [
    "# Helper Function: Two Bar Chart Plots\n",
    "groupby_variable = \"column_one\"\n",
    "y_value = \"column_2\"\n",
    "\n",
    "fig, axs = plt.subplots(2, 1, figsize=(12, 6))\n",
    "listings.groupby(groupby_variable)[y_value].mean().plot(kind=\"bar\", ax=axs[0], title=f\"Average {y_value}\")\n",
    "listings.groupby(groupby_variable)[y_value].count().plot(kind=\"bar\", ax=axs[1], title=\"Count of Listings\")\n",
    "fig.tight_layout()"
   ]
  },
  {
   "cell_type": "code",
   "execution_count": null,
   "metadata": {},
   "outputs": [],
   "source": [
    "# Helper Function: Scatter Plot\n",
    "\n",
    "x_value = \"column_1\"\n",
    "y_value = \"column_2\"\n",
    "\n",
    "listings.plot(x=x_value, y=y_value, kind=\"scatter\", alpha=0.2)"
   ]
  },
  {
   "cell_type": "code",
   "execution_count": null,
   "metadata": {},
   "outputs": [],
   "source": [
    "# Helper Function: Model Training\n",
    "features = [\"column_1\", \"column_2\", \"column_3\", \"etc...\"]\n",
    "features = [\"popularity\", \"revenue\"]\n",
    "\n",
    "target = \"revenue\"\n",
    "model_type = \"regression\"\n",
    "\n",
    "\n",
    "if model_type == \"regression\":\n",
    "    model = RandomForestRegressor()\n",
    "else:\n",
    "    model = RandomForestClassifier()\n",
    "\n",
    "shuffled_data = movie_data.sample(len(movie_data))  # Shuffle our data\n",
    "train_data = shuffled_data[:int(len(shuffled_data)*0.8)]\n",
    "validation_data = shuffled_data[int(len(shuffled_data)*0.8):]\n",
    "\n",
    "model.fit(train_data[features], train_data[target])\n",
    "\n",
    "train_data[f\"predicted_{target}\"] = model.predict(train_data[features])\n",
    "validation_data[f\"predicted_{target}\"] = model.predict(validation_data[features])\n",
    "\n",
    "# How do we measure our success?\n",
    "print(\"Training Data Statistics\")\n",
    "print(\"mean_absolute_error: \", mean_absolute_error(train_data[target], train_data[f\"predicted_{target}\"]))\n",
    "print(\"mean_squared_error\", mean_squared_error(train_data[target], train_data[f\"predicted_{target}\"]))\n",
    "print(\"R**2\", r2_score(train_data[target], train_data[f\"predicted_{target}\"]))\n",
    "print(\"\")\n",
    "\n",
    "print(\"Validation Data Statistics\")\n",
    "print(\"mean_absolute_error: \", mean_absolute_error(validation_data[target], validation_data[f\"predicted_{target}\"]))\n",
    "print(\"mean_squared_error\", mean_squared_error(validation_data[target], validation_data[f\"predicted_{target}\"]))\n",
    "print(\"R**2\", r2_score(validation_data[target], validation_data[f\"predicted_{target}\"]))\n",
    "\n",
    "print(\"\")\n",
    "for i in range(len(model.feature_importances_)):\n",
    "    print(f\"{features[i]}: {model.feature_importances_[i]}\")"
   ]
  }
 ],
 "metadata": {
  "kernelspec": {
   "display_name": "Python 3.10.5 64-bit",
   "language": "python",
   "name": "python3"
  },
  "language_info": {
   "codemirror_mode": {
    "name": "ipython",
    "version": 3
   },
   "file_extension": ".py",
   "mimetype": "text/x-python",
   "name": "python",
   "nbconvert_exporter": "python",
   "pygments_lexer": "ipython3",
   "version": "3.10.5"
  },
  "orig_nbformat": 4,
  "vscode": {
   "interpreter": {
    "hash": "369f2c481f4da34e4445cda3fffd2e751bd1c4d706f27375911949ba6bb62e1c"
   }
  }
 },
 "nbformat": 4,
 "nbformat_minor": 2
}
