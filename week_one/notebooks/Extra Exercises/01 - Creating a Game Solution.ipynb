{
 "cells": [
  {
   "cell_type": "markdown",
   "id": "09036607",
   "metadata": {},
   "source": [
    "# Creating a Game\n",
    "\n",
    "For this exercise, we'll be building a simple text game! The game, __Hangman__ will require us to guess letter. The computer will then tell us if those letters are in the word that the computer (and maybe us!) has chosen. Before we begin, let's make sure we have a good understanding of the __state__ of the game."
   ]
  },
  {
   "cell_type": "markdown",
   "id": "ec40b529",
   "metadata": {},
   "source": [
    "### Game State\n",
    "\n",
    "The state of a game includes all of the information necessary for the game to be played. What is that in this case? Keep in mind, some of the information may be hidden to the players. What information is hidden and visible in this game?\n",
    "\n",
    "#### Hidden State\n",
    "__FILL THIS IN__\n",
    "\n",
    "#### Visible State\n",
    "__FILL THIS IN__"
   ]
  },
  {
   "cell_type": "code",
   "execution_count": 4,
   "id": "be7d6398",
   "metadata": {},
   "outputs": [],
   "source": [
    "# This cell loads in the 1000 most common words from `1-1000.txt` and puts them in a list called \"common_words\"\n",
    "word_file = open(\"../3 - Day Three/1-1000.txt\")\n",
    "common_word_file = word_file.read()\n",
    "common_words = common_word_file.split(\"\\n\")"
   ]
  },
  {
   "cell_type": "code",
   "execution_count": 6,
   "id": "08edd46f",
   "metadata": {},
   "outputs": [
    {
     "name": "stdout",
     "output_type": "stream",
     "text": [
      "Welcome to Hangman!\n",
      "Current word: ____\n",
      "Incorrect guesses remaining: 6\n"
     ]
    },
    {
     "name": "stdin",
     "output_type": "stream",
     "text": [
      "Guess a character:  t\n"
     ]
    },
    {
     "name": "stdout",
     "output_type": "stream",
     "text": [
      "Current word: __t_\n",
      "Incorrect guesses remaining: 6\n"
     ]
    },
    {
     "name": "stdin",
     "output_type": "stream",
     "text": [
      "Guess a character:  e\n"
     ]
    },
    {
     "name": "stdout",
     "output_type": "stream",
     "text": [
      "Incorrect guess.\n",
      "Current word: __t_\n",
      "Incorrect guesses remaining: 5\n"
     ]
    },
    {
     "name": "stdin",
     "output_type": "stream",
     "text": [
      "Guess a character:  a\n"
     ]
    },
    {
     "name": "stdout",
     "output_type": "stream",
     "text": [
      "Incorrect guess.\n",
      "Current word: __t_\n",
      "Incorrect guesses remaining: 4\n"
     ]
    },
    {
     "name": "stdin",
     "output_type": "stream",
     "text": [
      "Guess a character:  i\n"
     ]
    },
    {
     "name": "stdout",
     "output_type": "stream",
     "text": [
      "Current word: _it_\n",
      "Incorrect guesses remaining: 4\n"
     ]
    },
    {
     "name": "stdin",
     "output_type": "stream",
     "text": [
      "Guess a character:  w\n"
     ]
    },
    {
     "name": "stdout",
     "output_type": "stream",
     "text": [
      "Incorrect guess.\n",
      "Current word: _it_\n",
      "Incorrect guesses remaining: 3\n"
     ]
    },
    {
     "name": "stdin",
     "output_type": "stream",
     "text": [
      "Guess a character:  h\n"
     ]
    },
    {
     "name": "stdout",
     "output_type": "stream",
     "text": [
      "Incorrect guess.\n",
      "Current word: _it_\n",
      "Incorrect guesses remaining: 2\n"
     ]
    },
    {
     "name": "stdin",
     "output_type": "stream",
     "text": [
      "Guess a character:  s\n"
     ]
    },
    {
     "name": "stdout",
     "output_type": "stream",
     "text": [
      "Incorrect guess.\n",
      "Current word: _it_\n",
      "Incorrect guesses remaining: 1\n"
     ]
    },
    {
     "name": "stdin",
     "output_type": "stream",
     "text": [
      "Guess a character:  s\n"
     ]
    },
    {
     "name": "stdout",
     "output_type": "stream",
     "text": [
      "Incorrect guess.\n",
      "Game over! The word was: city\n"
     ]
    }
   ],
   "source": [
    "import random as rd\n",
    "\n",
    "class Hangman:\n",
    "\n",
    "    def __init__(self, words, incorrect_guesses_allowed=6):\n",
    "        self.words = words\n",
    "        self.incorrect_guesses_allowed = incorrect_guesses_allowed\n",
    "        self.current_word = None\n",
    "        self.game_over = False\n",
    "        self.current_indices = []\n",
    "        self.incorrect_guesses = 0\n",
    "\n",
    "    def display_current_state(self):\n",
    "        display = ''.join([letter if self.current_indices[i] else '_' for i, letter in enumerate(self.current_word)])\n",
    "        print('Current word:', display)\n",
    "\n",
    "    def play_game(self):\n",
    "        self.game_over = False\n",
    "        self.current_word = rd.choice(self.words)\n",
    "        self.current_indices = [False] * len(self.current_word)\n",
    "        self.incorrect_guesses = 0\n",
    "\n",
    "        print(\"Welcome to Hangman!\")\n",
    "\n",
    "        while not self.game_over:\n",
    "            self.display_current_state()\n",
    "            print(f'Incorrect guesses remaining: {self.incorrect_guesses_allowed - self.incorrect_guesses}')\n",
    "            guess = input(\"Guess a character: \").lower()\n",
    "\n",
    "            if len(guess) != 1 or not guess.isalpha():\n",
    "                print(\"Please guess a single letter.\")\n",
    "                continue\n",
    "\n",
    "            if guess in self.current_word:\n",
    "                for i, letter in enumerate(self.current_word):\n",
    "                    if letter == guess:\n",
    "                        self.current_indices[i] = True\n",
    "            else:\n",
    "                self.incorrect_guesses += 1\n",
    "                print(\"Incorrect guess.\")\n",
    "\n",
    "            if all(self.current_indices):\n",
    "                self.display_current_state()\n",
    "                print(\"Congratulations! You guessed the word!\")\n",
    "                self.game_over = True\n",
    "\n",
    "            if self.incorrect_guesses >= self.incorrect_guesses_allowed:\n",
    "                print(f\"Game over! The word was: {self.current_word}\")\n",
    "                self.game_over = True\n",
    "\n",
    "# Example usage\n",
    "words = [\"hangman\", \"python\", \"programming\"]\n",
    "words = common_words\n",
    "\n",
    "game = Hangman(words)\n",
    "game.play_game()\n"
   ]
  }
 ],
 "metadata": {
  "kernelspec": {
   "display_name": "Python 3 (ipykernel)",
   "language": "python",
   "name": "python3"
  },
  "language_info": {
   "codemirror_mode": {
    "name": "ipython",
    "version": 3
   },
   "file_extension": ".py",
   "mimetype": "text/x-python",
   "name": "python",
   "nbconvert_exporter": "python",
   "pygments_lexer": "ipython3",
   "version": "3.11.7"
  },
  "vscode": {
   "interpreter": {
    "hash": "369f2c481f4da34e4445cda3fffd2e751bd1c4d706f27375911949ba6bb62e1c"
   }
  }
 },
 "nbformat": 4,
 "nbformat_minor": 5
}
