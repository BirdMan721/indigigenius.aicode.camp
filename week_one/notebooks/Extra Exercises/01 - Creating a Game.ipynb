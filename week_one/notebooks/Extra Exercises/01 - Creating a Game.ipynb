{
 "cells": [
  {
   "cell_type": "markdown",
   "id": "09036607",
   "metadata": {},
   "source": [
    "# Creating a Game\n",
    "\n",
    "For this exercise, we'll be building a simple text game! The game, __Hangman__ will require us to guess letter. The computer will then tell us if those letters are in the word that the computer (and maybe us!) has chosen. Before we begin, let's make sure we have a good understanding of the __state__ of the game."
   ]
  },
  {
   "cell_type": "markdown",
   "id": "ec40b529",
   "metadata": {},
   "source": [
    "### Game State\n",
    "\n",
    "The state of a game includes all of the information necessary for the game to be played. What is that in this case? Keep in mind, some of the information may be hidden to the players. What information is hidden and visible in this game?\n",
    "\n",
    "#### Hidden State\n",
    "__FILL THIS IN__\n",
    "\n",
    "#### Visible State\n",
    "__FILL THIS IN__"
   ]
  },
  {
   "cell_type": "code",
   "execution_count": 3,
   "id": "be7d6398",
   "metadata": {},
   "outputs": [],
   "source": [
    "# This cell loads in the 1000 most common words from `1-1000.txt` and puts them in a list called \"common_words\"\n",
    "word_file = open(\"1-1000.txt\")\n",
    "common_word_file = word_file.read()\n",
    "common_words = common_word_file.split(\"\\n\")"
   ]
  },
  {
   "cell_type": "code",
   "execution_count": null,
   "id": "08edd46f",
   "metadata": {},
   "outputs": [],
   "source": [
    "# YOUR NOTES HERE: Write the steps needed to write this game\n",
    "\n",
    "import random as rd\n",
    "\n",
    "class Hangman:\n",
    "\n",
    "    def __init__(self, words, incorrect_guesses_allowed):\n",
    "        self.words = words\n",
    "        self.incorrect_guesses_allowed = incorrect_guesses_allowed\n",
    "\n",
    "        self.current_word = None\n",
    "        self.game_over = False\n",
    "        self.current_indices = []\n",
    "\n",
    "    def play_game(self):\n",
    "        self.game_over = False\n",
    "        self.current_word = rd.sample(self.words, 1)\n",
    "\n",
    "        self.current_indices = []\n",
    "        for i in range(len(self.current_word)):\n",
    "            self.current_indices.append(0)\n",
    "\n",
    "        while not self.game_over:\n",
    "            guess = input(\"Guess a character!\")\n",
    "\n",
    "            for i in range(len(self.current_word)):\n",
    "                if self.current_word[i] == guess:\n",
    "                    self.current_indices = 1\n",
    "                \n",
    "\n",
    "\n",
    "word = \"hello\"\n",
    "\n",
    "correct_indices = []\n",
    "for i in range(len(word)):\n",
    "    correct_indices[i] = 0\n",
    "\n",
    "game_over = False\n",
    "while not game_over:\n",
    "    guess = input(\"Guess a character!\")\n",
    "\n",
    "    if len(guess) == 1 and type(guess) == str:\n",
    "        current_sum = sum(correct_indices)\n",
    "\n",
    "        for i in range(len(word)):\n",
    "            if word[i] == guess:\n",
    "                correct_indices[i] = 1\n",
    "        \n",
    "        if current_sum == sum(correct_indices):\n",
    "            incorrect_guess_count += 1"
   ]
  },
  {
   "cell_type": "code",
   "execution_count": null,
   "id": "a846bc43",
   "metadata": {},
   "outputs": [],
   "source": [
    "# YOUR CODE HERE"
   ]
  }
 ],
 "metadata": {
  "kernelspec": {
   "display_name": "Python 3.10.5 64-bit",
   "language": "python",
   "name": "python3"
  },
  "language_info": {
   "codemirror_mode": {
    "name": "ipython",
    "version": 3
   },
   "file_extension": ".py",
   "mimetype": "text/x-python",
   "name": "python",
   "nbconvert_exporter": "python",
   "pygments_lexer": "ipython3",
   "version": "3.10.5"
  },
  "vscode": {
   "interpreter": {
    "hash": "369f2c481f4da34e4445cda3fffd2e751bd1c4d706f27375911949ba6bb62e1c"
   }
  }
 },
 "nbformat": 4,
 "nbformat_minor": 5
}
