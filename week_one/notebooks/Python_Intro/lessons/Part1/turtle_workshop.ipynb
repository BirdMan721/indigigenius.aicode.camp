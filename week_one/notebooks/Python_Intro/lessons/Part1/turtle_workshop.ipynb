{
 "cells": [
  {
   "cell_type": "code",
   "execution_count": null,
   "metadata": {},
   "outputs": [],
   "source": [
    "from mobilechelonian import Turtle\n",
    "t = Turtle()\n",
    "\n",
    "\n",
    "t.speed(5)\n",
    "colours=[\"red\",\"blue\",\"yellow\",\"brown\",\"black\",\"purple\",\"green\"]\n",
    "\n",
    "t.penup()\n",
    "t.left(90)\n",
    "t.forward(200)\n",
    "t.right(90)\n",
    "t.pendown()\n",
    "\n",
    "for i in range (0,18):\n",
    "    t.pencolor(colours[i%7])\n",
    "    t.right(20)\n",
    "    t.forward(50)\n",
    "\n",
    "t.right(180)\n",
    "t.penup()\n",
    "t.home()"
   ]
  },
  {
   "cell_type": "markdown",
   "metadata": {},
   "source": [
    "# Turtle Commands\n",
    "1. t.left(n), t.right(n): Turn the turtle n degrees to the left or to the right\n",
    "2. t.forward(n): Move the turtle n units forward\n",
    "3. t.penup(): Moves following this command will not draw on the screen\n",
    "4. t.pendown(): \"Puts the pen back down\" after a t.penup() command\n",
    "5. t.pencolor(color_string): Changes the pen color to the given color_string\n",
    "6. t.home(): Returns Turtle to the (0, 0) location"
   ]
  },
  {
   "cell_type": "markdown",
   "metadata": {},
   "source": [
    "# Turtle Challenges\n",
    "1. Draw a square\n",
    "2. Draw a star\n",
    "3. Draw a starquilt outline\n",
    "4. Draw a dreamcatcher\n",
    "5. Draw something awesome"
   ]
  },
  {
   "cell_type": "markdown",
   "metadata": {},
   "source": [
    "# Turtle Function Challenges\n",
    "1. Draw a 3*3 grid of:\n",
    "* Squares\n",
    "* Stars\n",
    "2. Create a function for `n` pointed stars, I've started this for you below."
   ]
  },
  {
   "cell_type": "code",
   "execution_count": null,
   "metadata": {},
   "outputs": [],
   "source": [
    "def draw_hook(t, length, left=False):\n",
    "    t.forward(length)\n",
    "    \n",
    "    if left:\n",
    "        t.left(90)\n",
    "    else:\n",
    "        t.right(90)\n",
    "    \n",
    "    t.forward(length)"
   ]
  },
  {
   "cell_type": "code",
   "execution_count": null,
   "metadata": {},
   "outputs": [],
   "source": [
    "def n_pointed_star(t, n):\n",
    "    # Draw Star Here\n",
    "    pass"
   ]
  }
 ],
 "metadata": {
  "kernelspec": {
   "display_name": "Python 3.9.12 ('base')",
   "language": "python",
   "name": "python3"
  },
  "language_info": {
   "name": "python",
   "version": "3.9.12"
  },
  "orig_nbformat": 4,
  "vscode": {
   "interpreter": {
    "hash": "7fb7ad0f8a82f954bb85aafe9ace17708734a683d44db0d426f239eb44ff10c0"
   }
  }
 },
 "nbformat": 4,
 "nbformat_minor": 2
}
