{
 "cells": [
  {
   "cell_type": "markdown",
   "metadata": {},
   "source": [
    "# Introduction to Python Notebooks"
   ]
  },
  {
   "cell_type": "markdown",
   "metadata": {},
   "source": [
    "## Lessons\n",
    "\n",
    "1. Datatypes\n",
    "\n",
    "    a. [Variables](http://127.0.0.1:8888/notebooks/notebooks/Python_Intro/lessons/Part1/03_variables.ipynb)\n",
    "\n",
    "    b. [Data Types](http://127.0.0.1:8888/notebooks/notebooks/Python_Intro/lessons/Part1/04_data_types.ipynb)\n",
    "\n",
    "    c. [Collections](http://127.0.0.1:8888/notebooks/notebooks/Python_Intro/lessons/Part2/06_data_structures.ipynb)\n",
    "\n",
    "2. [Conditionals](http://127.0.0.1:8888/notebooks/notebooks/Python_Intro/lessons/Part2/08_conditionals.ipynb)\n",
    "\n",
    "3. [Loops](http://127.0.0.1:8888/notebooks/notebooks/Python_Intro/lessons/Part2/07_loops.ipynb)\n",
    "\n",
    "4. [Functions](http://127.0.0.1:8888/notebooks/notebooks/Python_Intro/lessons/Part2/09_custom_functions.ipynb)"
   ]
  },
  {
   "cell_type": "markdown",
   "metadata": {},
   "source": [
    "## [Exercises](./exercises/day_one_exercises.ipynb)"
   ]
  }
 ],
 "metadata": {
  "kernelspec": {
   "display_name": "Python 3.9.12 ('base')",
   "language": "python",
   "name": "python3"
  },
  "language_info": {
   "name": "python",
   "version": "3.9.12"
  },
  "orig_nbformat": 4,
  "vscode": {
   "interpreter": {
    "hash": "7fb7ad0f8a82f954bb85aafe9ace17708734a683d44db0d426f239eb44ff10c0"
   }
  }
 },
 "nbformat": 4,
 "nbformat_minor": 2
}
