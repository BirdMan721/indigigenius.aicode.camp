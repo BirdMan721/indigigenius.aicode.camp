{
 "cells": [
  {
   "cell_type": "markdown",
   "metadata": {},
   "source": [
    "# Week One Final Assignment\n",
    "\n",
    "Using the dataset of your choice, create a report within the parameters below:\n",
    "\n",
    "1. At Least One Cleaning Step\n",
    "2. 3 Plots\n",
    "3. A trained model withg at least 3 features (one of which has been altered)\n",
    "\n",
    "## Tips\n",
    "Cleaning Step Options:\n",
    "1. Fill/Remove NA values\n",
    "2. Reformat a datatype to something useful (string -> int, for example)\n",
    "3. Anything else you can think of\n",
    "\n",
    "Altered Feature Options:\n",
    "1. Create one-hot encodings of categorical features\n",
    "2. Use buckets (quantiles) for numerical features\n",
    "3. Create features from datetime data"
   ]
  },
  {
   "cell_type": "code",
   "execution_count": 11,
   "metadata": {},
   "outputs": [],
   "source": [
    "import pandas as pd\n",
    "from sklearn.ensemble import RandomForestClassifier\n",
    "\n",
    "penguin_data = pd.read_csv(\"penguins.csv\")\n",
    "penguin_data[\"culmen_length_mm\"] = penguin_data[\"culmen_length_mm\"].astype(str)"
   ]
  },
  {
   "cell_type": "code",
   "execution_count": 12,
   "metadata": {},
   "outputs": [
    {
     "data": {
      "text/plain": [
       "species               object\n",
       "island                object\n",
       "culmen_length_mm      object\n",
       "culmen_depth_mm      float64\n",
       "flipper_length_mm    float64\n",
       "body_mass_g          float64\n",
       "sex                   object\n",
       "dtype: object"
      ]
     },
     "execution_count": 12,
     "metadata": {},
     "output_type": "execute_result"
    }
   ],
   "source": [
    "penguin_data.dtypes"
   ]
  },
  {
   "cell_type": "code",
   "execution_count": null,
   "metadata": {},
   "outputs": [],
   "source": [
    "# Possible Cleaning Steps\n",
    "penguin_data.fillna(0) # Fill NA values with zeros (you can use any value)\n",
    "penguin_data.dropna() # Removes all rows with an NA value\n",
    "\n",
    "# Culmen Length should probably be a float!\n",
    "penguin_data[\"culmen_length_mm\"] = penguin_data[\"culmen_length_mm\"].astype(str)"
   ]
  }
 ],
 "metadata": {
  "kernelspec": {
   "display_name": "Python 3.9.12 ('base')",
   "language": "python",
   "name": "python3"
  },
  "language_info": {
   "codemirror_mode": {
    "name": "ipython",
    "version": 3
   },
   "file_extension": ".py",
   "mimetype": "text/x-python",
   "name": "python",
   "nbconvert_exporter": "python",
   "pygments_lexer": "ipython3",
   "version": "3.9.12"
  },
  "orig_nbformat": 4,
  "vscode": {
   "interpreter": {
    "hash": "7fb7ad0f8a82f954bb85aafe9ace17708734a683d44db0d426f239eb44ff10c0"
   }
  }
 },
 "nbformat": 4,
 "nbformat_minor": 2
}
