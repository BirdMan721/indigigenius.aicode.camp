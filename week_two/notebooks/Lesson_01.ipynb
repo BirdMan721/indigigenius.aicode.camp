{
  "nbformat": 4,
  "nbformat_minor": 0,
  "metadata": {
    "colab": {
      "provenance": []
    },
    "kernelspec": {
      "name": "python3",
      "display_name": "Python 3"
    },
    "language_info": {
      "name": "python"
    }
  },
  "cells": [
    {
      "cell_type": "code",
      "execution_count": null,
      "metadata": {
        "id": "DtxmNnEjaX0b"
      },
      "outputs": [],
      "source": [
        "import time\n",
        "\n",
        "import numpy as np\n",
        "import torch\n",
        "import torchvision\n",
        "\n",
        "import matplotlib.pyplot as plt\n",
        "import torch.nn.functional as F\n",
        "\n",
        "from IPython.display import YouTubeVideo"
      ]
    },
    {
      "cell_type": "markdown",
      "source": [
        "# Lakota AI Code Camp Lesson 01: Introduction to Deep Learning\n",
        "\n",
        "We're beginning our journey into artifical intelligence!\n",
        "Our primary focus is on machine learning and deep learning (we'll go over the definitions in more detail\n",
        "later in this lecture).\n",
        "Throughout the week, we'll work on developing the engine that will power our eventual object detection app."
      ],
      "metadata": {
        "id": "OEMwrNAWahAI"
      }
    },
    {
      "cell_type": "markdown",
      "source": [
        "## Expectations\n",
        "\n"
      ],
      "metadata": {
        "id": "be-x1FkF8RBc"
      }
    },
    {
      "cell_type": "markdown",
      "source": [
        "## Course Outline\n"
      ],
      "metadata": {
        "id": "qQjAH8sYagZP"
      }
    },
    {
      "cell_type": "markdown",
      "source": [
        "\n",
        "### Day 1\n",
        "\n",
        "We'll start out with giving you an overview of the field that we'll be working on for the next two weeks.\n",
        "Then we'll start learning how to use the libraries that are essential for this work.\n",
        "Finally, we'll learn about matrices and their manipulations.\n",
        "These are fundamental to how neural networks work.\n",
        "\n",
        "1.   Introduction to Deep Learning\n",
        "1.   Introduction to Image Recognition\n",
        "1.   Introduction to Object Detection\n",
        "1.   Introduction to PyTorch\n",
        "1.   Matrix Algebra I\n",
        "1.   Matrix Algebra II"
      ],
      "metadata": {
        "id": "UXchTDTGcNKS"
      }
    },
    {
      "cell_type": "markdown",
      "source": [
        "\n",
        "### Day 2\n",
        "\n",
        "We'll continue learning about matrices.\n",
        "After that, we'll move on to learning about the anatomy of neural networks, the parts and pieces that make\n",
        "them work.\n",
        "\n",
        "1.   Matrix Algebra III\n",
        "1.   Matrix Algebra IV\n",
        "1.   Matrix Algebra V\n",
        "1.   Introduction to Neural Networks 0: Small network from Scratch.\n",
        "1.   Introduction to Neural Network I: Layers and Activation Functions\n",
        "1.   Introduction to Neural Network II: Fully Connected Layers and ReLU"
      ],
      "metadata": {
        "id": "2xpyvCBCcgsy"
      }
    },
    {
      "cell_type": "markdown",
      "source": [
        "\n",
        "### Day 3\n",
        "\n",
        "We'll continue learning about neural network anatomy.\n",
        "Then we'll become more focused on how object detection neural networks work.\n",
        "Finally, we'll look at the datasets that are used to make the neural networks learn.\n",
        "\n",
        "1.   Convolutional Layers I\n",
        "1.   Convolutional Layers II\n",
        "1.   Loss Functions and Metrics\n",
        "1.   Bounding Boxes and Anchor Boxes\n",
        "1.   Object Detection Loss and Metrics\n",
        "1.   Machine Learning Ethics\n"
      ],
      "metadata": {
        "id": "NaICkOgPcygy"
      }
    },
    {
      "cell_type": "markdown",
      "source": [
        "\n",
        "### Day 4\n",
        "\n",
        "We'll continue with datasets.\n",
        "Then we'll begin working on the primary algorithm that powers the \"learning\" in neural networks.\n",
        "We'll finish by learning about ways to get more out of our datasets.\n",
        "\n",
        "1.   Datasets I\n",
        "1.   Datasets II\n",
        "1.   Datasets III\n",
        "1.   Multivariable Calculus I\n",
        "1.   Multivariable Calculus II\n",
        "1.   Data Augmentation and Image Transforms"
      ],
      "metadata": {
        "id": "WL8oMbXYc0gQ"
      }
    },
    {
      "cell_type": "markdown",
      "source": [
        "\n",
        "### Day 5\n",
        "\n",
        "We'll look into the architecture of object detection neural networks more closely.\n",
        "Then, we'll work on building and training your own model.\n",
        "Finally, you'll be able to work on building your own object detection model throughout the weekend!\n",
        "\n",
        "1.   Stochastic Gradient Descent I\n",
        "1.   Stochastic Gradient Descent II\n",
        "1.   Object Detection Architecture\n",
        "1.   Introduction to Deep Learning Starter Kit\n",
        "1.   Building a Model and Training I\n",
        "1.   ONNX\n"
      ],
      "metadata": {
        "id": "PNbDIiNNc1ko"
      }
    },
    {
      "cell_type": "markdown",
      "source": [
        "### Day 6\n",
        "\n",
        "We'll do a little bit of a deep dive into how the library PyTorch works under the hood.\n",
        "Then we'll talk about the ethics behind data collection, model development, and model deployment.\n",
        "\n",
        "1.   Building a Model and Training II\n",
        "1.   Building a Model and Training III\n",
        "1.   Building a Model and Training IV\n",
        "1.   Training an Object Detection Model\n",
        "1.   Backpropagation I\n"
      ],
      "metadata": {
        "id": "LBdylWY8duaa"
      }
    },
    {
      "cell_type": "markdown",
      "source": [
        "\n",
        "### Day 7\n",
        "\n",
        "We'll finish by talking about initializations and ONNX (Open Neural Network Echange)\n",
        "\n",
        "1.   Backpropagation II\n",
        "1.   Backpropagation III\n",
        "1.   Backpropagation IV\n",
        "1.   Initializations\n"
      ],
      "metadata": {
        "id": "C83ZR4JOdpkL"
      }
    },
    {
      "cell_type": "markdown",
      "source": [
        "## Different Fields of AI"
      ],
      "metadata": {
        "id": "HwErTFZJPE9a"
      }
    },
    {
      "cell_type": "markdown",
      "source": [
        "There are a number of different areas that artificial intelligence is used.\n",
        "Lately, the trend has been towards using neural networks with many layers (we'll talk about this more, later).\n",
        "Here are some artificial intelligence fields:\n",
        "\n",
        "\n",
        "\n",
        "1.   Image Recognition\n",
        "1.   Object Detection\n",
        "1.   Semantic Segmentation\n",
        "1.   Generative image models (Dall-E, Midjourney, etc.)\n",
        "1.   Automatic speech recognition (speech-to-text)\n",
        "1.   Text-to-speech\n",
        "1.   Language modeling (chatGPT)\n",
        "1.   Text summarization\n",
        "1.   Machine translation\n",
        "1.   Autonomous driving\n",
        "1.   Optical character recognition (image to text)\n",
        "1.   Image super resolution\n",
        "1.   Protein folding prediction\n",
        "1.   Go\n",
        "1.   Chess\n",
        "1.   Recommendations"
      ],
      "metadata": {
        "id": "uMxE_ehIPPI9"
      }
    },
    {
      "cell_type": "markdown",
      "source": [
        "## Practical Applications of AI\n",
        "\n",
        "There are many fields that are finding a use for neural networks.\n",
        "\n",
        "1.   Agricultural\n",
        "1.   Wildland firefighting\n",
        "1.   Midjourney, Dalle-E, Stable Diffusion\n",
        "1.   Alexa, Siri, Cortana\n",
        "1.   ChatGPT, GPT-3, GPT-4\n",
        "1.   Google translate\n",
        "1.   Tesla, Cruise, Waymo\n",
        "1.   Adobe Acrobat Pro, Amazon Textract, Google Doc AI\n",
        "1.   Adobe's Super Resolution\n",
        "1.   Deepmind Alpha Fold\n",
        "1.   Deepmind Alpha Go\n",
        "1.   Stockfish\n",
        "1.   Amazon\n"
      ],
      "metadata": {
        "id": "UM5MA4Hgsvpt"
      }
    },
    {
      "cell_type": "markdown",
      "source": [
        "### Examples"
      ],
      "metadata": {
        "id": "K15j2a_Avf_N"
      }
    },
    {
      "cell_type": "markdown",
      "source": [
        "**Agricultural**\n",
        "\n",
        "Connecting the Plains: John Deere's automation, AI, and precision agriculture"
      ],
      "metadata": {
        "id": "BrkHlgrIvjjN"
      }
    },
    {
      "cell_type": "code",
      "source": [
        "YouTubeVideo(\"NmRE4LZlCew\", width=1024, height=740)"
      ],
      "metadata": {
        "id": "Sy_E-JAQt1p8"
      },
      "execution_count": null,
      "outputs": []
    },
    {
      "cell_type": "markdown",
      "source": [
        "Leveraging AI and NVIDIA GPUs to Advance Research in Crop Production"
      ],
      "metadata": {
        "id": "CLWPMUhL4pIU"
      }
    },
    {
      "cell_type": "code",
      "source": [
        "YouTubeVideo(\"hanqTQui498\", width=1024, height=740)"
      ],
      "metadata": {
        "id": "IWUw5vQT4np6"
      },
      "execution_count": null,
      "outputs": []
    },
    {
      "cell_type": "markdown",
      "source": [
        "**Autonomous Driving**\n",
        "\n",
        "Watch a Self-Driving Car Safely Maneuver Around Cyclists and Scooters in San Francisco"
      ],
      "metadata": {
        "id": "cIZhCvT6vnez"
      }
    },
    {
      "cell_type": "code",
      "source": [
        "YouTubeVideo(\"FALUkBKDw9o\", width=1024, height=740)"
      ],
      "metadata": {
        "colab": {
          "base_uri": "https://localhost:8080/",
          "height": 761
        },
        "id": "qpWSL_vItzNm",
        "outputId": "ceceddea-d1f4-4ebf-adba-5c6a256e83d3"
      },
      "execution_count": null,
      "outputs": [
        {
          "output_type": "execute_result",
          "data": {
            "text/plain": [
              "<IPython.lib.display.YouTubeVideo at 0x7efd36f3d720>"
            ],
            "text/html": [
              "\n",
              "        <iframe\n",
              "            width=\"1024\"\n",
              "            height=\"740\"\n",
              "            src=\"https://www.youtube.com/embed/FALUkBKDw9o\"\n",
              "            frameborder=\"0\"\n",
              "            allowfullscreen\n",
              "            \n",
              "        ></iframe>\n",
              "        "
            ],
            "image/jpeg": "[encoded data removed]"
          },
          "metadata": {},
          "execution_count": 8
        }
      ]
    },
    {
      "cell_type": "markdown",
      "source": [
        "**OCR**\n",
        "\n",
        "Nanonets Receipt OCR Demo"
      ],
      "metadata": {
        "id": "SppJP_uZgb-_"
      }
    },
    {
      "cell_type": "code",
      "source": [
        "YouTubeVideo(\"tel-nDHqS6c\", width=1024, height=740)"
      ],
      "metadata": {
        "id": "BqznYbJxgcXU"
      },
      "execution_count": null,
      "outputs": []
    },
    {
      "cell_type": "markdown",
      "source": [
        "**Generative AI**\n",
        "\n",
        "Harry Potter by Balenciaga"
      ],
      "metadata": {
        "id": "xO74o23VwBhz"
      }
    },
    {
      "cell_type": "code",
      "source": [
        "YouTubeVideo(\"iE39q-IKOzA\", width=1024, height=740)"
      ],
      "metadata": {
        "id": "i5aFGk8awPC_"
      },
      "execution_count": null,
      "outputs": []
    },
    {
      "cell_type": "markdown",
      "source": [
        "**Protein Folding Prediction**\n",
        "\n",
        "Protein folding explained"
      ],
      "metadata": {
        "id": "_QB1taxg4ge0"
      }
    },
    {
      "cell_type": "code",
      "source": [
        "YouTubeVideo(\"KpedmJdrTpY\", width=1024, height=740)"
      ],
      "metadata": {
        "id": "U-CRvDP62mxk"
      },
      "execution_count": null,
      "outputs": []
    },
    {
      "cell_type": "markdown",
      "source": [
        "## Machine Learning Distilled\n",
        "\n",
        "We'll use the framework from *Foundations of Machine Learning*:[^fn1]\n",
        "> Machine learning can be broadly defined as computational methods using experience to improve performance or to make accurate predictions.\n",
        "\n",
        "In our case, our computational methods will be neural networks, our experience will be labeled data, to make accurate predictions (where an object is located within a picture).\n",
        "\n",
        "Machine learning can be an incredibly complicated software engineering endeavor, but it can be boiled down to a few key points:\n",
        "*   data\n",
        "*   model\n",
        "*   training\n",
        "\n",
        "You have data that you want to make some sort of prediction or classification with. Maybe you have transaction data and you want to determine which are fraudulent. Maybe you have audio data and you want to output a text transcription. How do we make these predictions? We need a model that transforms the data somehow. Then, how do we pick which model to use? Typically, we choose a model that can be updated based feedback from the data. We call this model training.\n",
        "\n",
        "So, the model takes in data and then updates the model based on the data.\n",
        "\n",
        "In the next lecture, we'll introduce Image Recognition and go over an explicit example.\n",
        "\n",
        "[^fn1]: Mohri, Mehryar, Afshin Rostamizadeh, and Ameet Talwalkar. *Foundations of machine learning*. MIT press, 2018."
      ],
      "metadata": {
        "id": "a4p7Glya5Z2V"
      }
    },
    {
      "cell_type": "markdown",
      "source": [
        "## References"
      ],
      "metadata": {
        "id": "bfh3q1IJAbXm"
      }
    }
  ]
}