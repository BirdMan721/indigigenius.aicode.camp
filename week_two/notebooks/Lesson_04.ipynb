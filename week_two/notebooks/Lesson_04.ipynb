{
  "nbformat": 4,
  "nbformat_minor": 0,
  "metadata": {
    "colab": {
      "provenance": [],
      "gpuType": "T4"
    },
    "kernelspec": {
      "name": "python3",
      "display_name": "Python 3"
    },
    "language_info": {
      "name": "python"
    },
    "accelerator": "GPU",
    "gpuClass": "standard"
  },
  "cells": [
    {
      "cell_type": "code",
      "execution_count": null,
      "metadata": {
        "id": "QZ8ESjQdlopn"
      },
      "outputs": [],
      "source": [
        "import requests\n",
        "import time\n",
        "\n",
        "import numpy as np\n",
        "import torch\n",
        "import torchvision\n",
        "\n",
        "import matplotlib.pyplot as plt\n",
        "import torch.nn.functional as F\n",
        "\n",
        "from io import BytesIO\n",
        "from IPython.display import YouTubeVideo\n",
        "from PIL import Image"
      ]
    },
    {
      "cell_type": "markdown",
      "source": [
        "# Lakota AI Code Camp Lesson 04: Introduction to PyTorch\n",
        "\n",
        "PyTorch is a machine learning library of Python, designed for the research and development of machine learning, primarily neural networks.\n",
        "Modern research into neural networks uses large arrays of numbers that are optimized using gradient-based methods (you are not expected to know this, we will go into more detail about all of this later!).\n",
        "In addition, it allows the usage of graphics processing units (GPUs) to accelerate training.\n",
        "\n",
        "PyTorch was based off of the Torch library, which provided similar functionality as PyTorch.\n",
        "The major difference was that Torch was not interoperable with Python, whereas PyTorch is.\n",
        "In 2017, Torch stopped active development and the functionality was moved towards the PyTorch library.\n",
        "\n",
        "PyTorch was originally developed by Meta AI (then Facebook AI).\n",
        "Eventually, it became part of the Linux Foundation.\n"
      ],
      "metadata": {
        "id": "X31JoEE9uLRT"
      }
    },
    {
      "cell_type": "markdown",
      "source": [
        "## Review of Machine Learning\n",
        "\n",
        "Recall that we had machine learning boiled down to a few key points:\n",
        "*   data\n",
        "*   model\n",
        "*   training\n",
        "\n",
        "We need data converted to some numeric format.\n",
        "That numeric format is typically some array."
      ],
      "metadata": {
        "id": "ZttGTHvaC1wS"
      }
    },
    {
      "cell_type": "markdown",
      "source": [
        "## Major Components of PyTorch\n",
        "\n",
        "\n",
        "\n",
        "*   Creation of Tensors:\n",
        "\n",
        "        torch.Tensor\n",
        "*   Creation of neural network layers:\n",
        "\n",
        "        torch.nn\n",
        "*   Creation and access of datasets:\n",
        "\n",
        "        torch.utils.data\n",
        "*   Training of neural network:\n",
        "\n",
        "        torch.optim\n",
        "\n",
        "We'll go into detail in each of these in this lecture and more throughout the rest of the camp.\n",
        "We'll do this by replicating the LeNet image recognition model and we'll train it on the image recognition dataset MNIST (Modified National Institute of Standards).\n",
        "\n",
        "First, we'll:\n",
        "\n",
        "\n",
        "*   define what tensors are;\n",
        "*   go through some methods of creation;\n",
        "*   some methods of manipulating tensors.\n",
        "\n"
      ],
      "metadata": {
        "id": "jdd1TtgY_PlW"
      }
    },
    {
      "cell_type": "markdown",
      "source": [
        "## PyTorch Tensors\n",
        "\n",
        "### What are tensors?\n",
        "\n",
        "### Tensor Creation\n",
        "\n",
        "*   torch.tensor()\n",
        "*   from_numpy\n",
        "*   zeroes/zerolike\n",
        "*   ones\n",
        "*   arange\n",
        "*   eye\n",
        "*   empty/empty_like\n",
        "\n",
        "The easiest method to call a tensor is:"
      ],
      "metadata": {
        "id": "wX8k5SUvpUya"
      }
    },
    {
      "cell_type": "code",
      "source": [
        "a = torch.tensor([1, 2, 3])\n",
        "print(a)"
      ],
      "metadata": {
        "colab": {
          "base_uri": "https://localhost:8080/"
        },
        "id": "i5Js6MgspW1k",
        "outputId": "3ec1b2c7-1ea2-4929-b8be-7dfa2b5f69ce"
      },
      "execution_count": null,
      "outputs": [
        {
          "output_type": "stream",
          "name": "stdout",
          "text": [
            "tensor([1, 2, 3])\n"
          ]
        }
      ]
    },
    {
      "cell_type": "markdown",
      "source": [
        "We can make a tensor from a numpy ndarray."
      ],
      "metadata": {
        "id": "BtsbtYGT_nhk"
      }
    },
    {
      "cell_type": "code",
      "source": [
        "torch.tensor(np.array([1, 2, 3]))"
      ],
      "metadata": {
        "colab": {
          "base_uri": "https://localhost:8080/"
        },
        "id": "Cs5So7vM_r6S",
        "outputId": "b83348d2-b4e5-47bd-c60e-3330d8fe2a17"
      },
      "execution_count": null,
      "outputs": [
        {
          "output_type": "execute_result",
          "data": {
            "text/plain": [
              "tensor([1, 2, 3])"
            ]
          },
          "metadata": {},
          "execution_count": 45
        }
      ]
    },
    {
      "cell_type": "markdown",
      "source": [
        "We can create a tensor of all zeroes."
      ],
      "metadata": {
        "id": "3q0lCKZW_u5_"
      }
    },
    {
      "cell_type": "code",
      "source": [
        "torch.zeros(size=(1, 3))"
      ],
      "metadata": {
        "colab": {
          "base_uri": "https://localhost:8080/"
        },
        "id": "qOR4erZd_yKt",
        "outputId": "897a22c7-6850-43cc-aac3-822de071df9f"
      },
      "execution_count": null,
      "outputs": [
        {
          "output_type": "execute_result",
          "data": {
            "text/plain": [
              "tensor([[0., 0., 0.]])"
            ]
          },
          "metadata": {},
          "execution_count": 46
        }
      ]
    },
    {
      "cell_type": "code",
      "source": [
        "torch.zeros_like(a)"
      ],
      "metadata": {
        "colab": {
          "base_uri": "https://localhost:8080/"
        },
        "id": "goQrr1_w_6Vw",
        "outputId": "aef42516-78ee-4f44-8e1f-1ae32175533b"
      },
      "execution_count": null,
      "outputs": [
        {
          "output_type": "execute_result",
          "data": {
            "text/plain": [
              "tensor([0, 0, 0])"
            ]
          },
          "metadata": {},
          "execution_count": 47
        }
      ]
    },
    {
      "cell_type": "markdown",
      "source": [
        "We can create a tensor will all ones."
      ],
      "metadata": {
        "id": "PTAVdB4y_1RM"
      }
    },
    {
      "cell_type": "code",
      "source": [
        "torch.ones(size=(1, 3))"
      ],
      "metadata": {
        "colab": {
          "base_uri": "https://localhost:8080/"
        },
        "id": "esgZzVOe_3OM",
        "outputId": "e8446964-26e8-4798-9b09-b313475be590"
      },
      "execution_count": null,
      "outputs": [
        {
          "output_type": "execute_result",
          "data": {
            "text/plain": [
              "tensor([[1., 1., 1.]])"
            ]
          },
          "metadata": {},
          "execution_count": 48
        }
      ]
    },
    {
      "cell_type": "code",
      "source": [
        "torch.ones_like(a)"
      ],
      "metadata": {
        "colab": {
          "base_uri": "https://localhost:8080/"
        },
        "id": "JExOUwuKAC05",
        "outputId": "ad9dbb8a-6af7-4bab-ec68-179b3fbf003f"
      },
      "execution_count": null,
      "outputs": [
        {
          "output_type": "execute_result",
          "data": {
            "text/plain": [
              "tensor([1, 1, 1])"
            ]
          },
          "metadata": {},
          "execution_count": 49
        }
      ]
    },
    {
      "cell_type": "markdown",
      "source": [
        "We can make a tensor that's empty, that is it doesn't initialize the data. Whatever is there is put into the tensor."
      ],
      "metadata": {
        "id": "fYqr6buOAdMH"
      }
    },
    {
      "cell_type": "code",
      "source": [
        "torch.empty(size=(1, 3))"
      ],
      "metadata": {
        "colab": {
          "base_uri": "https://localhost:8080/"
        },
        "id": "DgMgzmLLAkcw",
        "outputId": "2096a7c0-2880-42c1-df07-b36fae738299"
      },
      "execution_count": null,
      "outputs": [
        {
          "output_type": "execute_result",
          "data": {
            "text/plain": [
              "tensor([[-5.8833e+07,  0.0000e+00,  2.0199e+35]])"
            ]
          },
          "metadata": {},
          "execution_count": 50
        }
      ]
    },
    {
      "cell_type": "code",
      "source": [
        "torch.empty_like(a)"
      ],
      "metadata": {
        "colab": {
          "base_uri": "https://localhost:8080/"
        },
        "id": "UvXcUZxrAlM4",
        "outputId": "8a4c5ea0-9e93-4f9a-bbcb-1650f11b924d"
      },
      "execution_count": null,
      "outputs": [
        {
          "output_type": "execute_result",
          "data": {
            "text/plain": [
              "tensor([2852406800, 2885827888,         80])"
            ]
          },
          "metadata": {},
          "execution_count": 51
        }
      ]
    },
    {
      "cell_type": "markdown",
      "source": [
        "We can make a range, like Python's range."
      ],
      "metadata": {
        "id": "catZt8TwAEVI"
      }
    },
    {
      "cell_type": "code",
      "source": [
        "torch.arange(0, 10, step=2)"
      ],
      "metadata": {
        "colab": {
          "base_uri": "https://localhost:8080/"
        },
        "id": "_fEziz_8AIp9",
        "outputId": "ef7c32ee-bccb-4b90-a894-443fbab91913"
      },
      "execution_count": null,
      "outputs": [
        {
          "output_type": "execute_result",
          "data": {
            "text/plain": [
              "tensor([0, 2, 4, 6, 8])"
            ]
          },
          "metadata": {},
          "execution_count": 52
        }
      ]
    },
    {
      "cell_type": "markdown",
      "source": [
        "We can make an array with ones on the diagonal and zeroes everywhere."
      ],
      "metadata": {
        "id": "PAfNHLkkAMlm"
      }
    },
    {
      "cell_type": "code",
      "source": [
        "torch.eye(3)"
      ],
      "metadata": {
        "colab": {
          "base_uri": "https://localhost:8080/"
        },
        "id": "PtFfFsleAWK_",
        "outputId": "94a7c89f-d7f8-413b-b1c9-36e648ef95ab"
      },
      "execution_count": null,
      "outputs": [
        {
          "output_type": "execute_result",
          "data": {
            "text/plain": [
              "tensor([[1., 0., 0.],\n",
              "        [0., 1., 0.],\n",
              "        [0., 0., 1.]])"
            ]
          },
          "metadata": {},
          "execution_count": 54
        }
      ]
    },
    {
      "cell_type": "code",
      "source": [
        "torch.eye(4)"
      ],
      "metadata": {
        "colab": {
          "base_uri": "https://localhost:8080/"
        },
        "id": "hlgDX07CAZqf",
        "outputId": "706fc6b3-4dea-42c2-fbc5-ee024406f169"
      },
      "execution_count": null,
      "outputs": [
        {
          "output_type": "execute_result",
          "data": {
            "text/plain": [
              "tensor([[1., 0., 0., 0.],\n",
              "        [0., 1., 0., 0.],\n",
              "        [0., 0., 1., 0.],\n",
              "        [0., 0., 0., 1.]])"
            ]
          },
          "metadata": {},
          "execution_count": 55
        }
      ]
    },
    {
      "cell_type": "code",
      "source": [
        "torch.eye(3, 4)"
      ],
      "metadata": {
        "colab": {
          "base_uri": "https://localhost:8080/"
        },
        "id": "SDlIjTeMEQZb",
        "outputId": "5149ed01-5177-4c38-abdc-205c48761864"
      },
      "execution_count": null,
      "outputs": [
        {
          "output_type": "execute_result",
          "data": {
            "text/plain": [
              "tensor([[1., 0., 0., 0.],\n",
              "        [0., 1., 0., 0.],\n",
              "        [0., 0., 1., 0.]])"
            ]
          },
          "metadata": {},
          "execution_count": 57
        }
      ]
    },
    {
      "cell_type": "markdown",
      "source": [
        "### Tensor Manipulation\n",
        "\n",
        "*   concat/cat/concatenate\n",
        "*   hstack\n",
        "*   vstack\n",
        "*   permute\n",
        "*   flaten\n",
        "*   reshape\n",
        "*   squeeze\n",
        "*   unsqueeze\n",
        "\n",
        "torch.concat/torch.cat/torch.concatenate all do the same thing. Concatenate several tensors together."
      ],
      "metadata": {
        "id": "fWrCaLUxrMq0"
      }
    },
    {
      "cell_type": "code",
      "source": [
        "b = torch.cat((a, a, a))"
      ],
      "metadata": {
        "id": "eCMXHZIfrttr"
      },
      "execution_count": null,
      "outputs": []
    },
    {
      "cell_type": "code",
      "source": [
        "b"
      ],
      "metadata": {
        "colab": {
          "base_uri": "https://localhost:8080/"
        },
        "id": "elmtNQXfA6-g",
        "outputId": "805fba90-b362-407f-d86e-327b945275eb"
      },
      "execution_count": null,
      "outputs": [
        {
          "output_type": "execute_result",
          "data": {
            "text/plain": [
              "tensor([1, 2, 3, 1, 2, 3, 1, 2, 3])"
            ]
          },
          "metadata": {},
          "execution_count": 59
        }
      ]
    },
    {
      "cell_type": "markdown",
      "source": [
        "hstack is a horizontal stack."
      ],
      "metadata": {
        "id": "BRZLennqA9T4"
      }
    },
    {
      "cell_type": "code",
      "source": [
        "torch.hstack((a, a, a))"
      ],
      "metadata": {
        "colab": {
          "base_uri": "https://localhost:8080/"
        },
        "id": "DZjFUywuBIo5",
        "outputId": "d0629634-9c19-4de5-faaf-3fd034236067"
      },
      "execution_count": null,
      "outputs": [
        {
          "output_type": "execute_result",
          "data": {
            "text/plain": [
              "tensor([1, 2, 3, 1, 2, 3, 1, 2, 3])"
            ]
          },
          "metadata": {},
          "execution_count": 60
        }
      ]
    },
    {
      "cell_type": "markdown",
      "source": [
        "vstack is a vertical stack."
      ],
      "metadata": {
        "id": "ZkMY9vMXBMcY"
      }
    },
    {
      "cell_type": "code",
      "source": [
        "torch.vstack((a, a, a))"
      ],
      "metadata": {
        "colab": {
          "base_uri": "https://localhost:8080/"
        },
        "id": "X37xF7PSBLSx",
        "outputId": "88fccd1c-ea5c-4655-ff03-be6b33d40484"
      },
      "execution_count": null,
      "outputs": [
        {
          "output_type": "execute_result",
          "data": {
            "text/plain": [
              "tensor([[1, 2, 3],\n",
              "        [1, 2, 3],\n",
              "        [1, 2, 3]])"
            ]
          },
          "metadata": {},
          "execution_count": 61
        }
      ]
    },
    {
      "cell_type": "markdown",
      "source": [
        "torch.permute changes the dimensions."
      ],
      "metadata": {
        "id": "Fne7qdndBR2b"
      }
    },
    {
      "cell_type": "code",
      "source": [
        "img_src = \"https://learn.microsoft.com/en-us/azure/cognitive-services/computer-vision/images/windows-kitchen.jpg\"\n",
        "\n",
        "resp = requests.get(img_src)\n",
        "\n",
        "img = Image.open(BytesIO(resp.content))\n",
        "\n",
        "img_array = np.asarray(img)\n",
        "\n",
        "img_tensor = torch.tensor(img_array)"
      ],
      "metadata": {
        "id": "MnKgaBzoBRS5"
      },
      "execution_count": null,
      "outputs": []
    },
    {
      "cell_type": "code",
      "source": [
        "c = torch.permute(img_tensor, (2, 0, 1))"
      ],
      "metadata": {
        "id": "HnMcxbmqCA-7"
      },
      "execution_count": null,
      "outputs": []
    },
    {
      "cell_type": "code",
      "source": [
        "print(img_tensor.shape, c.shape)"
      ],
      "metadata": {
        "colab": {
          "base_uri": "https://localhost:8080/"
        },
        "id": "iLBVWQGbCLA0",
        "outputId": "a49e4eca-4b91-40bc-85e0-4c3f8e6602e8"
      },
      "execution_count": null,
      "outputs": [
        {
          "output_type": "stream",
          "name": "stdout",
          "text": [
            "torch.Size([473, 1260, 3]) torch.Size([3, 473, 1260])\n"
          ]
        }
      ]
    },
    {
      "cell_type": "markdown",
      "source": [
        "Flatten turns a multi-dimensional tensor into a a 1-dimensional tensor."
      ],
      "metadata": {
        "id": "G-oC0lzwCXw8"
      }
    },
    {
      "cell_type": "code",
      "source": [
        "d = torch.flatten(c)"
      ],
      "metadata": {
        "id": "ZIBA_pRYCgvI"
      },
      "execution_count": null,
      "outputs": []
    },
    {
      "cell_type": "code",
      "source": [
        "d.shape"
      ],
      "metadata": {
        "colab": {
          "base_uri": "https://localhost:8080/"
        },
        "id": "E5tkFWjVCSqb",
        "outputId": "016010f9-dff2-42d2-88bd-5e8fcc8c02a1"
      },
      "execution_count": null,
      "outputs": [
        {
          "output_type": "execute_result",
          "data": {
            "text/plain": [
              "torch.Size([1787940])"
            ]
          },
          "metadata": {},
          "execution_count": 70
        }
      ]
    },
    {
      "cell_type": "markdown",
      "source": [
        "Reshape, allows us to change a tensor into any shape as long as the product of the dimensions match."
      ],
      "metadata": {
        "id": "xtZbvVtnCgIw"
      }
    },
    {
      "cell_type": "code",
      "source": [
        "e = d.reshape(img_tensor.shape)"
      ],
      "metadata": {
        "id": "cntkus5qCn2W"
      },
      "execution_count": null,
      "outputs": []
    },
    {
      "cell_type": "code",
      "source": [
        "e.shape"
      ],
      "metadata": {
        "colab": {
          "base_uri": "https://localhost:8080/"
        },
        "id": "k2ByPmIVCtiB",
        "outputId": "ea6b3b27-756c-4289-ce1b-81f6697eddc4"
      },
      "execution_count": null,
      "outputs": [
        {
          "output_type": "execute_result",
          "data": {
            "text/plain": [
              "torch.Size([473, 1260, 3])"
            ]
          },
          "metadata": {},
          "execution_count": 72
        }
      ]
    },
    {
      "cell_type": "markdown",
      "source": [
        "Squeeze gets rid of a dimension and unsqueeze adds a dimension."
      ],
      "metadata": {
        "id": "Dl3gxzH2C0DQ"
      }
    },
    {
      "cell_type": "code",
      "source": [
        "f = e.unsqueeze(0)"
      ],
      "metadata": {
        "id": "f_nfTbkDC3KS"
      },
      "execution_count": null,
      "outputs": []
    },
    {
      "cell_type": "code",
      "source": [
        "f.shape"
      ],
      "metadata": {
        "colab": {
          "base_uri": "https://localhost:8080/"
        },
        "id": "6zBjUXZ0C7In",
        "outputId": "ac93bda4-a8c9-4fb5-ad6c-fd4f0d47b7e8"
      },
      "execution_count": null,
      "outputs": [
        {
          "output_type": "execute_result",
          "data": {
            "text/plain": [
              "torch.Size([1, 473, 1260, 3])"
            ]
          },
          "metadata": {},
          "execution_count": 74
        }
      ]
    },
    {
      "cell_type": "code",
      "source": [
        "g = f.squeeze(0)"
      ],
      "metadata": {
        "id": "AOBn3oo9C8Tv"
      },
      "execution_count": null,
      "outputs": []
    },
    {
      "cell_type": "code",
      "source": [
        "g.shape"
      ],
      "metadata": {
        "colab": {
          "base_uri": "https://localhost:8080/"
        },
        "id": "9GHPb3n-C_hq",
        "outputId": "b563c0ad-63aa-4303-db09-a727eee3e51c"
      },
      "execution_count": null,
      "outputs": [
        {
          "output_type": "execute_result",
          "data": {
            "text/plain": [
              "torch.Size([473, 1260, 3])"
            ]
          },
          "metadata": {},
          "execution_count": 76
        }
      ]
    },
    {
      "cell_type": "markdown",
      "source": [
        "## torch.nn\n",
        "\n",
        "This portion of the PyTorch library deals with the actual portions of the neural network layers.\n",
        "In particular, almost everything will be a subclass of the\n",
        "```\n",
        "torch.nn.Module\n",
        "```\n",
        "class.\n",
        "This includes our neural network layers, our activation functions, and even our models themselves.\n",
        "The Module has several methods that we will be using throughout the course:\n",
        "*   Parameters (not to be confused with the parameter of a function) are arrays of numbers. Typically they are used with matrix operations (we'll go into a lot of detail about matrix operations over the next several classes) or convolutional operations.\n",
        "        self.parameters\n",
        "*   The state_dict is short for the state dictionary. When we are training a neural network, we're interested in changing the parameters so they give us a better function, in some sense.\n",
        "So, we want to keep parameters that are **good** and the state_dict class variable allows us to do that along with the load_state_dict parameters allow us to do that.\n",
        "        self.state_dict\n",
        "        self.load_state_dict\n",
        "*   This methods takes a torch.device object as a parameter. A torch.device object tells us if we're using a computer (CPU), a graphics processing unit (GPU), or some other accelerator (Google's tensor processing unit (TPU), for example).\n",
        "This method allows us to move all of our parameters to whichever device we want to train on.\n",
        "        self.cuda\n",
        "*   To train a neural network, we need to keep track of something called a gradient.\n",
        "This requires a lot of overhead and extra memory, so PyTorch allows us to say whether or not we want to use keep track of these gradients by using the requires_grad method.\n",
        "The train and eval methods tell us if we want to set up the Module for training or evaluation.\n",
        "We do not need gradients for evaluation.\n",
        "        self.requires_grad\n",
        "        self.train\n",
        "        self.eval\n",
        "\n",
        "We'll describe the architecture of LeNet.\n",
        "We'll use the following layers:\n",
        "\n",
        "*   Convolutional layer\n",
        "\n",
        "        torch.nn.Conv2d\n",
        "*   Pooling layers\n",
        "\n",
        "        torch.nn.AvgPool2d\n",
        "*   Fully connected layers\n",
        "\n",
        "        torch.nn.Linear\n",
        "*   Activation functions\n",
        "\n",
        "        torch.nn.Tanh\n",
        "        torch.nn.ReLU"
      ],
      "metadata": {
        "id": "OLel_lsmruF2"
      }
    },
    {
      "cell_type": "code",
      "source": [
        "class LeNet(torch.nn.Module):\n",
        "\n",
        "    def __init__(self):\n",
        "        super().__init__()\n",
        "\n",
        "        self.conv1 = torch.nn.Conv2d(in_channels=3,\n",
        "                                     out_channels=6,\n",
        "                                     kernel_size=5,\n",
        "                                     padding=2)\n",
        "        self.conv2 = torch.nn.Conv2d(in_channels=6,\n",
        "                                     out_channels=16,\n",
        "                                     kernel_size=5)\n",
        "        self.pool = torch.nn.AvgPool2d(kernel_size=2,\n",
        "                                       stride=2)\n",
        "        self.fc1 = torch.nn.Linear(in_features=576,\n",
        "                                   out_features=120)\n",
        "        self.fc2 = torch.nn.Linear(in_features=120,\n",
        "                                   out_features=84)\n",
        "        self.fc3 = torch.nn.Linear(in_features=84,\n",
        "                                   out_features=10)\n",
        "        self.activation = torch.nn.Tanh()\n",
        "\n",
        "    def forward(self, x):\n",
        "        x = self.conv1(x)\n",
        "        x = self.activation(x)\n",
        "        x = self.pool(x)\n",
        "        x = self.conv2(x)\n",
        "        x = self.activation(x)\n",
        "        x = self.pool(x)\n",
        "        x = torch.flatten(x, start_dim=1)\n",
        "        x = self.fc1(x)\n",
        "        x = self.activation(x)\n",
        "        x = self.fc2(x)\n",
        "        x = self.activation(x)\n",
        "        x = self.fc3(x)\n",
        "        x = self.activation(x)\n",
        "        return x\n"
      ],
      "metadata": {
        "id": "v_oAQTrhrzU4"
      },
      "execution_count": null,
      "outputs": []
    },
    {
      "cell_type": "code",
      "source": [
        "model = LeNet()"
      ],
      "metadata": {
        "id": "tSj6GRnNbpj2"
      },
      "execution_count": null,
      "outputs": []
    },
    {
      "cell_type": "markdown",
      "source": [
        "## torch.utils.data\n",
        "\n",
        "Now that we have a model, we need data to train the model on.\n",
        "PyTorch has a dataset class and a dataloader class.\n",
        "\n",
        "The dataset class\n",
        "\n",
        "        torch.utils.data.Dataset\n",
        "is essentially an iterable.\n",
        "Each index of the dataset yields an input and a target.\n",
        "The input could be an image, text, video, audio, etc.\n",
        "The target is just some label that we want to give that image.\n",
        "For image recognition, it's the name of an object.\n",
        "For object detection, it's the name of the objects in the picture, paired with a bounding box or contour.\n",
        "\n",
        "The dataset class is sufficient to train a neural network, but it's not as efficient.\n",
        "That's where the dataloader class comes in.\n",
        "The dataloader class takes a dataset as input and outputs a generator that gives us batched data.\n",
        "If we tell it to give us batches of 4, then it will give us 4 images, for example, with their corresponding targets.\n",
        "In particular, it allows us to use as much of the GPU memory as possible.\n",
        "\n",
        "Let's get the CIFAR10 dataset."
      ],
      "metadata": {
        "id": "74VD73SzbkGx"
      }
    },
    {
      "cell_type": "markdown",
      "source": [
        "These are the classes in the dataset."
      ],
      "metadata": {
        "id": "BLsLUflJ5aIn"
      }
    },
    {
      "cell_type": "code",
      "source": [
        "class_list = ('airplane', 'automobile', 'bird', 'cat', 'deer', 'dog', 'frog', 'horse', 'ship', 'truck')"
      ],
      "metadata": {
        "id": "ZHYkbD4C44hB"
      },
      "execution_count": null,
      "outputs": []
    },
    {
      "cell_type": "markdown",
      "source": [
        "While\n",
        "\n",
        "        torchvision.datasets.CIFAR10\n",
        " isn't a\n",
        "\n",
        "        torch.utils.data.Dataset\n",
        "class, it is a subclass of it.\n",
        "We'll download it into the\n",
        "\n",
        "        ./data\n"
      ],
      "metadata": {
        "id": "_TZYJqZt5b53"
      }
    },
    {
      "cell_type": "code",
      "source": [
        "normalize_ds = torchvision.datasets.CIFAR10(root='./data',\n",
        "                                            train=True,\n",
        "                                            download=True,\n",
        "                                            transform=torchvision.transforms.ToTensor(),\n",
        "                                            )\n",
        "normalize_dl = torch.utils.data.DataLoader(normalize_ds,\n",
        "                                           batch_size=len(normalize_ds),\n",
        "                                           shuffle=True,\n",
        "                                           num_workers=0)"
      ],
      "metadata": {
        "colab": {
          "base_uri": "https://localhost:8080/"
        },
        "id": "eMhQRsjI5HAC",
        "outputId": "925626e0-89ac-48c6-e679-e0ba8209106b"
      },
      "execution_count": null,
      "outputs": [
        {
          "output_type": "stream",
          "name": "stdout",
          "text": [
            "Files already downloaded and verified\n"
          ]
        }
      ]
    },
    {
      "cell_type": "markdown",
      "source": [
        "We're going to normalize the data, which means that we subtract off the mean of the data and divide by the standard deviation of the data."
      ],
      "metadata": {
        "id": "rEeDyBCI7BiO"
      }
    },
    {
      "cell_type": "code",
      "source": [
        "for data, _ in normalize_dl:\n",
        "    mean = torch.mean(data, (0, 2, 3))\n",
        "    std = torch.std(data, (0, 2, 3))"
      ],
      "metadata": {
        "id": "ovFElfPL5IzO"
      },
      "execution_count": null,
      "outputs": []
    },
    {
      "cell_type": "markdown",
      "source": [
        "We want the data to be a torch.Tensor object and then normalized."
      ],
      "metadata": {
        "id": "nK4kZX087XHG"
      }
    },
    {
      "cell_type": "code",
      "source": [
        "transform = torchvision.transforms.Compose(\n",
        "    [torchvision.transforms.ToTensor(),\n",
        "     torchvision.transforms.Normalize(mean=mean, std=std),\n",
        "    ]\n",
        ")"
      ],
      "metadata": {
        "id": "uheLSx_75LZv"
      },
      "execution_count": null,
      "outputs": []
    },
    {
      "cell_type": "markdown",
      "source": [
        "We get a train dataset and a test dataset."
      ],
      "metadata": {
        "id": "MINGlD-W7eUZ"
      }
    },
    {
      "cell_type": "code",
      "source": [
        "train_ds = torchvision.datasets.CIFAR10(root='./data', train=True, transform=transform)\n",
        "test_ds = torchvision.datasets.CIFAR10(root='./data', train=False, transform=transform)"
      ],
      "metadata": {
        "id": "861bT5C65NgS"
      },
      "execution_count": null,
      "outputs": []
    },
    {
      "cell_type": "markdown",
      "source": [
        "We get the train DataLoader and the test DataLoader."
      ],
      "metadata": {
        "id": "vrT6Vp7G7jXz"
      }
    },
    {
      "cell_type": "code",
      "source": [
        "train_loader = torch.utils.data.DataLoader(train_ds,\n",
        "                                          batch_size=len(train_ds),\n",
        "                                          shuffle=True,\n",
        "                                          num_workers=0,\n",
        "                                          pin_memory=False)\n",
        "test_loader = torch.utils.data.DataLoader(test_ds,\n",
        "                                          batch_size=len(test_ds),\n",
        "                                          shuffle=True,\n",
        "                                          num_workers=0,\n",
        "                                          pin_memory=False)"
      ],
      "metadata": {
        "id": "lrO5napK5PO8"
      },
      "execution_count": null,
      "outputs": []
    },
    {
      "cell_type": "markdown",
      "source": [
        "This is a helper function to let us look at what's in the dataset."
      ],
      "metadata": {
        "id": "fTlfcQQy7m-U"
      }
    },
    {
      "cell_type": "code",
      "source": [
        "def imshow(img, label=None, class_list=class_list):\n",
        "    # Pytorch has images in Channel x height x width, this converts to h x w x c\n",
        "    img = img.numpy().transpose((1, 2, 0))\n",
        "    mean = np.array([0.4914, 0.4822, 0.4465])\n",
        "    std = np.array([0.2470, 0.2435, 0.2616])\n",
        "    # undo the normalization\n",
        "    img = std * img + mean\n",
        "    # ensure that array is in the proper range to show the image.\n",
        "    img = np.clip(img, 0, 1)\n",
        "    plt.imshow(img)\n",
        "    if label is not None:\n",
        "        # label is assumed to be a (1, ) tensor\n",
        "        label = label.item()\n",
        "        label = class_list[label]\n",
        "        plt.title(label)\n",
        "    plt.pause(0.001)"
      ],
      "metadata": {
        "id": "r66MqmU45UnY"
      },
      "execution_count": null,
      "outputs": []
    },
    {
      "cell_type": "code",
      "source": [
        "images, classes = next(iter(train_loader))"
      ],
      "metadata": {
        "id": "mjyhWUbl7rqH"
      },
      "execution_count": null,
      "outputs": []
    },
    {
      "cell_type": "code",
      "source": [
        "images.shape"
      ],
      "metadata": {
        "colab": {
          "base_uri": "https://localhost:8080/"
        },
        "id": "OWPO0nIa7tK_",
        "outputId": "f9c783ec-20b7-4c4b-f4d9-2d99b86359d0"
      },
      "execution_count": null,
      "outputs": [
        {
          "output_type": "execute_result",
          "data": {
            "text/plain": [
              "torch.Size([50000, 3, 32, 32])"
            ]
          },
          "metadata": {},
          "execution_count": 34
        }
      ]
    },
    {
      "cell_type": "code",
      "source": [
        "num = num = torch.randint(low=0, high=len(train_ds) + 1, size=(1, )).item()\n",
        "imshow(images[num], classes[num])"
      ],
      "metadata": {
        "colab": {
          "base_uri": "https://localhost:8080/",
          "height": 452
        },
        "id": "RcA_PJU27t1G",
        "outputId": "4447b058-5e05-4dfb-fed4-fde9f05ba2bb"
      },
      "execution_count": null,
      "outputs": [
        {
          "output_type": "display_data",
          "data": {
            "text/plain": [
              "<Figure size 640x480 with 1 Axes>"
            ],
            "image/png": "[encoded data removed]"
          },
          "metadata": {}
        }
      ]
    },
    {
      "cell_type": "markdown",
      "source": [
        "This is a helper function gives us the prediction."
      ],
      "metadata": {
        "id": "-hYU2fuF7377"
      }
    },
    {
      "cell_type": "code",
      "source": [
        "def make_prediction(model, image, class_list=class_list):\n",
        "\n",
        "    image = image.unsqueeze(0)\n",
        "    pred = model(image)\n",
        "    pred = torch.argmax(pred)\n",
        "    return class_list[pred]"
      ],
      "metadata": {
        "id": "iqA-kk4g76jt"
      },
      "execution_count": null,
      "outputs": []
    },
    {
      "cell_type": "code",
      "source": [
        "make_prediction(model, images[num])"
      ],
      "metadata": {
        "colab": {
          "base_uri": "https://localhost:8080/",
          "height": 35
        },
        "id": "jELvIj-78C-T",
        "outputId": "cac69f89-66d1-491b-8817-4ff3da1dc6df"
      },
      "execution_count": null,
      "outputs": [
        {
          "output_type": "execute_result",
          "data": {
            "text/plain": [
              "'horse'"
            ],
            "application/vnd.google.colaboratory.intrinsic+json": {
              "type": "string"
            }
          },
          "metadata": {},
          "execution_count": 37
        }
      ]
    },
    {
      "cell_type": "markdown",
      "source": [
        "This is a helper function that let's us train a model."
      ],
      "metadata": {
        "id": "1YZQhiD_8FZT"
      }
    },
    {
      "cell_type": "code",
      "source": [
        "def train(model, train_loader, criterion, opt, epochs=10):\n",
        "    history = []\n",
        "    device = torch.device('cuda:0' if torch.cuda.is_available() else 'cpu')\n",
        "    model.to(device)\n",
        "\n",
        "    print(\"Epoch | Batch | Time(s) | Loss\")\n",
        "    print(\"------------------------------\")\n",
        "\n",
        "    step = 0\n",
        "\n",
        "    for epoch in range(epochs):\n",
        "        running_loss = 0.0\n",
        "        t = time.time()\n",
        "\n",
        "        for i, (inputs, label) in enumerate(train_loader, 0):\n",
        "            inputs, label = inputs.to(device), label.to(device)\n",
        "\n",
        "            opt.zero_grad(set_to_none=True)\n",
        "\n",
        "            outputs = model(inputs)\n",
        "            loss = criterion(outputs, label)\n",
        "\n",
        "            loss.backward()\n",
        "            opt.step()\n",
        "\n",
        "            running_loss += loss.item()\n",
        "            step += 1\n",
        "            history.append((step, loss))\n",
        "\n",
        "        t = time.time() - t\n",
        "        print(f\"{epoch + 1:5d} | {i:5d} | {int(t):8d} | {running_loss:.5f}\")\n",
        "        running_loss = 0\n",
        "\n",
        "    return history"
      ],
      "metadata": {
        "id": "C7EvX2bd8JID"
      },
      "execution_count": null,
      "outputs": []
    },
    {
      "cell_type": "markdown",
      "source": [
        "This is a helper function that evaulates how well our model did."
      ],
      "metadata": {
        "id": "vezGntZT8Ld0"
      }
    },
    {
      "cell_type": "code",
      "source": [
        "def evaluate(model, testloader):\n",
        "    model.eval()\n",
        "    correct = 0\n",
        "    total = 0\n",
        "\n",
        "    with torch.no_grad():\n",
        "        for inputs, label in test_loader:\n",
        "            inputs, label = inputs.to(device), label.to(device)\n",
        "            outputs = model(inputs)\n",
        "\n",
        "            _, predicted = torch.max(outputs.data, 1)\n",
        "            total += label.size(0)\n",
        "            correct += (predicted == label).sum().item()\n",
        "\n",
        "    print(f'Accuracy of the network on 10000 test images: {100 * correct // total} %')\n",
        "    return 100 * correct // total"
      ],
      "metadata": {
        "id": "Xb1_hnPt8OoZ"
      },
      "execution_count": null,
      "outputs": []
    },
    {
      "cell_type": "markdown",
      "source": [
        "We're putting it on the GPU if we can put it on the GPU, otherwise, we're putting it on the CPU."
      ],
      "metadata": {
        "id": "YDFsRGHd8QbY"
      }
    },
    {
      "cell_type": "code",
      "source": [
        "device = torch.device('cuda:0' if torch.cuda.is_available() else 'cpu')\n",
        "print(device)\n",
        "model = model.to(device)\n",
        "\n",
        "criterion = torch.nn.CrossEntropyLoss()\n",
        "opt = torch.optim.SGD(model.parameters(), lr=1e-1, momentum=0.9)"
      ],
      "metadata": {
        "colab": {
          "base_uri": "https://localhost:8080/"
        },
        "id": "cuGSLcE_8UWL",
        "outputId": "8adf2d07-c227-467c-e5ed-32f1e35710ee"
      },
      "execution_count": null,
      "outputs": [
        {
          "output_type": "stream",
          "name": "stdout",
          "text": [
            "cuda:0\n"
          ]
        }
      ]
    },
    {
      "cell_type": "markdown",
      "source": [
        "We'll evaulate before training."
      ],
      "metadata": {
        "id": "eu_LtlkP8V4C"
      }
    },
    {
      "cell_type": "code",
      "source": [
        "evaluate(model, test_loader)"
      ],
      "metadata": {
        "colab": {
          "base_uri": "https://localhost:8080/"
        },
        "id": "cxVWljJx8Xqx",
        "outputId": "0902934b-3137-429a-fdc1-4307e32d7336"
      },
      "execution_count": null,
      "outputs": [
        {
          "output_type": "stream",
          "name": "stdout",
          "text": [
            "Accuracy of the network on 10000 test images: 7 %\n"
          ]
        },
        {
          "output_type": "execute_result",
          "data": {
            "text/plain": [
              "7"
            ]
          },
          "metadata": {},
          "execution_count": 41
        }
      ]
    },
    {
      "cell_type": "markdown",
      "source": [
        "Now, we train the model."
      ],
      "metadata": {
        "id": "SaWBw2hD8YQo"
      }
    },
    {
      "cell_type": "code",
      "source": [
        "history = train(model, train_loader, criterion, opt, epochs=10)"
      ],
      "metadata": {
        "colab": {
          "base_uri": "https://localhost:8080/"
        },
        "id": "kLb0s_mS8bVL",
        "outputId": "e704b0d6-abae-4795-ab10-aa629381e6ad"
      },
      "execution_count": null,
      "outputs": [
        {
          "output_type": "stream",
          "name": "stdout",
          "text": [
            "Epoch | Batch | Time(s) | Loss\n",
            "------------------------------\n",
            "    1 |     0 |       14 | 2.30390\n",
            "    2 |     0 |       13 | 2.30206\n",
            "    3 |     0 |       13 | 2.29853\n",
            "    4 |     0 |       21 | 2.29327\n",
            "    5 |     0 |       13 | 2.28580\n",
            "    6 |     0 |       14 | 2.27505\n",
            "    7 |     0 |       13 | 2.25953\n",
            "    8 |     0 |       13 | 2.23819\n",
            "    9 |     0 |       13 | 2.21208\n",
            "   10 |     0 |       13 | 2.18490\n",
            "   11 |     0 |       14 | 2.16055\n",
            "   12 |     0 |       13 | 2.14033\n",
            "   13 |     0 |       13 | 2.12298\n",
            "   14 |     0 |       13 | 2.10664\n",
            "   15 |     0 |       13 | 2.09030\n",
            "   16 |     0 |       13 | 2.07508\n",
            "   17 |     0 |       13 | 2.06597\n",
            "   18 |     0 |       13 | 2.06674\n",
            "   19 |     0 |       14 | 2.06018\n",
            "   20 |     0 |       13 | 2.04673\n",
            "   21 |     0 |       13 | 2.04127\n",
            "   22 |     0 |       13 | 2.03876\n",
            "   23 |     0 |       13 | 2.03477\n",
            "   24 |     0 |       13 | 2.02952\n",
            "   25 |     0 |       13 | 2.02528\n",
            "   26 |     0 |       19 | 2.02308\n",
            "   27 |     0 |       16 | 2.02160\n",
            "   28 |     0 |       13 | 2.01871\n",
            "   29 |     0 |       13 | 2.01379\n",
            "   30 |     0 |       14 | 2.00817\n",
            "   31 |     0 |       13 | 2.00341\n",
            "   32 |     0 |       13 | 1.99964\n",
            "   33 |     0 |       13 | 1.99580\n",
            "   34 |     0 |       13 | 1.99109\n",
            "   35 |     0 |       13 | 1.98576\n",
            "   36 |     0 |       15 | 1.98070\n",
            "   37 |     0 |       19 | 1.97630\n",
            "   38 |     0 |       15 | 1.97191\n",
            "   39 |     0 |       17 | 1.96686\n",
            "   40 |     0 |       17 | 1.96143\n",
            "   41 |     0 |       20 | 1.95614\n",
            "   42 |     0 |       16 | 1.95106\n",
            "   43 |     0 |       14 | 1.94594\n",
            "   44 |     0 |       17 | 1.94080\n",
            "   45 |     0 |       15 | 1.93608\n",
            "   46 |     0 |       15 | 1.93195\n",
            "   47 |     0 |       16 | 1.92768\n",
            "   48 |     0 |       17 | 1.92304\n",
            "   49 |     0 |       15 | 1.91886\n",
            "   50 |     0 |       16 | 1.91506\n",
            "   51 |     0 |       23 | 1.91110\n",
            "   52 |     0 |       13 | 1.90732\n",
            "   53 |     0 |       13 | 1.90369\n",
            "   54 |     0 |       15 | 1.89943\n",
            "   55 |     0 |       14 | 1.89487\n",
            "   56 |     0 |       17 | 1.89052\n",
            "   57 |     0 |       14 | 1.88641\n",
            "   58 |     0 |       13 | 1.88261\n",
            "   59 |     0 |       13 | 1.87899\n",
            "   60 |     0 |       16 | 1.87518\n",
            "   61 |     0 |       18 | 1.87114\n",
            "   62 |     0 |       18 | 1.86717\n",
            "   63 |     0 |       13 | 1.86343\n",
            "   64 |     0 |       13 | 1.85981\n",
            "   65 |     0 |       13 | 1.85623\n",
            "   66 |     0 |       13 | 1.85278\n",
            "   67 |     0 |       13 | 1.84945\n",
            "   68 |     0 |       14 | 1.84620\n",
            "   69 |     0 |       14 | 1.84305\n",
            "   70 |     0 |       14 | 1.83992\n",
            "   71 |     0 |       14 | 1.83679\n",
            "   72 |     0 |       14 | 1.83375\n",
            "   73 |     0 |       16 | 1.83076\n",
            "   74 |     0 |       16 | 1.82781\n",
            "   75 |     0 |       17 | 1.82493\n",
            "   76 |     0 |       20 | 1.82209\n",
            "   77 |     0 |       17 | 1.81927\n",
            "   78 |     0 |       17 | 1.81653\n",
            "   79 |     0 |       15 | 1.81383\n",
            "   80 |     0 |       19 | 1.81118\n",
            "   81 |     0 |       17 | 1.80854\n",
            "   82 |     0 |       19 | 1.80588\n",
            "   83 |     0 |       18 | 1.80324\n",
            "   84 |     0 |       18 | 1.80065\n",
            "   85 |     0 |       16 | 1.79812\n",
            "   86 |     0 |       14 | 1.79560\n",
            "   87 |     0 |       16 | 1.79306\n",
            "   88 |     0 |       20 | 1.79057\n",
            "   89 |     0 |       19 | 1.78814\n",
            "   90 |     0 |       15 | 1.78575\n",
            "   91 |     0 |       14 | 1.78337\n",
            "   92 |     0 |       14 | 1.78097\n",
            "   93 |     0 |       15 | 1.77860\n",
            "   94 |     0 |       14 | 1.77626\n",
            "   95 |     0 |       14 | 1.77393\n",
            "   96 |     0 |       14 | 1.77160\n",
            "   97 |     0 |       15 | 1.76929\n",
            "   98 |     0 |       14 | 1.76700\n",
            "   99 |     0 |       14 | 1.76472\n",
            "  100 |     0 |       14 | 1.76244\n"
          ]
        }
      ]
    },
    {
      "cell_type": "code",
      "source": [
        "training_steps = np.array([step for step, _ in history])\n",
        "loss = np.array([loss.item() for _, loss in history])\n",
        "\n",
        "fig, ax = plt.subplots()\n",
        "ax.plot(training_steps, loss)\n",
        "\n",
        "ax.set(xlabel='training_steps', ylabel='loss')\n",
        "ax.grid()\n",
        "plt.show()"
      ],
      "metadata": {
        "colab": {
          "base_uri": "https://localhost:8080/",
          "height": 450
        },
        "id": "hhaUcPuR8eGt",
        "outputId": "9e098f1f-cad8-4cd8-dde3-80d0e360b66e"
      },
      "execution_count": null,
      "outputs": [
        {
          "output_type": "display_data",
          "data": {
            "text/plain": [
              "<Figure size 640x480 with 1 Axes>"
            ],
            "image/png": "[encoded data removed]"
          },
          "metadata": {}
        }
      ]
    },
    {
      "cell_type": "markdown",
      "source": [
        "Let's evaulate again."
      ],
      "metadata": {
        "id": "ZZjXbtJy8u0m"
      }
    },
    {
      "cell_type": "code",
      "source": [
        "evaluate(model, test_loader)"
      ],
      "metadata": {
        "colab": {
          "base_uri": "https://localhost:8080/"
        },
        "id": "P5l_bUL-8wD9",
        "outputId": "bb539542-31d7-4c2a-ce67-6dcb9af4ca31"
      },
      "execution_count": null,
      "outputs": [
        {
          "output_type": "stream",
          "name": "stdout",
          "text": [
            "Accuracy of the network on 10000 test images: 41 %\n"
          ]
        },
        {
          "output_type": "execute_result",
          "data": {
            "text/plain": [
              "41"
            ]
          },
          "metadata": {},
          "execution_count": 22
        }
      ]
    },
    {
      "cell_type": "code",
      "source": [
        "num = num = torch.randint(low=0, high=len(train_ds) + 1, size=(1, )).item()\n",
        "imshow(images[num], classes[num])"
      ],
      "metadata": {
        "colab": {
          "base_uri": "https://localhost:8080/",
          "height": 452
        },
        "id": "v3qVCs458zbX",
        "outputId": "5580aa40-16ce-4727-bd91-74062c06fa64"
      },
      "execution_count": null,
      "outputs": [
        {
          "output_type": "display_data",
          "data": {
            "text/plain": [
              "<Figure size 640x480 with 1 Axes>"
            ],
            "image/png": "[encoded data removed]"
          },
          "metadata": {}
        }
      ]
    },
    {
      "cell_type": "code",
      "source": [
        "print(make_prediction(model, images[num].to(device)), class_list[classes[num]])"
      ],
      "metadata": {
        "colab": {
          "base_uri": "https://localhost:8080/"
        },
        "id": "VUO9OOr880RV",
        "outputId": "ec9cda07-469f-47e4-9bef-ab095ba201e8"
      },
      "execution_count": null,
      "outputs": [
        {
          "output_type": "stream",
          "name": "stdout",
          "text": [
            "horse horse\n"
          ]
        }
      ]
    },
    {
      "cell_type": "markdown",
      "source": [
        "Next, we're going to learn more about matrix algebra, starting with arrays and vectors."
      ],
      "metadata": {
        "id": "wLBuIJIDE4RR"
      }
    }
  ]
}