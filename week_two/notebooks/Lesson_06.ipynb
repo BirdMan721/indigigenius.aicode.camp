{
  "nbformat": 4,
  "nbformat_minor": 0,
  "metadata": {
    "colab": {
      "provenance": []
    },
    "kernelspec": {
      "name": "python3",
      "display_name": "Python 3"
    },
    "language_info": {
      "name": "python"
    }
  },
  "cells": [
    {
      "cell_type": "code",
      "execution_count": null,
      "metadata": {
        "id": "TeWDPzuLwRY5"
      },
      "outputs": [],
      "source": [
        "import pprint\n",
        "import requests\n",
        "import time\n",
        "\n",
        "import numpy as np\n",
        "import torch\n",
        "import torchvision\n",
        "\n",
        "import matplotlib.pyplot as plt\n",
        "import torch.nn.functional as F\n",
        "\n",
        "from io import BytesIO\n",
        "from PIL import Image"
      ]
    },
    {
      "cell_type": "markdown",
      "source": [
        "# Lakota AI Code Camp Lesson 06: Matrix Algebra II\n",
        "\n",
        "We're going to continue on learning about vectors.\n",
        "Before we go, we're going to implement our own vector class in code.\n",
        "Then, we're going to talk about the dot product.\n",
        "Finally, we're going to talk about a function called saxpy.\n",
        "\n",
        "## Vector Class\n",
        "\n",
        "Before we work on implementing our vector class, there are several things we need a vector to do:\n",
        "\n",
        "\n",
        "*   the number of components cannot change;\n",
        "*   we need to be able to add two vectors together;\n",
        "*   we need to be able to multiply a vector by a real number (in this context, we call it a scalar);\n",
        "*   we need to be able to get the individual components.\n",
        "\n",
        "There are several nice-to-haves, that wouldn't typically affect our functionality, but are tremendous quality-of-life improvements:\n",
        "\n",
        "*   we would like to have a nice way to print the number;\n",
        "*   we would like to get the length of the vector (i.e. the number of components)."
      ],
      "metadata": {
        "id": "xEeuir6IwSJW"
      }
    },
    {
      "cell_type": "code",
      "source": [
        "class Vector():\n",
        "\n",
        "    def __init__(self, values):\n",
        "        # This should have an input.\n",
        "        # What do we need to input to create a vector?\n",
        "        self.values = tuple(values)\n",
        "\n",
        "    def __getitem__(self, idx):\n",
        "        return self.values[idx]\n",
        "\n",
        "    def __len__(self):\n",
        "\n",
        "        length = 0\n",
        "        for val in self.values:\n",
        "            length += 1\n",
        "        return length\n",
        "\n",
        "    def __add__(self, other):\n",
        "        if self.__len__() != other.__len__():\n",
        "            raise Exception(f\"Dimension mismatch: {self.__len__()} != {other.__len__}\")\n",
        "\n",
        "        add = []\n",
        "        for x, y in zip(self.values, other.values):\n",
        "            add.append(x + y)\n",
        "        return Vector(add)\n",
        "\n",
        "    def __sub__(self, other):\n",
        "        if self.__len__() != other.__len__():\n",
        "            raise Exception(f\"Dimension mismatch: {self.__len__()} != {other.__len__}\")\n",
        "\n",
        "        sub = []\n",
        "        for x, y in zip(self.values, other.values):\n",
        "            sub.append(x - y)\n",
        "        return Vector(sub)\n",
        "\n",
        "    def __mul__(self, scalar):\n",
        "        if type(scalar) not in [int, float]:\n",
        "            raise Exception(f\"{scalar} is not an integer or a float\")\n",
        "\n",
        "        mul = []\n",
        "        for val in self.values:\n",
        "            mul.append(val * scalar)\n",
        "        return Vector(mul)\n",
        "\n",
        "    def __repr__(self):\n",
        "        return f\"Vector({self.values})\"\n",
        "\n",
        "    def __str__(self):\n",
        "        vec_string = ''\n",
        "        for idx in range(self.__len__()):\n",
        "            vec_string = vec_string + str(self[idx]) + ', '\n",
        "        vec_string = \"(\" + vec_string[:-2] + \")\"\n",
        "        return \"Vector\" + vec_string"
      ],
      "metadata": {
        "id": "fmWX1j5FKxu-"
      },
      "execution_count": null,
      "outputs": []
    },
    {
      "cell_type": "markdown",
      "source": [
        "One reason we might want to build our own class rather than use the python classes that look like vectors is readability.\n",
        "Tuples and lists are general classes and can be used for anything.\n",
        "Whereas if we create a `Vector` class, then that tells anyone who is working on our code that our code represents vectors.\n",
        "This means that they wouldn't do something that isn't allowed in vector operations.\n",
        "For example, they would know our `Vector` class should not have an `append` method, like `list` has.\n",
        "\n",
        "Now, let's test out some of the functionality."
      ],
      "metadata": {
        "id": "vxLq97BQLSQz"
      }
    },
    {
      "cell_type": "code",
      "source": [
        "x = Vector((1, 2, 3))\n",
        "y = Vector((2, 3, 4))"
      ],
      "metadata": {
        "id": "6fB8IYf2LRmC"
      },
      "execution_count": null,
      "outputs": []
    },
    {
      "cell_type": "code",
      "source": [
        "x[0], x[1], x[2]"
      ],
      "metadata": {
        "colab": {
          "base_uri": "https://localhost:8080/"
        },
        "id": "0voCe59aLE6O",
        "outputId": "47861387-2a65-41fb-8cdb-c5519acdff97"
      },
      "execution_count": null,
      "outputs": [
        {
          "output_type": "execute_result",
          "data": {
            "text/plain": [
              "(1, 2, 3)"
            ]
          },
          "metadata": {},
          "execution_count": 120
        }
      ]
    },
    {
      "cell_type": "code",
      "source": [
        "len(x)"
      ],
      "metadata": {
        "colab": {
          "base_uri": "https://localhost:8080/"
        },
        "id": "BnK9P6CCLGt9",
        "outputId": "fe0ad93f-3815-4144-e766-9b10063a9fc2"
      },
      "execution_count": null,
      "outputs": [
        {
          "output_type": "execute_result",
          "data": {
            "text/plain": [
              "3"
            ]
          },
          "metadata": {},
          "execution_count": 121
        }
      ]
    },
    {
      "cell_type": "code",
      "source": [
        "x + y"
      ],
      "metadata": {
        "colab": {
          "base_uri": "https://localhost:8080/"
        },
        "id": "wD6IkibHLJg9",
        "outputId": "766e1b6f-62c3-4a10-8f5e-2a86b16956f5"
      },
      "execution_count": null,
      "outputs": [
        {
          "output_type": "execute_result",
          "data": {
            "text/plain": [
              "Vector((3, 5, 7))"
            ]
          },
          "metadata": {},
          "execution_count": 122
        }
      ]
    },
    {
      "cell_type": "code",
      "source": [
        "x * 3"
      ],
      "metadata": {
        "colab": {
          "base_uri": "https://localhost:8080/"
        },
        "id": "2leciq6aL029",
        "outputId": "9e180320-773d-4314-a47b-c3a214e6c2c4"
      },
      "execution_count": null,
      "outputs": [
        {
          "output_type": "execute_result",
          "data": {
            "text/plain": [
              "Vector((3, 6, 9))"
            ]
          },
          "metadata": {},
          "execution_count": 123
        }
      ]
    },
    {
      "cell_type": "code",
      "source": [
        "x * y"
      ],
      "metadata": {
        "colab": {
          "base_uri": "https://localhost:8080/",
          "height": 287
        },
        "id": "wYpuIRCTMxUa",
        "outputId": "2cd45cd7-2eb3-4716-b457-513326b9397e"
      },
      "execution_count": null,
      "outputs": [
        {
          "output_type": "error",
          "ename": "Exception",
          "evalue": "ignored",
          "traceback": [
            "\u001b[0;31m---------------------------------------------------------------------------\u001b[0m",
            "\u001b[0;31mException\u001b[0m                                 Traceback (most recent call last)",
            "\u001b[0;32m<ipython-input-124-e32109319f52>\u001b[0m in \u001b[0;36m<cell line: 1>\u001b[0;34m()\u001b[0m\n\u001b[0;32m----> 1\u001b[0;31m \u001b[0mx\u001b[0m \u001b[0;34m*\u001b[0m \u001b[0my\u001b[0m\u001b[0;34m\u001b[0m\u001b[0;34m\u001b[0m\u001b[0m\n\u001b[0m",
            "\u001b[0;32m<ipython-input-118-c271b4e3587c>\u001b[0m in \u001b[0;36m__mul__\u001b[0;34m(self, scalar)\u001b[0m\n\u001b[1;32m     27\u001b[0m     \u001b[0;32mdef\u001b[0m \u001b[0m__mul__\u001b[0m\u001b[0;34m(\u001b[0m\u001b[0mself\u001b[0m\u001b[0;34m,\u001b[0m \u001b[0mscalar\u001b[0m\u001b[0;34m)\u001b[0m\u001b[0;34m:\u001b[0m\u001b[0;34m\u001b[0m\u001b[0;34m\u001b[0m\u001b[0m\n\u001b[1;32m     28\u001b[0m         \u001b[0;32mif\u001b[0m \u001b[0mtype\u001b[0m\u001b[0;34m(\u001b[0m\u001b[0mscalar\u001b[0m\u001b[0;34m)\u001b[0m \u001b[0;32mnot\u001b[0m \u001b[0;32min\u001b[0m \u001b[0;34m[\u001b[0m\u001b[0mint\u001b[0m\u001b[0;34m,\u001b[0m \u001b[0mfloat\u001b[0m\u001b[0;34m]\u001b[0m\u001b[0;34m:\u001b[0m\u001b[0;34m\u001b[0m\u001b[0;34m\u001b[0m\u001b[0m\n\u001b[0;32m---> 29\u001b[0;31m             \u001b[0;32mraise\u001b[0m \u001b[0mException\u001b[0m\u001b[0;34m(\u001b[0m\u001b[0;34mf\"{scalar} is not an integer or a float\"\u001b[0m\u001b[0;34m)\u001b[0m\u001b[0;34m\u001b[0m\u001b[0;34m\u001b[0m\u001b[0m\n\u001b[0m\u001b[1;32m     30\u001b[0m \u001b[0;34m\u001b[0m\u001b[0m\n\u001b[1;32m     31\u001b[0m         \u001b[0mmul\u001b[0m \u001b[0;34m=\u001b[0m \u001b[0;34m[\u001b[0m\u001b[0;34m]\u001b[0m\u001b[0;34m\u001b[0m\u001b[0;34m\u001b[0m\u001b[0m\n",
            "\u001b[0;31mException\u001b[0m: Vector(2, 3, 4) is not an integer or a float"
          ]
        }
      ]
    },
    {
      "cell_type": "code",
      "source": [
        "print(x)"
      ],
      "metadata": {
        "colab": {
          "base_uri": "https://localhost:8080/"
        },
        "id": "RmdMyB_XMJLn",
        "outputId": "be90aea5-0e54-46f7-ed99-9c652df3e303"
      },
      "execution_count": null,
      "outputs": [
        {
          "output_type": "stream",
          "name": "stdout",
          "text": [
            "Vector(1, 2, 3)\n"
          ]
        }
      ]
    },
    {
      "cell_type": "code",
      "source": [
        "x"
      ],
      "metadata": {
        "colab": {
          "base_uri": "https://localhost:8080/"
        },
        "id": "nf9PD-PIMkFD",
        "outputId": "9a81018c-bb9a-43d5-9a1b-d1ebf22cca60"
      },
      "execution_count": null,
      "outputs": [
        {
          "output_type": "execute_result",
          "data": {
            "text/plain": [
              "Vector((1, 2, 3))"
            ]
          },
          "metadata": {},
          "execution_count": 126
        }
      ]
    },
    {
      "cell_type": "markdown",
      "source": [
        "## Dot Product\n",
        "\n",
        "Let's return to the inventory example.\n",
        "\n",
        "Suppose that we're keeping track of the number of items sold and the price of each item.\n",
        "\n",
        "Suppose that we have prices per item as:\n",
        "\n",
        "| Chips   | Soda    | Candy |\n",
        "|---------|---------|-------|\n",
        "| \\$1.50 | \\$2.00 | \\$1.00 |\n",
        "\n",
        "and suppose that for the month of May the number of item sold was:\n",
        "\n",
        "| Chips   | Soda    | Candy |\n",
        "|---------|---------|-------|\n",
        "| 13 | 10 | 32 |\n",
        "\n",
        "One way we would get the total profit is by multiplying the price per item by the number of items sold, then adding them all together:\n",
        "\n",
        "        13 * 1.50 + 10 * 2.00 + 32 * 1.00 = 71.5\n",
        "\n",
        "So, we made $71.50 in revenue for May.\n",
        "This is an example of a way of *multiplying* two vectors together.\n",
        "\n",
        "It's called the dot product.\n",
        "In mathematical terms, it's defined in the following way:\n",
        "if we have two vectors of the same dimension $\\textbf{x} = (x_{1}, \\ldots, x_{n})$ and $\\textbf{y} = (y_{1}, \\ldots, y_{n})$, then the dot product is:\n",
        "$$\n",
        "\\textbf{x} \\cdot \\textbf{y} = x_{1}y_{1} + x_{2}y_{2} + \\cdots + x_{n}y_{n} = \\sum_{i=1}^{n} x_{i}y_{i}.\n",
        "$$\n",
        "\n",
        "We just multiply the elements together and then sum them!\n",
        "This gives us a chance to practice our for loops!"
      ],
      "metadata": {
        "id": "GV0MLz0LORZR"
      }
    },
    {
      "cell_type": "code",
      "source": [
        "def dot_product(vector1, vector2):\n",
        "    # We need to initialize a value\n",
        "    dot = 0\n",
        "\n",
        "    # We need to do a for loop\n",
        "    for x, y in zip(vector1, vector2):\n",
        "        dot += x * y\n",
        "\n",
        "    return dot"
      ],
      "metadata": {
        "id": "tbzCWZqqO9EL"
      },
      "execution_count": null,
      "outputs": []
    },
    {
      "cell_type": "code",
      "source": [
        "x = Vector((1, 3, 5))\n",
        "y = Vector((2, 4, 6))\n",
        "\n",
        "print(dot_product(x, y))"
      ],
      "metadata": {
        "colab": {
          "base_uri": "https://localhost:8080/"
        },
        "id": "DOaAIl6tO-2s",
        "outputId": "31962b06-d225-4dc7-9e4c-53eeccb7081c"
      },
      "execution_count": null,
      "outputs": [
        {
          "output_type": "stream",
          "name": "stdout",
          "text": [
            "44\n"
          ]
        }
      ]
    },
    {
      "cell_type": "markdown",
      "source": [
        "Linear algebra and matrix algebra are absolutely essential to scientific computing.\n",
        "Due to this importance, a common set of high speed and high performance functions was written.\n",
        "This is called the **Basic Linear Algebra Subprograms** library, which is written in a language called Fortran.\n",
        "Every scientific computing library, such as PyTorch and NumPy, have some implementation of it powering the basic functionality.\n",
        "For PyTorch, it's an implementation provided by the **Math Kernel Library** and it's usually **LAPACK**.\n"
      ],
      "metadata": {
        "id": "RtpApq-xQZf_"
      }
    },
    {
      "cell_type": "code",
      "source": [
        "torch.__config__.show()"
      ],
      "metadata": {
        "colab": {
          "base_uri": "https://localhost:8080/",
          "height": 105
        },
        "id": "Hf195IqiQOwR",
        "outputId": "eb2b78b6-51ff-4499-8968-877199fc8d53"
      },
      "execution_count": null,
      "outputs": [
        {
          "output_type": "execute_result",
          "data": {
            "text/plain": [
              "'PyTorch built with:\\n  - GCC 9.3\\n  - C++ Version: 201703\\n  - Intel(R) oneAPI Math Kernel Library Version 2022.2-Product Build 20220804 for Intel(R) 64 architecture applications\\n  - Intel(R) MKL-DNN v2.7.3 (Git Hash 6dbeffbae1f23cbbeae17adb7b5b13f1f37c080e)\\n  - OpenMP 201511 (a.k.a. OpenMP 4.5)\\n  - LAPACK is enabled (usually provided by MKL)\\n  - NNPACK is enabled\\n  - CPU capability usage: AVX2\\n  - Build settings: BLAS_INFO=mkl, BUILD_TYPE=Release, CUDA_VERSION=11.8, CUDNN_VERSION=8.7.0, CXX_COMPILER=/opt/rh/devtoolset-9/root/usr/bin/c++, CXX_FLAGS= -D_GLIBCXX_USE_CXX11_ABI=0 -fabi-version=11 -Wno-deprecated -fvisibility-inlines-hidden -DUSE_PTHREADPOOL -DNDEBUG -DUSE_KINETO -DLIBKINETO_NOROCTRACER -DUSE_FBGEMM -DUSE_QNNPACK -DUSE_PYTORCH_QNNPACK -DUSE_XNNPACK -DSYMBOLICATE_MOBILE_DEBUG_HANDLE -O2 -fPIC -Wall -Wextra -Werror=return-type -Werror=non-virtual-dtor -Werror=bool-operation -Wnarrowing -Wno-missing-field-initializers -Wno-type-limits -Wno-array-bounds -Wno-unknown-pragmas -Wunused-local-typedefs -Wno-unused-parameter -Wno-unused-function -Wno-unused-result -Wno-strict-overflow -Wno-strict-aliasing -Wno-error=deprecated-declarations -Wno-stringop-overflow -Wno-psabi -Wno-error=pedantic -Wno-error=redundant-decls -Wno-error=old-style-cast -fdiagnostics-color=always -faligned-new -Wno-unused-but-set-variable -Wno-maybe-uninitialized -fno-math-errno -fno-trapping-math -Werror=format -Werror=cast-function-type -Wno-stringop-overflow, LAPACK_INFO=mkl, PERF_WITH_AVX=1, PERF_WITH_AVX2=1, PERF_WITH_AVX512=1, TORCH_DISABLE_GPU_ASSERTS=ON, TORCH_VERSION=2.0.1, USE_CUDA=ON, USE_CUDNN=ON, USE_EXCEPTION_PTR=1, USE_GFLAGS=OFF, USE_GLOG=OFF, USE_MKL=ON, USE_MKLDNN=ON, USE_MPI=OFF, USE_NCCL=1, USE_NNPACK=ON, USE_OPENMP=ON, USE_ROCM=OFF, \\n'"
            ],
            "application/vnd.google.colaboratory.intrinsic+json": {
              "type": "string"
            }
          },
          "metadata": {},
          "execution_count": 132
        }
      ]
    },
    {
      "cell_type": "markdown",
      "source": [
        "We're going to look at one particular level 1 program, called `saxpy`.\n",
        "`saxpy` stands for **s**ingle precision **a** times **x** **p**lus **y**.\n",
        "\n",
        "The inputs are a scalar $a$ and two vectors of the same dimension $x$ and $y$.\n",
        "The output is a vector:\n",
        "$$\n",
        "a \\textbf{x} + \\textbf{y} = a \\cdot (x_{1}, \\ldots, x_{n}) + (y_{1}, \\ldots, y_{n}) = (ax_{1} + y_{1}, \\ldots, ax_{n} + y_{n}).\n",
        "$$"
      ],
      "metadata": {
        "id": "dzYq8sl-Rowy"
      }
    },
    {
      "cell_type": "code",
      "source": [
        "def saxpy(a, x, y):\n",
        "    # a: a float\n",
        "    # x: a Vector of floats\n",
        "    # y: a Vector of floats\n",
        "    # output: a vector of floats\n",
        "    val = []\n",
        "\n",
        "    for x_val, y_val in zip(x, y):\n",
        "        val.append(a * x_val + y_val)\n",
        "\n",
        "    return Vector(val)"
      ],
      "metadata": {
        "id": "Slaum68nRNZw"
      },
      "execution_count": null,
      "outputs": []
    },
    {
      "cell_type": "code",
      "source": [
        "saxpy(3, Vector((1, 3, 5)), Vector((2, 4, 6)))"
      ],
      "metadata": {
        "colab": {
          "base_uri": "https://localhost:8080/"
        },
        "id": "QtVjyUTfSYJX",
        "outputId": "b1fa2a1d-d582-4a80-d3e5-d245fa2afb6e"
      },
      "execution_count": null,
      "outputs": [
        {
          "output_type": "execute_result",
          "data": {
            "text/plain": [
              "Vector((5, 13, 21))"
            ]
          },
          "metadata": {},
          "execution_count": 138
        }
      ]
    }
  ]
}