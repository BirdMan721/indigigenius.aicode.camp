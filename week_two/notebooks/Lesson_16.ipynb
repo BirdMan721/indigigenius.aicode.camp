{
  "nbformat": 4,
  "nbformat_minor": 0,
  "metadata": {
    "colab": {
      "provenance": []
    },
    "kernelspec": {
      "name": "python3",
      "display_name": "Python 3"
    },
    "language_info": {
      "name": "python"
    }
  },
  "cells": [
    {
      "cell_type": "code",
      "execution_count": null,
      "metadata": {
        "id": "vmzcf9VYwWWV"
      },
      "outputs": [],
      "source": [
        "import math\n",
        "import random\n",
        "import requests\n",
        "import time\n",
        "\n",
        "import numpy as np\n",
        "import torch\n",
        "import torchvision\n",
        "\n",
        "import matplotlib.patches as patches\n",
        "import matplotlib.pyplot as plt\n",
        "import torch.nn.functional as F\n",
        "\n",
        "from io import BytesIO\n",
        "from PIL import Image"
      ]
    },
    {
      "cell_type": "markdown",
      "source": [
        "# Lakota AI Code Camp Lesson 16: Object Detection Loss and Metrics\n",
        "\n",
        "We've covered loss functions and metrics and why they're important.\n",
        "Now, we're going to talk more about loss functions that are specific to object detection.\n",
        "We're mainly going to focus on the loss functions used for YOLO, DINO, and SSD object detection models.\n",
        "\n",
        "First, we're going to talk about metrics that are used throughout object detection models and how to implement some of them.\n"
      ],
      "metadata": {
        "id": "n_y1PoLxwZRN"
      }
    },
    {
      "cell_type": "markdown",
      "source": [
        "## Object Detection Metrics\n",
        "\n",
        "The primary object detection metric will be several variations of what is called average precision.\n",
        "This metric is heavily dependent on other metrics.\n",
        "In particular, the IoU metric.\n",
        "So, we'll talk about the IoU metric.\n",
        "\n",
        "IoU stands for Intersection over Union.\n",
        "It's a function that takes in two bounding boxes, the predicted bounding box and the bounding box in the dataset.\n",
        "We find the intersection of these two bounding boxes and then we divide that by the union."
      ],
      "metadata": {
        "id": "Hv6I5q_RyhV9"
      }
    },
    {
      "cell_type": "code",
      "source": [
        "def IoU(actual, predict):\n",
        "    # We assume that actual and predict are in bottom left-top right bounding box format.\n",
        "\n",
        "    # Ensure that our actual and predict boxes are between 0 and 1.\n",
        "    actual /= sum(actual)\n",
        "    predict /= sum(predict)\n",
        "\n",
        "    ax1, ay1, ax2, ay2 = actual\n",
        "    px1, py1, px2, py2 = predict\n",
        "\n",
        "    # Calculate the bottom left of the intersection\n",
        "    ix1 = max(ax1, px1)\n",
        "    iy1 = max(ay1, py1)\n",
        "\n",
        "    # Calculate the top right of the intersection\n",
        "    ix2 = min(ax2, px2)\n",
        "    iy2 = min(ay2, py2)\n",
        "\n",
        "    t = iy2 <= iy1 or ix2 <= ix1\n",
        "\n",
        "    if t:\n",
        "        return 0\n",
        "\n",
        "    # Area is the height times the width.\n",
        "    intersection = (iy2 - iy1) * (ix2 - ix1)\n",
        "\n",
        "\n",
        "    # Calulating the interesection over the union using the inclusion exclusion formula\n",
        "    union = (ax2 - ax1) * (ay2 - ay1) + (px2 - px1) * (py2 - py1) - intersection\n",
        "\n",
        "    return intersection / union"
      ],
      "metadata": {
        "id": "VAnGforyygjj"
      },
      "execution_count": null,
      "outputs": []
    },
    {
      "cell_type": "code",
      "source": [
        "def generate_bbox():\n",
        "\n",
        "    x1 = np.random.uniform()\n",
        "    y1 = np.random.uniform()\n",
        "    x2 = np.random.uniform(low=x1)\n",
        "    y2 = np.random.uniform(low=y1)\n",
        "\n",
        "    return np.array([x1, y1, x2, y2])"
      ],
      "metadata": {
        "id": "Js5TJkd39KU7"
      },
      "execution_count": null,
      "outputs": []
    },
    {
      "cell_type": "code",
      "source": [
        "actual = generate_bbox()\n",
        "predict = generate_bbox()"
      ],
      "metadata": {
        "id": "S4xKoarVHi6-"
      },
      "execution_count": null,
      "outputs": []
    },
    {
      "cell_type": "code",
      "source": [
        "fig, ax = plt.subplots()\n",
        "\n",
        "rect = []\n",
        "for b in (actual, predict):\n",
        "    x1, y1, x2, y2 = b\n",
        "    w = abs(x2-x1)\n",
        "    h = abs(y2-y1)\n",
        "    x = x1\n",
        "    y = y1\n",
        "    rect.append(patches.Rectangle((x, y), w, h, linewidth=1, edgecolor='r', facecolor='none'))\n",
        "\n",
        "# Add the patch to the Axes\n",
        "for r in rect:\n",
        "    ax.add_patch(r)\n",
        "\n",
        "print(IoU(actual, predict))\n",
        "print(actual, predict)\n",
        "\n",
        "plt.show()"
      ],
      "metadata": {
        "colab": {
          "base_uri": "https://localhost:8080/",
          "height": 470
        },
        "id": "coqjenqQHEOo",
        "outputId": "759479ff-0beb-407f-e3a4-ace866b2ee72"
      },
      "execution_count": null,
      "outputs": [
        {
          "output_type": "stream",
          "name": "stdout",
          "text": [
            "0\n",
            "[0.12540981 0.25141144 0.29634726 0.32683149] [0.30883897 0.13095918 0.32274537 0.23745647]\n"
          ]
        },
        {
          "output_type": "display_data",
          "data": {
            "text/plain": [
              "<Figure size 640x480 with 1 Axes>"
            ],
            "image/png": "[encoded data removed]"
          },
          "metadata": {}
        }
      ]
    },
    {
      "cell_type": "markdown",
      "source": [
        "Recall that during the lecture about the AUROC metric, that we talked about true positives, false positives, true negatives, and false negatives.\n",
        "There are two more metrics associated with those concepts:\n",
        "*   **precision**\n",
        "*   **recall**\n",
        "\n",
        "Precision, mathematically is:\n",
        "$$\n",
        "\\frac{TP}{TP + FP},\n",
        "$$\n",
        "So, the number of correct predictions divided by the number of total predictions.\n",
        "Recall, mathematically is:\n",
        "$$\n",
        "\\frac{TP}{TP + FN}\n",
        "$$\n",
        "or the number of correct predictions divided by the number of total labels.\n",
        "\n",
        "Again, our model spits out a probability vector, not a prediction.\n",
        "We need a threshold value to give a prediction.\n",
        "That threshold value does not come from the probability vector only, but also comes from the bounding box.\n",
        "So, we calculate the IoU of the ground truth bounding box and the predicted bounding box.\n",
        "There are two thresholds:\n",
        "1.  the threshold on the IoU metric;\n",
        "1.  the threshold on the probability vector.\n",
        "\n",
        "We count something as a prediction if the IoU metric ground truth and the predicted bounding box are greater than, say 0.50.\n",
        "Then we calculate the precision and recall curves.\n",
        "\n",
        "Finally, average precision is the AUROC for the precision and recall curves calculated.\n",
        "\n",
        "Finally, the mean average precision is defined as:\n",
        "$$\n",
        "\\frac{1}{k} \\sum_{i = 1}^{k} \\textrm{AP}_{i}\n",
        "$$\n",
        "where there are $k$ classes, $\\textrm{AP}_{i}$ is the average precision of the $i$th class."
      ],
      "metadata": {
        "id": "AEVxU0qXepYz"
      }
    },
    {
      "cell_type": "code",
      "source": [],
      "metadata": {
        "id": "ON5aIh9CdvGm"
      },
      "execution_count": null,
      "outputs": []
    }
  ]
}