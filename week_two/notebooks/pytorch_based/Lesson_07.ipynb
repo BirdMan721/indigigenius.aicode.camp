{
  "nbformat": 4,
  "nbformat_minor": 0,
  "metadata": {
    "colab": {
      "provenance": []
    },
    "kernelspec": {
      "name": "python3",
      "display_name": "Python 3"
    },
    "language_info": {
      "name": "python"
    }
  },
  "cells": [
    {
      "cell_type": "code",
      "execution_count": null,
      "metadata": {
        "id": "Xgmnh534inOm"
      },
      "outputs": [],
      "source": [
        "import pprint\n",
        "import requests\n",
        "import time\n",
        "\n",
        "import numpy as np\n",
        "import torch\n",
        "import torchvision\n",
        "\n",
        "import matplotlib.pyplot as plt\n",
        "import torch.nn.functional as F\n",
        "\n",
        "from io import BytesIO\n",
        "from PIL import Image"
      ]
    },
    {
      "cell_type": "markdown",
      "source": [
        "# Lakota AI Code Camp Lesson 07: Matrix Algebra III\n",
        "\n",
        "We're going to talk about\n",
        "*   matrices;\n",
        "*   matrix multiplication;\n",
        "*   gaxpy.\n",
        "\n",
        "## Matrices\n",
        "\n",
        "An important concept in mathematics is something called a **linear transformation**.\n",
        "It is a function that takes a vector of dimension $n$ and gives a vector of dimension $m$.\n",
        "An important property is that a linear transformation respects the vector operations of vector addition and scalar multiplication.\n",
        "\n",
        "In mathematical terms, if $T$ is a linear transformation and $\\textbf{v}$ and $\\textbf{w}$ are vectors of dimension $n$, then we must have\n",
        "$$\n",
        "T(\\textbf{v} + \\textbf{w}) = T(\\textbf{v}) + T(\\textbf{w}).\n",
        "$$\n",
        "\n",
        "You have seen something similar with distributivity.\n",
        "$$\n",
        "a \\cdot (b + c) = a\\cdot b + a \\cdot c,\n",
        "$$\n",
        "where $a, b$, and $c$ are numbers.\n",
        "\n",
        "Another property we require is that a linear transformation respects scalar multiplication.\n",
        "So, if $c$ is a scalar and $\\textbf{v}$ is a vector, then\n",
        "$$\n",
        "T(c \\textbf{v}) = c T(\\textbf{v}).\n",
        "$$\n",
        "\n",
        "An amazing property of linear transformations, that you will learn in a full linear algebra course, is that every linear transformation can be represented by a matrix.\n",
        "\n",
        "Let's give an example:\n",
        "let $\\textbf{v} = (v_{1}, v_{2}, v_{3})$, then let\n",
        "$$\n",
        "T(\\textbf{v}) = (2v_{1} + v_{3}, - v_{1} + 5v_{2}) = (2v_{1} + 0v_{2} + v_{3}, - v_{1} + 5v_{2} + 0v_{3}).\n",
        "$$\n",
        "So, the matrix representing this is:\n",
        "$$\n",
        "\\left(\n",
        "\\begin{array}\n",
        "& 2 & 0 & 1 \\\\\n",
        "-1 & 5 & 0 \\\\\n",
        "\\end{array}\n",
        "\\right)\n",
        "$$\n",
        "\n",
        "Another example of a matrix is\n",
        "$$\n",
        "\\left(\n",
        "\\begin{array}\n",
        "& 1 & 2 & 3 \\\\\n",
        "4 & 5 & 6 \\\\\n",
        "\\end{array}\n",
        "\\right)\n",
        "$$\n",
        "and\n",
        "$$\n",
        "\\left(\n",
        "\\begin{array}\n",
        "& 1 & 0 & 0 \\\\\n",
        "0 & 1 & 0 \\\\\n",
        "0 & 0 & 1 \\\\\n",
        "\\end{array}\n",
        "\\right)\n",
        "$$\n",
        "\n",
        "We say a matrix is of size $n \\times m$ if there are $n$ rows and $m$ columns.\n",
        "\n",
        "Another way to write a matrix is\n",
        "$$\n",
        "\\textbf{A} = (a_{ij})_{ij}.\n",
        "$$\n",
        "This tells us the $i$th row and the $j$th column is the value $a_{ij}$.\n",
        "It can be a useful method of representing a matrix abstractly.\n",
        "\n",
        "Another thing to know about a matrix is that every matrix has a transpose.\n",
        "It will be useful shortly.\n",
        "If\n",
        "$$\n",
        "\\textbf{A} = (a_{ij})_{ij}.\n",
        "$$\n",
        "then the transpose of $\\textbf{A}$ is $\\textbf{A}^{\\intercal}$ and\n",
        "$$\n",
        "\\textbf{A}^{\\intercal} = (a_{ij})_{ij}.\n",
        "$$\n",
        "The columns become the rows and the rows become the columns.\n",
        "Another way to think about it is that the matrix is reflected about the diagonal.\n",
        "\n",
        "### Matrix Operations\n",
        "\n",
        "A matrix has similar operations to a vector, but a few more:\n",
        "\n",
        "*   the number of components cannot change, i.e. the number of rows and columns are fixed;\n",
        "*   we need to be able to add two matrices together;\n",
        "*   we need to be able to multiply a matrix by a real number (recall, that in this context, we call it a scalar);\n",
        "*   we need to be able to get the individual components.\n",
        "\n",
        "There are several nice-to-haves, that wouldn't typically affect our functionality, but are tremendous quality-of-life improvements:\n",
        "\n",
        "*   we would like to have a nice way to print the number;\n",
        "*   we would like to get the size of the matrix (i.e. the number of rows and columns).\n",
        "\n",
        "Let's work on making a matrix class!"
      ],
      "metadata": {
        "id": "KAy_pyZSitIr"
      }
    },
    {
      "cell_type": "code",
      "source": [
        "class Vector():\n",
        "\n",
        "    def __init__(self, values):\n",
        "        # This should have an input.\n",
        "        # What do we need to input to create a vector?\n",
        "        self.values = tuple(values)\n",
        "\n",
        "    def __getitem__(self, idx):\n",
        "        return self.values[idx]\n",
        "\n",
        "    def __len__(self):\n",
        "\n",
        "        length = 0\n",
        "        for val in self.values:\n",
        "            length += 1\n",
        "        return length\n",
        "\n",
        "    def __add__(self, other):\n",
        "        if self.__len__() != other.__len__():\n",
        "            raise Exception(f\"Dimension mismatch: {self.__len__()} != {other.__len__}\")\n",
        "\n",
        "        add = []\n",
        "        for x, y in zip(self.values, other.values):\n",
        "            add.append(x + y)\n",
        "        return Vector(add)\n",
        "\n",
        "    def __sub__(self, other):\n",
        "        if self.__len__() != other.__len__():\n",
        "            raise Exception(f\"Dimension mismatch: {self.__len__()} != {other.__len__}\")\n",
        "\n",
        "        sub = []\n",
        "        for x, y in zip(self.values, other.values):\n",
        "            sub.append(x - y)\n",
        "        return Vector(sub)\n",
        "\n",
        "    def __mul__(self, scalar):\n",
        "        if type(scalar) not in [int, float]:\n",
        "            raise Exception(f\"{scalar} is not an integer or a float\")\n",
        "\n",
        "        mul = []\n",
        "        for val in self.values:\n",
        "            mul.append(val * scalar)\n",
        "        return Vector(mul)\n",
        "\n",
        "    def __repr__(self):\n",
        "        return f\"Vector({self.values})\"\n",
        "\n",
        "    def __str__(self):\n",
        "        vec_string = ''\n",
        "        for idx in range(self.__len__()):\n",
        "            vec_string = vec_string + str(self[idx]) + ', '\n",
        "        vec_string = \"(\" + vec_string[:-2] + \")\"\n",
        "        return \"Vector\" + vec_string"
      ],
      "metadata": {
        "id": "-Xc0r1uBGfwL"
      },
      "execution_count": null,
      "outputs": []
    },
    {
      "cell_type": "code",
      "source": [
        "class Matrix():\n",
        "\n",
        "    def __init__(self, values):\n",
        "        r\"\"\"\n",
        "        Args:\n",
        "            values (list of lists): A list of n (rows) lists.\n",
        "                The n lists all have the same length m (columns).\n",
        "        \"\"\"\n",
        "        self.rows = len(values)\n",
        "        self.cols = len(values[0])\n",
        "        self.shape = (self.rows, self.cols)\n",
        "        self.values = self._create_matrix(values)\n",
        "\n",
        "    def _create_matrix(self, values):\n",
        "\n",
        "        for num in range(self.rows):\n",
        "            if len(values[num]) != self.cols:\n",
        "                raise Exception(f\"Dimension mismatch: {len(num)} != {self.cols}\")\n",
        "\n",
        "        for num in range(self.rows):\n",
        "            values[num] = list(values[num])\n",
        "\n",
        "        return list(values)\n",
        "\n",
        "    def __repr__(self):\n",
        "        # This needs to return a string that tells you the class and some values.\n",
        "        # Another way to think about it is that you need to give someone the right amount of\n",
        "        # information to understand this class.\n",
        "        return f\"Matrix({self.values})\"\n",
        "\n",
        "    def __getitem__(self, i, j=None):\n",
        "        # i is the row you want to access and j is the column you want to access.\n",
        "        # Reference the vector class above.\n",
        "        return self.values[i][j] if j else self.values[i]\n",
        "\n",
        "    def __len__(self):\n",
        "        # This should return an integer.\n",
        "        return self.rows\n",
        "\n",
        "    def __str__(self):\n",
        "        # This should return a string that makes the elements easy to read.\n",
        "        matrix_string = '['\n",
        "        for rows in range(self.rows):\n",
        "            matrix_string += '['\n",
        "            for cols in range(self.cols):\n",
        "                matrix_string += str(self.values[rows][cols]) + ', '\n",
        "            matrix_string = matrix_string[:-2] + ']\\n '\n",
        "        matrix_string = matrix_string[:-2] + ']'\n",
        "        return matrix_string\n",
        "\n",
        "    def transpose(self):\n",
        "        # Initialize\n",
        "        transpose = [[0 for i in range(self.rows)] for i in range(self.cols)]\n",
        "\n",
        "        # Set the values\n",
        "        for row in range(self.rows):\n",
        "            for col in range(self.cols):\n",
        "                transpose[col][row] = self.values[row][col]\n",
        "\n",
        "        return Matrix(transpose)\n",
        "\n",
        "    def __add__(self, other):\n",
        "        if not(self.rows == other.rows and self.cols == other.cols):\n",
        "            raise Exception(\"The rows or columns do not match.\")\n",
        "\n",
        "        add = [[None for i in range(self.cols)] for j in range(self.rows)]\n",
        "\n",
        "        for row in range(self.rows):\n",
        "            for col in range(self.cols):\n",
        "                add[row][col] = self.values[row][col] + other.values[row][col]\n",
        "\n",
        "        return Matrix(add)\n",
        "\n",
        "    def __sub__(self, other):\n",
        "        if not(self.rows == other.rows and self.cols == other.cols):\n",
        "            raise Exception(\"The rows or columns do not match.\")\n",
        "\n",
        "        sub = [[None for i in range(self.cols)] for j in range(self.rows)]\n",
        "\n",
        "        for row in range(self.rows):\n",
        "            for col in range(self.cols):\n",
        "                sub[row][col] = self.values[row][col] - other.values[row][col]\n",
        "\n",
        "        return Matrix(sub)"
      ],
      "metadata": {
        "id": "iIwzQpebmjEj"
      },
      "execution_count": null,
      "outputs": []
    },
    {
      "cell_type": "code",
      "source": [
        "x = Matrix([[1, 2, 3], [4, 5, 6]])\n",
        "print(x)"
      ],
      "metadata": {
        "colab": {
          "base_uri": "https://localhost:8080/"
        },
        "id": "Iz6JdpERnOh7",
        "outputId": "3e3ab0ec-7514-472f-f52f-300d45674b2c"
      },
      "execution_count": null,
      "outputs": [
        {
          "output_type": "stream",
          "name": "stdout",
          "text": [
            "[[1, 2, 3]\n",
            " [4, 5, 6]]\n"
          ]
        }
      ]
    },
    {
      "cell_type": "code",
      "source": [
        "y = Matrix([[2, 4, 6], [8, 10, 12]])\n",
        "\n",
        "print(x + y)"
      ],
      "metadata": {
        "colab": {
          "base_uri": "https://localhost:8080/"
        },
        "id": "ges08s4vnRoK",
        "outputId": "0250400f-f13e-4124-9650-579c95883c95"
      },
      "execution_count": null,
      "outputs": [
        {
          "output_type": "stream",
          "name": "stdout",
          "text": [
            "[[3, 6, 9]\n",
            " [12, 15, 18]]\n"
          ]
        }
      ]
    },
    {
      "cell_type": "code",
      "source": [
        "x[0]"
      ],
      "metadata": {
        "colab": {
          "base_uri": "https://localhost:8080/"
        },
        "id": "7KBHrdXWntNz",
        "outputId": "4b064087-4185-45ac-8317-c89c595d72f3"
      },
      "execution_count": null,
      "outputs": [
        {
          "output_type": "execute_result",
          "data": {
            "text/plain": [
              "[1, 2, 3]"
            ]
          },
          "metadata": {},
          "execution_count": 6
        }
      ]
    },
    {
      "cell_type": "code",
      "source": [
        "x[0][2]"
      ],
      "metadata": {
        "colab": {
          "base_uri": "https://localhost:8080/"
        },
        "id": "mwqxLGQUrhfO",
        "outputId": "b0c03938-34f1-48b0-b131-54af9e928d07"
      },
      "execution_count": null,
      "outputs": [
        {
          "output_type": "execute_result",
          "data": {
            "text/plain": [
              "3"
            ]
          },
          "metadata": {},
          "execution_count": 7
        }
      ]
    },
    {
      "cell_type": "code",
      "source": [
        "x.transpose()"
      ],
      "metadata": {
        "colab": {
          "base_uri": "https://localhost:8080/"
        },
        "id": "urNJeQ-BC7af",
        "outputId": "4d6bded2-4150-425a-c6b8-2126f03447d4"
      },
      "execution_count": null,
      "outputs": [
        {
          "output_type": "execute_result",
          "data": {
            "text/plain": [
              "Matrix([[1, 4], [2, 5], [3, 6]])"
            ]
          },
          "metadata": {},
          "execution_count": 8
        }
      ]
    },
    {
      "cell_type": "markdown",
      "source": [
        "### Matrix Vector Multiplication\n",
        "\n",
        "If our input is an $n \\times m$ matrix $\\textbf{A} = (a_{ij})_{ij}$ and an $m$-dimensional vector $\\textbf{x} = (x_{1}, \\ldots, x_{n})$, then matrix-vector multiplication takes a matrix and a vector sas input and outputs a vector."
      ],
      "metadata": {
        "id": "p_XArUqrDFHo"
      }
    },
    {
      "cell_type": "code",
      "source": [
        "def dot_product(vector1, vector2):\n",
        "    # We need to initialize a value\n",
        "    dot = 0\n",
        "\n",
        "    # We need to do a for loop\n",
        "    for num in range(len(vector1)):\n",
        "        dot += vector1[num] * vector2[num]\n",
        "\n",
        "    return dot"
      ],
      "metadata": {
        "id": "xG2Rj6BtGt27"
      },
      "execution_count": null,
      "outputs": []
    },
    {
      "cell_type": "code",
      "source": [
        "def mat_vec_mul(matrix, vector):\n",
        "    # Our input is a matrix and a vector\n",
        "    # Our output is a vector\n",
        "    out = [0 for i in range(matrix.rows)]\n",
        "\n",
        "    for row in range(matrix.rows):\n",
        "        out[row] = dot_product(Vector(matrix[row]), vector)\n",
        "\n",
        "#        for col in range(matrix.cols):\n",
        "#            out[row] += matrix[row][col] * vector[col]\n",
        "\n",
        "    return Vector(out)"
      ],
      "metadata": {
        "id": "7NnlKvDjGdQx"
      },
      "execution_count": null,
      "outputs": []
    },
    {
      "cell_type": "code",
      "source": [
        "x = Matrix([[1, 2, 3], [4, 5, 6]])\n",
        "y = Vector([1, 2, 3])\n",
        "\n",
        "\n",
        "# [14, 32]\n",
        "mat_vec_mul(x, y)"
      ],
      "metadata": {
        "colab": {
          "base_uri": "https://localhost:8080/"
        },
        "id": "_L2JgiHBGes3",
        "outputId": "f96fc55b-c70c-4c57-d99c-3d333c31571d"
      },
      "execution_count": null,
      "outputs": [
        {
          "output_type": "execute_result",
          "data": {
            "text/plain": [
              "Vector((14, 32))"
            ]
          },
          "metadata": {},
          "execution_count": 16
        }
      ]
    },
    {
      "cell_type": "markdown",
      "source": [],
      "metadata": {
        "id": "N29lpvPqh25n"
      }
    },
    {
      "cell_type": "code",
      "source": [],
      "metadata": {
        "id": "xdUMHGrjkBZg"
      },
      "execution_count": null,
      "outputs": []
    }
  ]
}