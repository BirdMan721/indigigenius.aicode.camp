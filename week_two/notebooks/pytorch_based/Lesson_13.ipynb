{
  "nbformat": 4,
  "nbformat_minor": 0,
  "metadata": {
    "colab": {
      "provenance": [],
      "gpuType": "T4"
    },
    "kernelspec": {
      "name": "python3",
      "display_name": "Python 3"
    },
    "language_info": {
      "name": "python"
    },
    "accelerator": "GPU"
  },
  "cells": [
    {
      "cell_type": "code",
      "execution_count": null,
      "metadata": {
        "id": "FG9sLIn36-vu"
      },
      "outputs": [],
      "source": [
        "import math\n",
        "import random\n",
        "import requests\n",
        "import time\n",
        "\n",
        "import numpy as np\n",
        "import torch\n",
        "import torchvision\n",
        "\n",
        "import matplotlib.pyplot as plt\n",
        "import torch.nn.functional as F\n",
        "\n",
        "from io import BytesIO\n",
        "from PIL import Image"
      ]
    },
    {
      "cell_type": "markdown",
      "source": [
        "# Lakota AI Code Camp Lesson 13: Introduction to Neural Networks III - LeNet\n",
        "\n",
        "Today, we're going to use the activation functions and the layers we learned about earlier to reproduce the neural network LeNet, that we talked about earlier.\n",
        "\n",
        "It won't be a perfectly accurate reproduction, because there were techniques the authors used to reduce the number of connections between neurons.\n",
        "Further, I cannot find the software library used to actually train the neural network.\n",
        "\n",
        "We're going to go through the model and implement it as faithfully as possible, then we're going to add some improvements, to see if that helps.\n",
        "\n",
        "After LeCun et al. trained their network, they had a loss of $2.5 \\times 10^{-3}$ on the training set and $1.8 \\times 10^{-2}$ on the test set.\n",
        "Additionally, they misclassified 0.14\\% of the examples on the training set and 5.0\\% on the test set.\n",
        "\n",
        "We need to talk about one-hot encoding as well, before we move onto the model.\n",
        "Probability vectors were mentioned earlier.\n",
        "These are typically what your model outputs, when you are working with categorical variables.\n",
        "\n",
        "If we input an image and want to predict what category these are, we usually try to predict the probability of each category.\n",
        "We can view the categorization in a new light.\n",
        "Since, we know the category, then the probability that it's the correct one is 1.\n",
        "\n",
        "In the case of prediciting digits, we have 10 categories: 0, 1, 2, 3, 4, 5, 6, 7, 8, and 9.\n",
        "If our label is 5, then our output vector would be:\n",
        "$$\n",
        "[0, 0, 0, 0, 0, 1, 0, 0, 0, 0].\n",
        "$$\n",
        "We don't have to have 5 in the 5th (as programmers reckon) place, but we do require the place to be fixed.\n",
        "\n",
        "To explain this more, suppose that we want to predict one of the four letters $A, B, C, D$.\n",
        "Then we could one-hot encode it as:\n",
        "$$\n",
        "A \\to [1, 0, 0, 0]\n",
        "$$\n",
        "$$\n",
        "B \\to [0, 1, 0, 0]\n",
        "$$\n",
        "$$\n",
        "C \\to [0, 0, 1, 0]\n",
        "$$\n",
        "$$\n",
        "D \\to [0, 0, 0, 1]\n",
        "$$\n",
        "Again, we don't have to have this correspondence.\n",
        "We could have another one, such as\n",
        "$$\n",
        "A \\to [0, 1, 0, 0]\n",
        "$$\n",
        "$$\n",
        "B \\to [0, 0, 0, 1]\n",
        "$$\n",
        "$$\n",
        "C \\to [0, 0, 1, 0]\n",
        "$$\n",
        "$$\n",
        "D \\to [1, 0, 0, 0]\n",
        "$$\n",
        "The important thing is that once we decide on this correspondence, then it needs to be fixed.\n",
        "One data structure that can help with this is the `dict` class:"
      ],
      "metadata": {
        "id": "ygtrzC6e6_5C"
      }
    },
    {
      "cell_type": "code",
      "source": [
        "class_dict = {'A': np.array([1, 0, 0, 0]),\n",
        "              'B': np.array([0, 1, 0, 0]),\n",
        "              'C': np.array([0, 0, 1, 0]),\n",
        "              'D': np.array([0, 0, 0, 1])}\n",
        "\n",
        "class_dict"
      ],
      "metadata": {
        "id": "oeEkfrTPNITe"
      },
      "execution_count": null,
      "outputs": []
    },
    {
      "cell_type": "markdown",
      "source": [
        "How would we make this into a function?\n",
        "We want to take in classes and output a correspondence between the classes and the one-hot encoding.\n",
        "\n",
        "*   What do you think a good name would be?\n",
        "*   What should the inputs be?\n",
        "*   What should the ouptuts be?\n",
        "\n",
        "We're going to work on this question together right now.\n",
        "\n",
        "`def one_hot(): pass`\n",
        "\n",
        "Or the too clever way:"
      ],
      "metadata": {
        "id": "6JaEkYJkNKu4"
      }
    },
    {
      "cell_type": "code",
      "source": [
        "def one_hot(classes):\n",
        "    num_classes = len(classes)\n",
        "    ident = np.eye(num_classes)\n",
        "\n",
        "    class_dict = {classes[i]: ident[i] for i in range(num_classes)}\n",
        "\n",
        "    return class_dict"
      ],
      "metadata": {
        "id": "AV1dH-IINV5l"
      },
      "execution_count": null,
      "outputs": []
    },
    {
      "cell_type": "code",
      "source": [
        "one_hot(['A', 'B', 'C', 'D'])"
      ],
      "metadata": {
        "id": "wIb5jP09Na6V"
      },
      "execution_count": null,
      "outputs": []
    },
    {
      "cell_type": "markdown",
      "source": [
        "Now, back to the model, we want the LeNet model to output a $10$-dimensional vector, because there are 10 classes that we want to predict: the 10 digits."
      ],
      "metadata": {
        "id": "ePaHH_oINcR8"
      }
    },
    {
      "cell_type": "code",
      "source": [
        "class_list = list(range(10))"
      ],
      "metadata": {
        "id": "Q5ukjMVSqgoQ"
      },
      "execution_count": null,
      "outputs": []
    },
    {
      "cell_type": "code",
      "source": [
        "def imshow(img, label=None, class_list=class_list):\n",
        "    # Pytorch has images in Channel x height x width, this converts to h x w x c\n",
        "    img = img.numpy().transpose((1, 2, 0))\n",
        "    mean = np.array([0.4914, 0.4822, 0.4465])\n",
        "    std = np.array([0.2470, 0.2435, 0.2616])\n",
        "    # undo the normalization\n",
        "    img = std * img + mean\n",
        "    # ensure that array is in the proper range to show the image.\n",
        "    img = np.clip(img, 0, 1)\n",
        "    plt.imshow(img)\n",
        "    if label is not None:\n",
        "        # label is assumed to be a (1, ) tensor\n",
        "        label = label.item()\n",
        "        label = class_list[label]\n",
        "        plt.title(label)\n",
        "    plt.pause(0.001)"
      ],
      "metadata": {
        "id": "4D291eHLqdoq"
      },
      "execution_count": null,
      "outputs": []
    },
    {
      "cell_type": "code",
      "source": [
        "normalize_ds = torchvision.datasets.MNIST(root='./data',\n",
        "                                            train=True,\n",
        "                                            download=True,\n",
        "                                            transform=torchvision.transforms.ToTensor(),\n",
        "                                            )\n",
        "normalize_dl = torch.utils.data.DataLoader(normalize_ds,\n",
        "                                           batch_size=len(normalize_ds),\n",
        "                                           shuffle=True,\n",
        "                                           num_workers=0)"
      ],
      "metadata": {
        "colab": {
          "base_uri": "https://localhost:8080/"
        },
        "id": "lC__yZ-2qisC",
        "outputId": "11f699ce-5f02-42c8-a273-f57a60901e50"
      },
      "execution_count": null,
      "outputs": [
        {
          "output_type": "stream",
          "name": "stdout",
          "text": [
            "Downloading http://yann.lecun.com/exdb/mnist/train-images-idx3-ubyte.gz\n",
            "Downloading http://yann.lecun.com/exdb/mnist/train-images-idx3-ubyte.gz to ./data/MNIST/raw/train-images-idx3-ubyte.gz\n"
          ]
        },
        {
          "output_type": "stream",
          "name": "stderr",
          "text": [
            "100%|██████████| 9912422/9912422 [00:00<00:00, 317791520.44it/s]\n"
          ]
        },
        {
          "output_type": "stream",
          "name": "stdout",
          "text": [
            "Extracting ./data/MNIST/raw/train-images-idx3-ubyte.gz to ./data/MNIST/raw\n",
            "\n",
            "Downloading http://yann.lecun.com/exdb/mnist/train-labels-idx1-ubyte.gz\n",
            "Downloading http://yann.lecun.com/exdb/mnist/train-labels-idx1-ubyte.gz to ./data/MNIST/raw/train-labels-idx1-ubyte.gz\n"
          ]
        },
        {
          "output_type": "stream",
          "name": "stderr",
          "text": [
            "100%|██████████| 28881/28881 [00:00<00:00, 114494984.71it/s]\n"
          ]
        },
        {
          "output_type": "stream",
          "name": "stdout",
          "text": [
            "Extracting ./data/MNIST/raw/train-labels-idx1-ubyte.gz to ./data/MNIST/raw\n",
            "\n",
            "Downloading http://yann.lecun.com/exdb/mnist/t10k-images-idx3-ubyte.gz\n",
            "Downloading http://yann.lecun.com/exdb/mnist/t10k-images-idx3-ubyte.gz to ./data/MNIST/raw/t10k-images-idx3-ubyte.gz\n"
          ]
        },
        {
          "output_type": "stream",
          "name": "stderr",
          "text": [
            "100%|██████████| 1648877/1648877 [00:00<00:00, 195790034.73it/s]"
          ]
        },
        {
          "output_type": "stream",
          "name": "stdout",
          "text": [
            "Extracting ./data/MNIST/raw/t10k-images-idx3-ubyte.gz to ./data/MNIST/raw\n",
            "\n",
            "Downloading http://yann.lecun.com/exdb/mnist/t10k-labels-idx1-ubyte.gz"
          ]
        },
        {
          "output_type": "stream",
          "name": "stderr",
          "text": [
            "\n"
          ]
        },
        {
          "output_type": "stream",
          "name": "stdout",
          "text": [
            "\n",
            "Downloading http://yann.lecun.com/exdb/mnist/t10k-labels-idx1-ubyte.gz to ./data/MNIST/raw/t10k-labels-idx1-ubyte.gz\n"
          ]
        },
        {
          "output_type": "stream",
          "name": "stderr",
          "text": [
            "100%|██████████| 4542/4542 [00:00<00:00, 15059706.54it/s]\n"
          ]
        },
        {
          "output_type": "stream",
          "name": "stdout",
          "text": [
            "Extracting ./data/MNIST/raw/t10k-labels-idx1-ubyte.gz to ./data/MNIST/raw\n",
            "\n"
          ]
        }
      ]
    },
    {
      "cell_type": "code",
      "source": [
        "for data, _ in normalize_dl:\n",
        "    mean = torch.mean(data, (0, 2, 3))\n",
        "    std = torch.std(data, (0, 2, 3))"
      ],
      "metadata": {
        "id": "v4ruw1RaqkQo"
      },
      "execution_count": null,
      "outputs": []
    },
    {
      "cell_type": "code",
      "source": [
        "transform = torchvision.transforms.Compose(\n",
        "    [torchvision.transforms.ToTensor(),\n",
        "     torchvision.transforms.Normalize(mean=mean, std=std),\n",
        "    ]\n",
        ")"
      ],
      "metadata": {
        "id": "jv_DEl1nqnr9"
      },
      "execution_count": null,
      "outputs": []
    },
    {
      "cell_type": "code",
      "source": [
        "train_ds = torchvision.datasets.MNIST(root='./data', train=True, transform=transform)\n",
        "test_ds = torchvision.datasets.MNIST(root='./data', train=False, transform=transform)"
      ],
      "metadata": {
        "id": "N9ppa6T0qphj"
      },
      "execution_count": null,
      "outputs": []
    },
    {
      "cell_type": "code",
      "source": [
        "train_loader = torch.utils.data.DataLoader(train_ds,\n",
        "                                          batch_size=len(train_ds),\n",
        "                                          shuffle=True,\n",
        "                                          num_workers=0,\n",
        "                                          pin_memory=False)\n",
        "test_loader = torch.utils.data.DataLoader(test_ds,\n",
        "                                          batch_size=len(test_ds),\n",
        "                                          shuffle=True,\n",
        "                                          num_workers=0,\n",
        "                                          pin_memory=False)"
      ],
      "metadata": {
        "id": "-CdJGV7GquCT"
      },
      "execution_count": null,
      "outputs": []
    },
    {
      "cell_type": "code",
      "source": [
        "class LeNet(torch.nn.Module):\n",
        "\n",
        "    def __init__(self):\n",
        "        super().__init__()\n",
        "\n",
        "        self.conv1 = torch.nn.Conv2d(in_channels=1,\n",
        "                                     out_channels=6,\n",
        "                                     kernel_size=5,\n",
        "                                     padding=2)\n",
        "        self.conv2 = torch.nn.Conv2d(in_channels=6,\n",
        "                                     out_channels=16,\n",
        "                                     kernel_size=5)\n",
        "        self.pool = torch.nn.AvgPool2d(kernel_size=2,\n",
        "                                       stride=2)\n",
        "        self.fc1 = torch.nn.Linear(in_features=400,\n",
        "                                   out_features=120)\n",
        "        self.fc2 = torch.nn.Linear(in_features=120,\n",
        "                                   out_features=84)\n",
        "        self.fc3 = torch.nn.Linear(in_features=84,\n",
        "                                   out_features=10)\n",
        "        self.activation = torch.tanh\n",
        "\n",
        "    def forward(self, x):\n",
        "        x = self.conv1(x)\n",
        "        x = self.activation(x)\n",
        "        x = self.pool(x)\n",
        "        x = self.conv2(x)\n",
        "        x = self.activation(x)\n",
        "        x = self.pool(x)\n",
        "        x = torch.flatten(x, start_dim=1)\n",
        "        x = self.fc1(x)\n",
        "        x = self.activation(x)\n",
        "        x = self.fc2(x)\n",
        "        x = self.activation(x)\n",
        "        x = self.fc3(x)\n",
        "        x = self.activation(x)\n",
        "        return x"
      ],
      "metadata": {
        "id": "JA4UuPedqXZb"
      },
      "execution_count": null,
      "outputs": []
    },
    {
      "cell_type": "code",
      "source": [
        "model = LeNet()"
      ],
      "metadata": {
        "id": "yMtDcxlTqaAR"
      },
      "execution_count": null,
      "outputs": []
    },
    {
      "cell_type": "code",
      "source": [
        "images, classes = next(iter(train_loader))"
      ],
      "metadata": {
        "id": "YZdicOtvqZTb"
      },
      "execution_count": null,
      "outputs": []
    },
    {
      "cell_type": "code",
      "source": [
        "images.shape"
      ],
      "metadata": {
        "colab": {
          "base_uri": "https://localhost:8080/"
        },
        "id": "5phbxZKMq1sT",
        "outputId": "8d44153a-9e98-4d67-ebb8-3a3f62106826"
      },
      "execution_count": null,
      "outputs": [
        {
          "output_type": "execute_result",
          "data": {
            "text/plain": [
              "torch.Size([60000, 1, 28, 28])"
            ]
          },
          "metadata": {},
          "execution_count": 50
        }
      ]
    },
    {
      "cell_type": "code",
      "source": [
        "num = np.random.randint(low=0, high=len(train_ds))\n",
        "imshow(images[num], classes[num])"
      ],
      "metadata": {
        "colab": {
          "base_uri": "https://localhost:8080/",
          "height": 452
        },
        "id": "DIBAJPJrq2pQ",
        "outputId": "a5e9ab6b-ea5d-4a94-94c7-e96133b2f171"
      },
      "execution_count": null,
      "outputs": [
        {
          "output_type": "display_data",
          "data": {
            "text/plain": [
              "<Figure size 640x480 with 1 Axes>"
            ],
            "image/png": "[encoded data removed]"
          },
          "metadata": {}
        }
      ]
    },
    {
      "cell_type": "code",
      "source": [
        "def make_prediction(model, image, class_list=class_list):\n",
        "    # If shape is not\n",
        "    image = image.unsqueeze(0)\n",
        "    pred = model(image)\n",
        "    pred = torch.argmax(pred)\n",
        "    return class_list[pred]"
      ],
      "metadata": {
        "id": "zziw9yUoq-Sr"
      },
      "execution_count": null,
      "outputs": []
    },
    {
      "cell_type": "code",
      "source": [
        "make_prediction(model, images[num])"
      ],
      "metadata": {
        "colab": {
          "base_uri": "https://localhost:8080/"
        },
        "id": "Q3t79Noxq_iU",
        "outputId": "9d61a0c8-09cc-45a8-ddc9-5519eb85978f"
      },
      "execution_count": null,
      "outputs": [
        {
          "output_type": "execute_result",
          "data": {
            "text/plain": [
              "1"
            ]
          },
          "metadata": {},
          "execution_count": 53
        }
      ]
    },
    {
      "cell_type": "markdown",
      "source": [
        "We downloaded the training set, looked at an image, and found that our model makes incorrect predictions.\n",
        "We're going to change that by training."
      ],
      "metadata": {
        "id": "0SiACRR1rAzq"
      }
    },
    {
      "cell_type": "code",
      "source": [
        "def train(model, train_loader, criterion, opt, epochs=10):\n",
        "    history = []\n",
        "    device = torch.device('cuda:0' if torch.cuda.is_available() else 'cpu')\n",
        "    model.to(device)\n",
        "\n",
        "    print(\"Epoch | Batch | Time(s) | Loss\")\n",
        "    print(\"------------------------------\")\n",
        "\n",
        "    step = 0\n",
        "\n",
        "    for epoch in range(epochs):\n",
        "        running_loss = 0.0\n",
        "        t = time.time()\n",
        "\n",
        "        for i, (inputs, label) in enumerate(train_loader, 0):\n",
        "            inputs, label = inputs.to(device), label.to(device)\n",
        "\n",
        "            opt.zero_grad(set_to_none=True)\n",
        "\n",
        "            outputs = model(inputs)\n",
        "\n",
        "            label = F.one_hot(label, num_classes=10)\n",
        "            label = label.type(torch.float)\n",
        "\n",
        "            loss = criterion(outputs, label)\n",
        "\n",
        "            loss.backward()\n",
        "            opt.step()\n",
        "\n",
        "            running_loss += loss.item()\n",
        "            step += 1\n",
        "            history.append((step, loss))\n",
        "\n",
        "        t = time.time() - t\n",
        "        print(f\"{epoch + 1:5d} | {i:5d} | {int(t):8d} | {running_loss:.5f}\")\n",
        "        running_loss = 0\n",
        "\n",
        "    return history"
      ],
      "metadata": {
        "id": "eMetR4eDrAa8"
      },
      "execution_count": null,
      "outputs": []
    },
    {
      "cell_type": "code",
      "source": [
        "def evaluate(model, testloader):\n",
        "    model.eval()\n",
        "    correct = 0\n",
        "    total = 0\n",
        "\n",
        "    with torch.no_grad():\n",
        "        for inputs, label in test_loader:\n",
        "            inputs, label = inputs.to(device), label.to(device)\n",
        "            outputs = model(inputs)\n",
        "\n",
        "            _, predicted = torch.max(outputs.data, 1)\n",
        "            total += label.size(0)\n",
        "            correct += (predicted == label).sum().item()\n",
        "\n",
        "    print(f'Accuracy of the network on 10000 test images: {100 * correct // total} %')\n",
        "    return 100 * correct // total"
      ],
      "metadata": {
        "id": "ZY6Kyb48rJjD"
      },
      "execution_count": null,
      "outputs": []
    },
    {
      "cell_type": "markdown",
      "source": [
        "In the original paper, LeCun et al. used mean squared error, which is defined by\n",
        "$$\n",
        "\\frac{1}{n} \\sum_{i = 1}^{n} \\left(y_{i} - \\widehat{y}_{i}\\right)^{2}\n",
        "$$\n",
        "here, $n$ is the number of samples, $y_{i}$ is the actual label, and $\\widehat{y}_{i}$ is the predicted label."
      ],
      "metadata": {
        "id": "mOYb9-RgrOMT"
      }
    },
    {
      "cell_type": "code",
      "source": [
        "device = torch.device('cuda:0' if torch.cuda.is_available() else 'cpu')\n",
        "print(device)\n",
        "model = model.to(device)\n",
        "\n",
        "criterion = torch.nn.MSELoss()\n",
        "opt = torch.optim.SGD(model.parameters(), lr=1e-1, momentum=0.9)"
      ],
      "metadata": {
        "colab": {
          "base_uri": "https://localhost:8080/"
        },
        "id": "tjOo1YBArNIU",
        "outputId": "3b6aba60-f8f0-441f-8743-bbc2720a6f1e"
      },
      "execution_count": null,
      "outputs": [
        {
          "output_type": "stream",
          "name": "stdout",
          "text": [
            "cuda:0\n"
          ]
        }
      ]
    },
    {
      "cell_type": "code",
      "source": [
        "evaluate(model, test_loader)"
      ],
      "metadata": {
        "colab": {
          "base_uri": "https://localhost:8080/"
        },
        "id": "h9Z7HaE2uXHg",
        "outputId": "48f3567f-94b0-4542-e006-34ded2c186c2"
      },
      "execution_count": null,
      "outputs": [
        {
          "output_type": "stream",
          "name": "stdout",
          "text": [
            "Accuracy of the network on 10000 test images: 13 %\n"
          ]
        },
        {
          "output_type": "execute_result",
          "data": {
            "text/plain": [
              "13"
            ]
          },
          "metadata": {},
          "execution_count": 62
        }
      ]
    },
    {
      "cell_type": "code",
      "source": [
        "history = train(model, train_loader, criterion, opt, epochs=10)"
      ],
      "metadata": {
        "colab": {
          "base_uri": "https://localhost:8080/"
        },
        "id": "gTVyj5SzuZ79",
        "outputId": "2570b51c-00e3-4cca-ed3a-8671d91257ec"
      },
      "execution_count": null,
      "outputs": [
        {
          "output_type": "stream",
          "name": "stdout",
          "text": [
            "Epoch | Batch | Time(s) | Loss\n",
            "------------------------------\n",
            "    1 |     0 |       14 | 0.11546\n",
            "    2 |     0 |       14 | 0.11324\n",
            "    3 |     0 |       19 | 0.10937\n",
            "    4 |     0 |       20 | 0.10458\n",
            "    5 |     0 |       15 | 0.09960\n",
            "    6 |     0 |       14 | 0.09505\n",
            "    7 |     0 |       14 | 0.09134\n",
            "    8 |     0 |       14 | 0.08869\n",
            "    9 |     0 |       15 | 0.08709\n",
            "   10 |     0 |       15 | 0.08636\n"
          ]
        }
      ]
    },
    {
      "cell_type": "code",
      "source": [
        "training_steps = np.array([step for step, _ in history])\n",
        "loss = np.array([loss.item() for _, loss in history])\n",
        "\n",
        "fig, ax = plt.subplots()\n",
        "ax.plot(training_steps, loss)\n",
        "\n",
        "ax.set(xlabel='training_steps', ylabel='loss')\n",
        "ax.grid()\n",
        "plt.show()"
      ],
      "metadata": {
        "colab": {
          "base_uri": "https://localhost:8080/",
          "height": 450
        },
        "id": "Vsgj0b4ivaTQ",
        "outputId": "af4ddcc3-9c58-485c-fca5-3ea2566c9ca8"
      },
      "execution_count": null,
      "outputs": [
        {
          "output_type": "display_data",
          "data": {
            "text/plain": [
              "<Figure size 640x480 with 1 Axes>"
            ],
            "image/png": "[encoded data removed]"
          },
          "metadata": {}
        }
      ]
    },
    {
      "cell_type": "code",
      "source": [
        "evaluate(model, test_loader)"
      ],
      "metadata": {
        "colab": {
          "base_uri": "https://localhost:8080/"
        },
        "id": "AZ85UXGqw4nT",
        "outputId": "e5948d73-1113-418b-ff0e-59202c3b2c8a"
      },
      "execution_count": null,
      "outputs": [
        {
          "output_type": "stream",
          "name": "stdout",
          "text": [
            "Accuracy of the network on 10000 test images: 35 %\n"
          ]
        },
        {
          "output_type": "execute_result",
          "data": {
            "text/plain": [
              "35"
            ]
          },
          "metadata": {},
          "execution_count": 65
        }
      ]
    },
    {
      "cell_type": "code",
      "source": [
        "num = np.random.randint(low=0, high=len(train_ds))\n",
        "imshow(images[num], classes[num])"
      ],
      "metadata": {
        "colab": {
          "base_uri": "https://localhost:8080/",
          "height": 452
        },
        "id": "pcm-OvH2vddy",
        "outputId": "6a068404-f9af-4e08-9bf3-b337c961033d"
      },
      "execution_count": null,
      "outputs": [
        {
          "output_type": "display_data",
          "data": {
            "text/plain": [
              "<Figure size 640x480 with 1 Axes>"
            ],
            "image/png": "[encoded data removed]"
          },
          "metadata": {}
        }
      ]
    },
    {
      "cell_type": "code",
      "source": [
        "print(make_prediction(model, images[num].to(device)), class_list[classes[num]])"
      ],
      "metadata": {
        "colab": {
          "base_uri": "https://localhost:8080/"
        },
        "id": "wXEBVPAEw9XM",
        "outputId": "ebd928b2-7fbc-49ac-cd08-6202e028bbd1"
      },
      "execution_count": null,
      "outputs": [
        {
          "output_type": "stream",
          "name": "stdout",
          "text": [
            "7 7\n"
          ]
        }
      ]
    },
    {
      "cell_type": "code",
      "source": [],
      "metadata": {
        "id": "HJb39rDhxpI2"
      },
      "execution_count": null,
      "outputs": []
    }
  ]
}