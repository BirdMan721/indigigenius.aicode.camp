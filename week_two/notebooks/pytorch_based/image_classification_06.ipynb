{
 "cells": [
  {
   "cell_type": "code",
   "execution_count": 1,
   "id": "18e5b1aa",
   "metadata": {},
   "outputs": [],
   "source": [
    "%matplotlib inline"
   ]
  },
  {
   "cell_type": "code",
   "execution_count": 2,
   "id": "85089653",
   "metadata": {},
   "outputs": [
    {
     "name": "stderr",
     "output_type": "stream",
     "text": [
      "/opt/conda/lib/python3.8/site-packages/tqdm/auto.py:22: TqdmWarning: IProgress not found. Please update jupyter and ipywidgets. See https://ipywidgets.readthedocs.io/en/stable/user_install.html\n",
      "  from .autonotebook import tqdm as notebook_tqdm\n"
     ]
    }
   ],
   "source": [
    "from IPython.display import clear_output\n",
    "from PIL import Image\n",
    "\n",
    "import os\n",
    "\n",
    "import pprint\n",
    "import time\n",
    "import torch\n",
    "import torchvision\n",
    "\n",
    "import matplotlib.pyplot as plt\n",
    "import numpy as np\n",
    "import torch.nn.functional as F\n",
    "import torchvision.transforms as T"
   ]
  },
  {
   "cell_type": "code",
   "execution_count": 3,
   "id": "202247ca",
   "metadata": {},
   "outputs": [],
   "source": [
    "def show_image(data, class_list=None):\n",
    "    image, label = data\n",
    "    image = image.numpy().transpose((1, 2, 0))\n",
    "        \n",
    "    if class_list:\n",
    "        label = class_list[label]\n",
    "        \n",
    "    plt.title(label)\n",
    "    plt.imshow(image)"
   ]
  },
  {
   "cell_type": "code",
   "execution_count": 4,
   "id": "9291e65b",
   "metadata": {},
   "outputs": [],
   "source": [
    "def print_training_history(history):\n",
    "    training_steps = np.array([step for step, _ in history])\n",
    "    loss = np.array([loss for _, loss in history])\n",
    "\n",
    "    fig, ax = plt.subplots()\n",
    "    ax.plot(training_steps, loss)\n",
    "\n",
    "    ax.set(xlabel='training_steps', ylabel='loss')\n",
    "    ax.grid()\n",
    "    plt.show()"
   ]
  },
  {
   "cell_type": "markdown",
   "id": "6ea25178",
   "metadata": {},
   "source": [
    "Our breakdown of machine learning was:\n",
    "- data\n",
    "- model\n",
    "- training.\n",
    "\n",
    "We're going to go into more detail on these:\n",
    "- data\n",
    "    - dataset\n",
    "    - dataloader\n",
    "    - data augmentation\n",
    "- model\n",
    "    - neural network layer\n",
    "    - activation function\n",
    "- training\n",
    "    - loss function\n",
    "    - optimizer\n",
    "\n",
    "We covered all of data.\n",
    "We're going to go into the training function from earlier!\n",
    "Afterwards, we'll talk more about activation functions, loss functions, and optimizers.\n",
    "\n",
    "Remember our training function:"
   ]
  },
  {
   "cell_type": "code",
   "execution_count": 5,
   "id": "1e910f0d",
   "metadata": {},
   "outputs": [],
   "source": [
    "def train(model, criterion, opt, train_dl, test_dl, epochs=23, evaluate=True):\n",
    "    \n",
    "    # The history of our training, inputs step, loss pair.\n",
    "    history = []\n",
    "    \n",
    "    # Initialize step\n",
    "    step = 1\n",
    "\n",
    "    # This is our loss function\n",
    "    # criterion = torch.nn.MSELoss()\n",
    "    \n",
    "    # This is our optimizer\n",
    "    # opt = torch.optim.SGD(model.parameters(), lr=1e-3, momentum=0.9)\n",
    "    \n",
    "    # This is the code that allows us to use our GPU to train.\n",
    "    device = torch.device('cuda:0' if torch.cuda.is_available() else 'cpu')\n",
    "    model.to(device)\n",
    "    \n",
    "    # This controls how many iterations we want to make, which helps control how well our model\n",
    "    # generalizes.\n",
    "    for epoch in range(epochs):\n",
    "        \n",
    "        t = time.time()\n",
    "        batch_start = t\n",
    "\n",
    "        #This is how we get our inputs and labels from our dataloader.\n",
    "        for i, (inputs, label) in enumerate(train_dl):\n",
    "            \n",
    "            # This sends the inputs and the labels to our device.\n",
    "            inputs, label = inputs.to(device), label.to(device)\n",
    "\n",
    "            # We have to zero out our gradients, because they can get too large.\n",
    "            opt.zero_grad(set_to_none=True)\n",
    "            \n",
    "            # This is the prediction of our model\n",
    "            #out = torch.nn.LogSoftmax(dim=1)(model(inputs))\n",
    "            out = model(inputs)\n",
    "            \n",
    "            # Remember loss functions take two inputs, the prediction and the label.\n",
    "            loss = criterion(out, label)\n",
    "            \n",
    "            # This step gets our gradients.\n",
    "            loss.backward()\n",
    "            \n",
    "            # This is how we update our neural network weights. \n",
    "            opt.step()\n",
    "            \n",
    "            # Append current step and loss.\n",
    "            history.append((step, loss.item()))\n",
    "            step += 1\n",
    "\n",
    "            # Get time Batch training is taking.\n",
    "            t = time.time() - batch_start\n",
    "\n",
    "            # Gives a nice representation of how our training is progressing.\n",
    "            clear_output(wait=True)\n",
    "            print(\"Epoch | Batch | Time(s) | Loss\")\n",
    "            print(\"------------------------------\")\n",
    "            print(f\"{epoch + 1:5d} | {i:5d} | {int(t):7d} | {loss:.5f}\")\n",
    "        \n",
    "        print(f\"Finished epoch {epoch + 1}.\")\n",
    "    print(f\"Finished Training!\")\n",
    "    if evaluate:\n",
    "        print(\"Evaluating\")\n",
    "        model_evaluate(model, test_dl)\n",
    "    \n",
    "    return history"
   ]
  },
  {
   "cell_type": "code",
   "execution_count": 6,
   "id": "c5550d91",
   "metadata": {},
   "outputs": [],
   "source": [
    "def model_evaluate(model, test_loader):\n",
    "    \n",
    "    device = torch.device('cuda:0' if torch.cuda.is_available() else 'cpu')\n",
    "\n",
    "    model.eval()\n",
    "    correct = 0\n",
    "    total = 0\n",
    "    \n",
    "    with torch.no_grad():\n",
    "        for inputs, label in test_loader:\n",
    "            inputs, label = inputs.to(device), label.to(device)\n",
    "            outputs = model(inputs)\n",
    "            \n",
    "            _, predicted = torch.max(outputs.data, 1)\n",
    "            total += label.size(0)\n",
    "            correct += (predicted == label).sum().item()\n",
    "            \n",
    "    print(f'Accuracy of the network on 10000 test images: {100 * correct // total} %')\n",
    "    return 100 * correct // total"
   ]
  },
  {
   "cell_type": "code",
   "execution_count": 7,
   "id": "436a9121",
   "metadata": {},
   "outputs": [],
   "source": [
    "transforms = torchvision.transforms.Compose(\n",
    "    [torchvision.transforms.ToTensor(),\n",
    "     torchvision.transforms.Normalize(mean=torch.tensor([0.1307]), std=torch.tensor([0.3081]))\n",
    "    ])"
   ]
  },
  {
   "cell_type": "code",
   "execution_count": 8,
   "id": "08468e19",
   "metadata": {},
   "outputs": [
    {
     "name": "stdout",
     "output_type": "stream",
     "text": [
      "Files already downloaded and verified\n",
      "Files already downloaded and verified\n"
     ]
    }
   ],
   "source": [
    "train_ds = torchvision.datasets.CIFAR10(root='../data',\n",
    "                                      train=True,\n",
    "                                      download=True,\n",
    "                                      transform=transforms)\n",
    "\n",
    "test_ds = torchvision.datasets.CIFAR10(root='../data',\n",
    "                                     train=False,\n",
    "                                     download=True,\n",
    "                                     transform=transforms)"
   ]
  },
  {
   "cell_type": "code",
   "execution_count": 9,
   "id": "0251b5ea",
   "metadata": {},
   "outputs": [],
   "source": [
    "# Change the batch size until your GPU near's capacity.\n",
    "# We can check this by running `nvidia-smi` in Windows PowerShell\n",
    "bs = 2048\n",
    "\n",
    "# Think about how many training steps you want your model to take.\n",
    "# Typically this is a function of dataset size, batch size, and epochs.\n",
    "# The number of steps is: ((len(dataset) // batch_size) + 1) * epochs\n",
    "# So, if we had 50,000 elements in our dataset, a batch size of 1024, and 23 epochs, then \n",
    "# we would take 1,127 training steps.\n",
    "# In industry, the models can train for hundreds of thousands and even millions of steps.\n",
    "epochs = 10"
   ]
  },
  {
   "cell_type": "code",
   "execution_count": 11,
   "id": "5c6f20ab",
   "metadata": {},
   "outputs": [],
   "source": [
    "train_dl = torch.utils.data.DataLoader(train_ds,\n",
    "                                       batch_size=bs,\n",
    "                                       shuffle=True,\n",
    "                                       num_workers=4)\n",
    "test_dl = torch.utils.data.DataLoader(test_ds,\n",
    "                                      batch_size=bs,\n",
    "                                      shuffle=False,\n",
    "                                      num_workers=4)"
   ]
  },
  {
   "cell_type": "code",
   "execution_count": 96,
   "id": "af38a8b4",
   "metadata": {},
   "outputs": [],
   "source": [
    "# Insert your model here\n",
    "# model = LeNet()\n",
    "model = torchvision.models.resnet18(pretrained=True)"
   ]
  },
  {
   "cell_type": "code",
   "execution_count": 97,
   "id": "996bf49c",
   "metadata": {},
   "outputs": [],
   "source": [
    "model.fc = torch.nn.Linear(model.fc.in_features, 10)"
   ]
  },
  {
   "cell_type": "code",
   "execution_count": 98,
   "id": "39888b6f",
   "metadata": {},
   "outputs": [],
   "source": [
    "criterion = torch.nn.CrossEntropyLoss()\n",
    "opt = torch.optim.Adam(model.parameters(), lr=1e-4)"
   ]
  },
  {
   "cell_type": "code",
   "execution_count": 99,
   "id": "19978ee1",
   "metadata": {
    "scrolled": false
   },
   "outputs": [
    {
     "name": "stdout",
     "output_type": "stream",
     "text": [
      "Epoch | Batch | Time(s) | Loss\n",
      "------------------------------\n",
      "  500 |    24 |      11 | 0.00000\n",
      "Finished epoch 500.\n",
      "Finished Training!\n",
      "Evaluating\n",
      "Accuracy of the network on 10000 test images: 79 %\n"
     ]
    }
   ],
   "source": [
    "history = train(model, criterion, opt, train_dl, test_dl, epochs=500, evaluate=True)"
   ]
  },
  {
   "cell_type": "code",
   "execution_count": 100,
   "id": "a00415af",
   "metadata": {},
   "outputs": [
    {
     "data": {
      "image/png": "[encoded data removed]",
      "text/plain": [
       "<Figure size 432x288 with 1 Axes>"
      ]
     },
     "metadata": {
      "needs_background": "light"
     },
     "output_type": "display_data"
    }
   ],
   "source": [
    "print_training_history(history)"
   ]
  },
  {
   "cell_type": "code",
   "execution_count": 101,
   "id": "ca34560f",
   "metadata": {},
   "outputs": [
    {
     "name": "stdout",
     "output_type": "stream",
     "text": [
      "Accuracy of the network on 10000 test images: 79 %\n"
     ]
    },
    {
     "data": {
      "text/plain": [
       "79"
      ]
     },
     "execution_count": 101,
     "metadata": {},
     "output_type": "execute_result"
    }
   ],
   "source": [
    "model_evaluate(model, test_dl)"
   ]
  },
  {
   "cell_type": "markdown",
   "id": "06fa66a6",
   "metadata": {},
   "source": [
    "Now we save our model!"
   ]
  },
  {
   "cell_type": "code",
   "execution_count": 102,
   "id": "c182e31c",
   "metadata": {},
   "outputs": [
    {
     "name": "stderr",
     "output_type": "stream",
     "text": [
      "/opt/conda/lib/python3.8/site-packages/torch/nn/modules/module.py:1383: UserWarning: positional arguments and argument \"destination\" are deprecated. nn.Module.state_dict will not accept them in the future. Refer to https://pytorch.org/docs/master/generated/torch.nn.Module.html#torch.nn.Module.state_dict for details.\n",
      "  warnings.warn(\n"
     ]
    }
   ],
   "source": [
    "# Naming convention\n",
    "# ../models/model_name_TIME_dataset.pt\n",
    "\n",
    "PATH = '../models/resnet50_20220720_CIFAR10.pt'\n",
    "\n",
    "torch.save(model.state_dict(), PATH)"
   ]
  },
  {
   "cell_type": "code",
   "execution_count": 18,
   "id": "cad606fa",
   "metadata": {},
   "outputs": [],
   "source": [
    "PATH = '../models/resnet50_20220720_CIFAR10.pt'"
   ]
  },
  {
   "cell_type": "markdown",
   "id": "5c69e1d0",
   "metadata": {},
   "source": [
    "We load our model in the following manner:"
   ]
  },
  {
   "cell_type": "code",
   "execution_count": 23,
   "id": "2b8d6945",
   "metadata": {},
   "outputs": [],
   "source": [
    "# Insantiate the correct model class\n",
    "model = torchvision.models.resnet18(pretrained=False)"
   ]
  },
  {
   "cell_type": "code",
   "execution_count": 24,
   "id": "97bb507b",
   "metadata": {},
   "outputs": [],
   "source": [
    "model.fc = torch.nn.Linear(model.fc.in_features, 10)"
   ]
  },
  {
   "cell_type": "code",
   "execution_count": 25,
   "id": "bc6991e5",
   "metadata": {},
   "outputs": [
    {
     "data": {
      "text/plain": [
       "ResNet(\n",
       "  (conv1): Conv2d(3, 64, kernel_size=(7, 7), stride=(2, 2), padding=(3, 3), bias=False)\n",
       "  (bn1): BatchNorm2d(64, eps=1e-05, momentum=0.1, affine=True, track_running_stats=True)\n",
       "  (relu): ReLU(inplace=True)\n",
       "  (maxpool): MaxPool2d(kernel_size=3, stride=2, padding=1, dilation=1, ceil_mode=False)\n",
       "  (layer1): Sequential(\n",
       "    (0): BasicBlock(\n",
       "      (conv1): Conv2d(64, 64, kernel_size=(3, 3), stride=(1, 1), padding=(1, 1), bias=False)\n",
       "      (bn1): BatchNorm2d(64, eps=1e-05, momentum=0.1, affine=True, track_running_stats=True)\n",
       "      (relu): ReLU(inplace=True)\n",
       "      (conv2): Conv2d(64, 64, kernel_size=(3, 3), stride=(1, 1), padding=(1, 1), bias=False)\n",
       "      (bn2): BatchNorm2d(64, eps=1e-05, momentum=0.1, affine=True, track_running_stats=True)\n",
       "    )\n",
       "    (1): BasicBlock(\n",
       "      (conv1): Conv2d(64, 64, kernel_size=(3, 3), stride=(1, 1), padding=(1, 1), bias=False)\n",
       "      (bn1): BatchNorm2d(64, eps=1e-05, momentum=0.1, affine=True, track_running_stats=True)\n",
       "      (relu): ReLU(inplace=True)\n",
       "      (conv2): Conv2d(64, 64, kernel_size=(3, 3), stride=(1, 1), padding=(1, 1), bias=False)\n",
       "      (bn2): BatchNorm2d(64, eps=1e-05, momentum=0.1, affine=True, track_running_stats=True)\n",
       "    )\n",
       "  )\n",
       "  (layer2): Sequential(\n",
       "    (0): BasicBlock(\n",
       "      (conv1): Conv2d(64, 128, kernel_size=(3, 3), stride=(2, 2), padding=(1, 1), bias=False)\n",
       "      (bn1): BatchNorm2d(128, eps=1e-05, momentum=0.1, affine=True, track_running_stats=True)\n",
       "      (relu): ReLU(inplace=True)\n",
       "      (conv2): Conv2d(128, 128, kernel_size=(3, 3), stride=(1, 1), padding=(1, 1), bias=False)\n",
       "      (bn2): BatchNorm2d(128, eps=1e-05, momentum=0.1, affine=True, track_running_stats=True)\n",
       "      (downsample): Sequential(\n",
       "        (0): Conv2d(64, 128, kernel_size=(1, 1), stride=(2, 2), bias=False)\n",
       "        (1): BatchNorm2d(128, eps=1e-05, momentum=0.1, affine=True, track_running_stats=True)\n",
       "      )\n",
       "    )\n",
       "    (1): BasicBlock(\n",
       "      (conv1): Conv2d(128, 128, kernel_size=(3, 3), stride=(1, 1), padding=(1, 1), bias=False)\n",
       "      (bn1): BatchNorm2d(128, eps=1e-05, momentum=0.1, affine=True, track_running_stats=True)\n",
       "      (relu): ReLU(inplace=True)\n",
       "      (conv2): Conv2d(128, 128, kernel_size=(3, 3), stride=(1, 1), padding=(1, 1), bias=False)\n",
       "      (bn2): BatchNorm2d(128, eps=1e-05, momentum=0.1, affine=True, track_running_stats=True)\n",
       "    )\n",
       "  )\n",
       "  (layer3): Sequential(\n",
       "    (0): BasicBlock(\n",
       "      (conv1): Conv2d(128, 256, kernel_size=(3, 3), stride=(2, 2), padding=(1, 1), bias=False)\n",
       "      (bn1): BatchNorm2d(256, eps=1e-05, momentum=0.1, affine=True, track_running_stats=True)\n",
       "      (relu): ReLU(inplace=True)\n",
       "      (conv2): Conv2d(256, 256, kernel_size=(3, 3), stride=(1, 1), padding=(1, 1), bias=False)\n",
       "      (bn2): BatchNorm2d(256, eps=1e-05, momentum=0.1, affine=True, track_running_stats=True)\n",
       "      (downsample): Sequential(\n",
       "        (0): Conv2d(128, 256, kernel_size=(1, 1), stride=(2, 2), bias=False)\n",
       "        (1): BatchNorm2d(256, eps=1e-05, momentum=0.1, affine=True, track_running_stats=True)\n",
       "      )\n",
       "    )\n",
       "    (1): BasicBlock(\n",
       "      (conv1): Conv2d(256, 256, kernel_size=(3, 3), stride=(1, 1), padding=(1, 1), bias=False)\n",
       "      (bn1): BatchNorm2d(256, eps=1e-05, momentum=0.1, affine=True, track_running_stats=True)\n",
       "      (relu): ReLU(inplace=True)\n",
       "      (conv2): Conv2d(256, 256, kernel_size=(3, 3), stride=(1, 1), padding=(1, 1), bias=False)\n",
       "      (bn2): BatchNorm2d(256, eps=1e-05, momentum=0.1, affine=True, track_running_stats=True)\n",
       "    )\n",
       "  )\n",
       "  (layer4): Sequential(\n",
       "    (0): BasicBlock(\n",
       "      (conv1): Conv2d(256, 512, kernel_size=(3, 3), stride=(2, 2), padding=(1, 1), bias=False)\n",
       "      (bn1): BatchNorm2d(512, eps=1e-05, momentum=0.1, affine=True, track_running_stats=True)\n",
       "      (relu): ReLU(inplace=True)\n",
       "      (conv2): Conv2d(512, 512, kernel_size=(3, 3), stride=(1, 1), padding=(1, 1), bias=False)\n",
       "      (bn2): BatchNorm2d(512, eps=1e-05, momentum=0.1, affine=True, track_running_stats=True)\n",
       "      (downsample): Sequential(\n",
       "        (0): Conv2d(256, 512, kernel_size=(1, 1), stride=(2, 2), bias=False)\n",
       "        (1): BatchNorm2d(512, eps=1e-05, momentum=0.1, affine=True, track_running_stats=True)\n",
       "      )\n",
       "    )\n",
       "    (1): BasicBlock(\n",
       "      (conv1): Conv2d(512, 512, kernel_size=(3, 3), stride=(1, 1), padding=(1, 1), bias=False)\n",
       "      (bn1): BatchNorm2d(512, eps=1e-05, momentum=0.1, affine=True, track_running_stats=True)\n",
       "      (relu): ReLU(inplace=True)\n",
       "      (conv2): Conv2d(512, 512, kernel_size=(3, 3), stride=(1, 1), padding=(1, 1), bias=False)\n",
       "      (bn2): BatchNorm2d(512, eps=1e-05, momentum=0.1, affine=True, track_running_stats=True)\n",
       "    )\n",
       "  )\n",
       "  (avgpool): AdaptiveAvgPool2d(output_size=(1, 1))\n",
       "  (fc): Linear(in_features=512, out_features=10, bias=True)\n",
       ")"
      ]
     },
     "execution_count": 25,
     "metadata": {},
     "output_type": "execute_result"
    }
   ],
   "source": [
    "model.to('cuda')"
   ]
  },
  {
   "cell_type": "code",
   "execution_count": 26,
   "id": "f4508e8b",
   "metadata": {},
   "outputs": [
    {
     "name": "stdout",
     "output_type": "stream",
     "text": [
      "Accuracy of the network on 10000 test images: 9 %\n"
     ]
    },
    {
     "data": {
      "text/plain": [
       "9"
      ]
     },
     "execution_count": 26,
     "metadata": {},
     "output_type": "execute_result"
    }
   ],
   "source": [
    "model_evaluate(model, test_dl)"
   ]
  },
  {
   "cell_type": "code",
   "execution_count": 27,
   "id": "2208aefb",
   "metadata": {},
   "outputs": [
    {
     "data": {
      "text/plain": [
       "<All keys matched successfully>"
      ]
     },
     "execution_count": 27,
     "metadata": {},
     "output_type": "execute_result"
    }
   ],
   "source": [
    "model.load_state_dict(torch.load(PATH))"
   ]
  },
  {
   "cell_type": "code",
   "execution_count": 28,
   "id": "d2e88bae",
   "metadata": {},
   "outputs": [
    {
     "name": "stdout",
     "output_type": "stream",
     "text": [
      "Accuracy of the network on 10000 test images: 79 %\n"
     ]
    },
    {
     "data": {
      "text/plain": [
       "79"
      ]
     },
     "execution_count": 28,
     "metadata": {},
     "output_type": "execute_result"
    }
   ],
   "source": [
    "model_evaluate(model, test_dl)"
   ]
  },
  {
   "cell_type": "markdown",
   "id": "3ae21d3c",
   "metadata": {},
   "source": [
    "Ok, I'm going to give you a list of loss functions and a list of optimizers.\n",
    "You are then going to fiddle around with the hyperparameters and see if you can get your model to train more quickly.\n",
    "\n",
    "**Criterion**\n",
    "- `torch.nn.MSELoss()`\n",
    "- `torch.nn.NLLLoss()`\n",
    "- `torch.nn.L1Loss()`\n",
    "\n",
    "**Optimizers**\n",
    "- `torch.optim.Adadelta(params, lr=1, rho=0.9, eps=1e-06, weight_decay=0)`\n",
    "- `torch.optim.Adagrad(params, lr=0.01, lr_decay=0, weight_decay=0, eps=1e-10)`\n",
    "- `torch.optim.Adam(params, lr=0.001, betas=(0.9, 0.999), eps=1e-08, weight_decay=0, amsgrad=False)` **NOTE**: I will tell you the most commonly used value for `lr`.\n",
    "- `torch.optim.AdamW(params, lr=0.001, betas=(0.9, 0.999), eps=1e-08, weight_decay=0.01, amsgrad=False)`\n",
    "- `torch.optim.ASGD(params, lr=0.01, lambd=0.0001, alpha=0.75, t0=1000000.0, weight_decay=0)`\n",
    "- `torch.optim.RMSprop(params, lr=0.01, alpha=0.99, eps=1e-08, weight_decay=0, momentum=0)`\n",
    "- `torch.optim.SGD(params, lr=0.001, momentum=0, dampening=0, weight_decay=0, nesterov=False)`\n",
    "\n",
    "We'll go through these on the board."
   ]
  },
  {
   "cell_type": "code",
   "execution_count": null,
   "id": "9268d11c",
   "metadata": {},
   "outputs": [],
   "source": [
    "# Add some of the transforms, that we talked about in class number 5, to the list.\n",
    "# T.ToTensor and T.Normalize must remain.\n",
    "\n",
    "transforms = torchvision.transforms.Compose(\n",
    "    [T.ToTensor(),\n",
    "     T.Normalize(mean=torch.tensor([0.1307]), std=torch.tensor([0.3081])),\n",
    "     # Add the new transforms here.\n",
    "    ])"
   ]
  },
  {
   "cell_type": "code",
   "execution_count": null,
   "id": "60a9833f",
   "metadata": {},
   "outputs": [],
   "source": [
    "train_ds = torchvision.datasets.MNIST(root='./data',\n",
    "                                      train=True,\n",
    "                                      download=True,\n",
    "                                      transform=transforms)\n",
    "\n",
    "test_ds = torchvision.datasets.MNIST(root='./data',\n",
    "                                     train=False,\n",
    "                                     download=True,\n",
    "                                     transform=transforms)"
   ]
  },
  {
   "cell_type": "code",
   "execution_count": null,
   "id": "6152666e",
   "metadata": {},
   "outputs": [],
   "source": [
    "# Set your batch size\n",
    "# bs = ..\n",
    "\n",
    "# Call your data.\n",
    "train_dl = torch.utils.data.DataLoader(train_ds,\n",
    "                                       batch_size=bs,\n",
    "                                       shuffle=True,\n",
    "                                       num_workers=4)\n",
    "test_dl = torch.utils.data.DataLoader(test_ds,\n",
    "                                      batch_size=bs,\n",
    "                                      shuffle=False,\n",
    "                                      num_workers=4)"
   ]
  },
  {
   "cell_type": "code",
   "execution_count": null,
   "id": "5d124d7d",
   "metadata": {},
   "outputs": [],
   "source": [
    "# Instantiate your model\n",
    "# model = ...\n",
    "\n",
    "# Select your loss function\n",
    "# criterion = ...\n",
    "\n",
    "# Input the hyperparameters for your optimizer.\n",
    "# Note, if you're note sure what hyperparameters to use for your optimizer, choose ones\n",
    "# near the default values.\n",
    "# Be sure to insert model.parameters() in the first slot!\n",
    "# opt = torch.optim....\n",
    "\n",
    "# choose your epochs and train your model!\n",
    "# train(model, criterion, opt, train_dl, test_dl, epochs, evaluate=True)"
   ]
  },
  {
   "cell_type": "markdown",
   "id": "353cf461",
   "metadata": {},
   "source": [
    "We're not going to upload an image to our images folder, then open it to make a prediction."
   ]
  },
  {
   "cell_type": "code",
   "execution_count": null,
   "id": "34954e52",
   "metadata": {},
   "outputs": [],
   "source": [
    "image = Image.open('./images/your_pic.jpg')"
   ]
  },
  {
   "cell_type": "code",
   "execution_count": null,
   "id": "2c366743",
   "metadata": {},
   "outputs": [],
   "source": [
    "def predict(model, image, class_list=None):\n",
    "    \n",
    "    image = T.Resize((28, 828))(image)\n",
    "    image = T.ToTensor()(image)\n",
    "    \n",
    "    pred = model(image)\n",
    "    pred = torch.argmax(pred).item()\n",
    "    \n",
    "    if class_list:\n",
    "        pred = class_list[pred]\n",
    "    \n",
    "    return pred"
   ]
  }
 ],
 "metadata": {
  "kernelspec": {
   "display_name": "Python 3 (ipykernel)",
   "language": "python",
   "name": "python3"
  },
  "language_info": {
   "codemirror_mode": {
    "name": "ipython",
    "version": 3
   },
   "file_extension": ".py",
   "mimetype": "text/x-python",
   "name": "python",
   "nbconvert_exporter": "python",
   "pygments_lexer": "ipython3",
   "version": "3.8.13"
  }
 },
 "nbformat": 4,
 "nbformat_minor": 5
}
