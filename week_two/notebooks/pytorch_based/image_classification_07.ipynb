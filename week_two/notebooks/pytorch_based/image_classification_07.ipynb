{
 "cells": [
  {
   "cell_type": "code",
   "execution_count": 1,
   "id": "dcefc21e",
   "metadata": {},
   "outputs": [
    {
     "name": "stdout",
     "output_type": "stream",
     "text": [
      "Looking in indexes: https://pypi.org/simple, https://pypi.ngc.nvidia.com\n",
      "Collecting onnxruntime-gpu\n",
      "  Downloading onnxruntime_gpu-1.11.1-cp38-cp38-manylinux_2_17_x86_64.manylinux2014_x86_64.whl (108.9 MB)\n",
      "\u001b[K     |████████████████████████████████| 108.9 MB 47.7 MB/s eta 0:00:01        | 19.4 MB 47.6 MB/s eta 0:00:02███▎                     | 35.0 MB 47.6 MB/s eta 0:00:02\n",
      "\u001b[?25hRequirement already satisfied: numpy>=1.21.0 in /opt/conda/lib/python3.8/site-packages (from onnxruntime-gpu) (1.22.3)\n",
      "Collecting flatbuffers\n",
      "  Downloading flatbuffers-2.0-py2.py3-none-any.whl (26 kB)\n",
      "Requirement already satisfied: protobuf in /opt/conda/lib/python3.8/site-packages (from onnxruntime-gpu) (3.20.0)\n",
      "Installing collected packages: flatbuffers, onnxruntime-gpu\n",
      "Successfully installed flatbuffers-2.0 onnxruntime-gpu-1.11.1\n",
      "\u001b[33mWARNING: Running pip as the 'root' user can result in broken permissions and conflicting behaviour with the system package manager. It is recommended to use a virtual environment instead: https://pip.pypa.io/warnings/venv\u001b[0m\n",
      "Note: you may need to restart the kernel to use updated packages.\n"
     ]
    }
   ],
   "source": [
    "pip install onnxruntime-gpu"
   ]
  },
  {
   "cell_type": "code",
   "execution_count": 21,
   "id": "c39f1d54",
   "metadata": {},
   "outputs": [],
   "source": [
    "import numpy as np\n",
    "\n",
    "import torch\n",
    "import torchvision"
   ]
  },
  {
   "cell_type": "code",
   "execution_count": 22,
   "id": "93c76bb8",
   "metadata": {},
   "outputs": [],
   "source": [
    "dummy_input = torch.randn(10, 3, 224, 224, device='cuda')\n",
    "model = torchvision.models.alexnet(pretrained=True).cuda()"
   ]
  },
  {
   "cell_type": "code",
   "execution_count": 23,
   "id": "e8783047",
   "metadata": {},
   "outputs": [],
   "source": [
    "input_names = [ \"actual_input_1\" ] + [ \"learned_%d\" % i for i in range(16)]\n",
    "output_names = [ \"output1\" ]"
   ]
  },
  {
   "cell_type": "code",
   "execution_count": 24,
   "id": "9b18ccfc",
   "metadata": {},
   "outputs": [
    {
     "data": {
      "text/plain": [
       "(['actual_input_1',\n",
       "  'learned_0',\n",
       "  'learned_1',\n",
       "  'learned_2',\n",
       "  'learned_3',\n",
       "  'learned_4',\n",
       "  'learned_5',\n",
       "  'learned_6',\n",
       "  'learned_7',\n",
       "  'learned_8',\n",
       "  'learned_9',\n",
       "  'learned_10',\n",
       "  'learned_11',\n",
       "  'learned_12',\n",
       "  'learned_13',\n",
       "  'learned_14',\n",
       "  'learned_15'],\n",
       " ['output1'])"
      ]
     },
     "execution_count": 24,
     "metadata": {},
     "output_type": "execute_result"
    }
   ],
   "source": [
    "input_names, output_names"
   ]
  },
  {
   "cell_type": "code",
   "execution_count": 25,
   "id": "94d2e856",
   "metadata": {},
   "outputs": [
    {
     "name": "stdout",
     "output_type": "stream",
     "text": [
      "graph(%actual_input_1 : Float(10, 3, 224, 224, strides=[150528, 50176, 224, 1], requires_grad=0, device=cuda:0),\n",
      "      %learned_0 : Float(64, 3, 11, 11, strides=[363, 121, 11, 1], requires_grad=1, device=cuda:0),\n",
      "      %learned_1 : Float(64, strides=[1], requires_grad=1, device=cuda:0),\n",
      "      %learned_2 : Float(192, 64, 5, 5, strides=[1600, 25, 5, 1], requires_grad=1, device=cuda:0),\n",
      "      %learned_3 : Float(192, strides=[1], requires_grad=1, device=cuda:0),\n",
      "      %learned_4 : Float(384, 192, 3, 3, strides=[1728, 9, 3, 1], requires_grad=1, device=cuda:0),\n",
      "      %learned_5 : Float(384, strides=[1], requires_grad=1, device=cuda:0),\n",
      "      %learned_6 : Float(256, 384, 3, 3, strides=[3456, 9, 3, 1], requires_grad=1, device=cuda:0),\n",
      "      %learned_7 : Float(256, strides=[1], requires_grad=1, device=cuda:0),\n",
      "      %learned_8 : Float(256, 256, 3, 3, strides=[2304, 9, 3, 1], requires_grad=1, device=cuda:0),\n",
      "      %learned_9 : Float(256, strides=[1], requires_grad=1, device=cuda:0),\n",
      "      %learned_10 : Float(4096, 9216, strides=[9216, 1], requires_grad=1, device=cuda:0),\n",
      "      %learned_11 : Float(4096, strides=[1], requires_grad=1, device=cuda:0),\n",
      "      %learned_12 : Float(4096, 4096, strides=[4096, 1], requires_grad=1, device=cuda:0),\n",
      "      %learned_13 : Float(4096, strides=[1], requires_grad=1, device=cuda:0),\n",
      "      %learned_14 : Float(1000, 4096, strides=[4096, 1], requires_grad=1, device=cuda:0),\n",
      "      %learned_15 : Float(1000, strides=[1], requires_grad=1, device=cuda:0)):\n",
      "  %input : Float(10, 64, 55, 55, strides=[193600, 3025, 55, 1], requires_grad=0, device=cuda:0) = onnx::Conv[dilations=[1, 1], group=1, kernel_shape=[11, 11], pads=[2, 2, 2, 2], strides=[4, 4]](%actual_input_1, %learned_0, %learned_1) # /opt/conda/lib/python3.8/site-packages/torch/nn/modules/conv.py:443:0\n",
      "  %18 : Float(10, 64, 55, 55, strides=[193600, 3025, 55, 1], requires_grad=1, device=cuda:0) = onnx::Relu(%input) # /opt/conda/lib/python3.8/site-packages/torch/nn/functional.py:1404:0\n",
      "  %input.4 : Float(10, 64, 27, 27, strides=[46656, 729, 27, 1], requires_grad=1, device=cuda:0) = onnx::MaxPool[kernel_shape=[3, 3], pads=[0, 0, 0, 0], strides=[2, 2]](%18) # /opt/conda/lib/python3.8/site-packages/torch/nn/functional.py:773:0\n",
      "  %input.8 : Float(10, 192, 27, 27, strides=[139968, 729, 27, 1], requires_grad=0, device=cuda:0) = onnx::Conv[dilations=[1, 1], group=1, kernel_shape=[5, 5], pads=[2, 2, 2, 2], strides=[1, 1]](%input.4, %learned_2, %learned_3) # /opt/conda/lib/python3.8/site-packages/torch/nn/modules/conv.py:443:0\n",
      "  %21 : Float(10, 192, 27, 27, strides=[139968, 729, 27, 1], requires_grad=1, device=cuda:0) = onnx::Relu(%input.8) # /opt/conda/lib/python3.8/site-packages/torch/nn/functional.py:1404:0\n",
      "  %input.12 : Float(10, 192, 13, 13, strides=[32448, 169, 13, 1], requires_grad=1, device=cuda:0) = onnx::MaxPool[kernel_shape=[3, 3], pads=[0, 0, 0, 0], strides=[2, 2]](%21) # /opt/conda/lib/python3.8/site-packages/torch/nn/functional.py:773:0\n",
      "  %input.16 : Float(10, 384, 13, 13, strides=[64896, 169, 13, 1], requires_grad=0, device=cuda:0) = onnx::Conv[dilations=[1, 1], group=1, kernel_shape=[3, 3], pads=[1, 1, 1, 1], strides=[1, 1]](%input.12, %learned_4, %learned_5) # /opt/conda/lib/python3.8/site-packages/torch/nn/modules/conv.py:443:0\n",
      "  %24 : Float(10, 384, 13, 13, strides=[64896, 169, 13, 1], requires_grad=1, device=cuda:0) = onnx::Relu(%input.16) # /opt/conda/lib/python3.8/site-packages/torch/nn/functional.py:1404:0\n",
      "  %input.20 : Float(10, 256, 13, 13, strides=[43264, 169, 13, 1], requires_grad=0, device=cuda:0) = onnx::Conv[dilations=[1, 1], group=1, kernel_shape=[3, 3], pads=[1, 1, 1, 1], strides=[1, 1]](%24, %learned_6, %learned_7) # /opt/conda/lib/python3.8/site-packages/torch/nn/modules/conv.py:443:0\n",
      "  %26 : Float(10, 256, 13, 13, strides=[43264, 169, 13, 1], requires_grad=1, device=cuda:0) = onnx::Relu(%input.20) # /opt/conda/lib/python3.8/site-packages/torch/nn/functional.py:1404:0\n",
      "  %input.24 : Float(10, 256, 13, 13, strides=[43264, 169, 13, 1], requires_grad=0, device=cuda:0) = onnx::Conv[dilations=[1, 1], group=1, kernel_shape=[3, 3], pads=[1, 1, 1, 1], strides=[1, 1]](%26, %learned_8, %learned_9) # /opt/conda/lib/python3.8/site-packages/torch/nn/modules/conv.py:443:0\n",
      "  %28 : Float(10, 256, 13, 13, strides=[43264, 169, 13, 1], requires_grad=1, device=cuda:0) = onnx::Relu(%input.24) # /opt/conda/lib/python3.8/site-packages/torch/nn/functional.py:1404:0\n",
      "  %input.28 : Float(10, 256, 6, 6, strides=[9216, 36, 6, 1], requires_grad=1, device=cuda:0) = onnx::MaxPool[kernel_shape=[3, 3], pads=[0, 0, 0, 0], strides=[2, 2]](%28) # /opt/conda/lib/python3.8/site-packages/torch/nn/functional.py:773:0\n",
      "  %30 : Float(10, 256, 6, 6, strides=[9216, 36, 6, 1], requires_grad=1, device=cuda:0) = onnx::AveragePool[kernel_shape=[1, 1], strides=[1, 1]](%input.28) # /opt/conda/lib/python3.8/site-packages/torch/nn/functional.py:1205:0\n",
      "  %input.32 : Float(10, 9216, strides=[9216, 1], requires_grad=1, device=cuda:0) = onnx::Flatten[axis=1](%30) # /opt/conda/lib/python3.8/site-packages/torchvision/models/alexnet.py:51:0\n",
      "  %input.36 : Float(10, 4096, strides=[4096, 1], requires_grad=1, device=cuda:0) = onnx::Gemm[alpha=1., beta=1., transB=1](%input.32, %learned_10, %learned_11) # /opt/conda/lib/python3.8/site-packages/torch/nn/modules/linear.py:103:0\n",
      "  %33 : Float(10, 4096, strides=[4096, 1], requires_grad=1, device=cuda:0) = onnx::Relu(%input.36) # /opt/conda/lib/python3.8/site-packages/torch/nn/functional.py:1404:0\n",
      "  %input.40 : Float(10, 4096, strides=[4096, 1], requires_grad=1, device=cuda:0) = onnx::Gemm[alpha=1., beta=1., transB=1](%33, %learned_12, %learned_13) # /opt/conda/lib/python3.8/site-packages/torch/nn/modules/linear.py:103:0\n",
      "  %35 : Float(10, 4096, strides=[4096, 1], requires_grad=1, device=cuda:0) = onnx::Relu(%input.40) # /opt/conda/lib/python3.8/site-packages/torch/nn/functional.py:1404:0\n",
      "  %output1 : Float(10, 1000, strides=[1000, 1], requires_grad=1, device=cuda:0) = onnx::Gemm[alpha=1., beta=1., transB=1](%35, %learned_14, %learned_15) # /opt/conda/lib/python3.8/site-packages/torch/nn/modules/linear.py:103:0\n",
      "  return (%output1)\n",
      "\n"
     ]
    }
   ],
   "source": [
    "torch.onnx.export(model, dummy_input, 'alexnet.onnx', verbose=True, input_names=input_names, output_names=output_names)"
   ]
  },
  {
   "cell_type": "code",
   "execution_count": 26,
   "id": "d1df77e1",
   "metadata": {},
   "outputs": [],
   "source": [
    "import onnx"
   ]
  },
  {
   "cell_type": "code",
   "execution_count": 27,
   "id": "6bc8e085",
   "metadata": {},
   "outputs": [],
   "source": [
    "model = onnx.load('alexnet.onnx')"
   ]
  },
  {
   "cell_type": "code",
   "execution_count": 28,
   "id": "c66da597",
   "metadata": {},
   "outputs": [],
   "source": [
    "onnx.checker.check_model(model)"
   ]
  },
  {
   "cell_type": "code",
   "execution_count": 29,
   "id": "c07d88db",
   "metadata": {},
   "outputs": [
    {
     "name": "stdout",
     "output_type": "stream",
     "text": [
      "graph torch_jit (\n",
      "  %actual_input_1[FLOAT, 10x3x224x224]\n",
      ") initializers (\n",
      "  %learned_0[FLOAT, 64x3x11x11]\n",
      "  %learned_1[FLOAT, 64]\n",
      "  %learned_2[FLOAT, 192x64x5x5]\n",
      "  %learned_3[FLOAT, 192]\n",
      "  %learned_4[FLOAT, 384x192x3x3]\n",
      "  %learned_5[FLOAT, 384]\n",
      "  %learned_6[FLOAT, 256x384x3x3]\n",
      "  %learned_7[FLOAT, 256]\n",
      "  %learned_8[FLOAT, 256x256x3x3]\n",
      "  %learned_9[FLOAT, 256]\n",
      "  %learned_10[FLOAT, 4096x9216]\n",
      "  %learned_11[FLOAT, 4096]\n",
      "  %learned_12[FLOAT, 4096x4096]\n",
      "  %learned_13[FLOAT, 4096]\n",
      "  %learned_14[FLOAT, 1000x4096]\n",
      "  %learned_15[FLOAT, 1000]\n",
      ") {\n",
      "  %input = Conv[dilations = [1, 1], group = 1, kernel_shape = [11, 11], pads = [2, 2, 2, 2], strides = [4, 4]](%actual_input_1, %learned_0, %learned_1)\n",
      "  %onnx::MaxPool_18 = Relu(%input)\n",
      "  %input.4 = MaxPool[kernel_shape = [3, 3], pads = [0, 0, 0, 0], strides = [2, 2]](%onnx::MaxPool_18)\n",
      "  %input.8 = Conv[dilations = [1, 1], group = 1, kernel_shape = [5, 5], pads = [2, 2, 2, 2], strides = [1, 1]](%input.4, %learned_2, %learned_3)\n",
      "  %onnx::MaxPool_21 = Relu(%input.8)\n",
      "  %input.12 = MaxPool[kernel_shape = [3, 3], pads = [0, 0, 0, 0], strides = [2, 2]](%onnx::MaxPool_21)\n",
      "  %input.16 = Conv[dilations = [1, 1], group = 1, kernel_shape = [3, 3], pads = [1, 1, 1, 1], strides = [1, 1]](%input.12, %learned_4, %learned_5)\n",
      "  %onnx::Conv_24 = Relu(%input.16)\n",
      "  %input.20 = Conv[dilations = [1, 1], group = 1, kernel_shape = [3, 3], pads = [1, 1, 1, 1], strides = [1, 1]](%onnx::Conv_24, %learned_6, %learned_7)\n",
      "  %onnx::Conv_26 = Relu(%input.20)\n",
      "  %input.24 = Conv[dilations = [1, 1], group = 1, kernel_shape = [3, 3], pads = [1, 1, 1, 1], strides = [1, 1]](%onnx::Conv_26, %learned_8, %learned_9)\n",
      "  %onnx::MaxPool_28 = Relu(%input.24)\n",
      "  %input.28 = MaxPool[kernel_shape = [3, 3], pads = [0, 0, 0, 0], strides = [2, 2]](%onnx::MaxPool_28)\n",
      "  %onnx::Flatten_30 = AveragePool[kernel_shape = [1, 1], strides = [1, 1]](%input.28)\n",
      "  %input.32 = Flatten[axis = 1](%onnx::Flatten_30)\n",
      "  %input.36 = Gemm[alpha = 1, beta = 1, transB = 1](%input.32, %learned_10, %learned_11)\n",
      "  %onnx::Gemm_33 = Relu(%input.36)\n",
      "  %input.40 = Gemm[alpha = 1, beta = 1, transB = 1](%onnx::Gemm_33, %learned_12, %learned_13)\n",
      "  %onnx::Gemm_35 = Relu(%input.40)\n",
      "  %output1 = Gemm[alpha = 1, beta = 1, transB = 1](%onnx::Gemm_35, %learned_14, %learned_15)\n",
      "  return %output1\n",
      "}\n"
     ]
    }
   ],
   "source": [
    "print(onnx.helper.printable_graph(model.graph))"
   ]
  },
  {
   "cell_type": "code",
   "execution_count": 30,
   "id": "1d05cedb",
   "metadata": {},
   "outputs": [],
   "source": [
    "import onnxruntime as ort"
   ]
  },
  {
   "cell_type": "code",
   "execution_count": 31,
   "id": "e6eb0fd0",
   "metadata": {},
   "outputs": [],
   "source": [
    "ort_sess = ort.InferenceSession('alexnet.onnx', providers=['TensorrtExecutionProvider', 'CUDAExecutionProvider'])"
   ]
  },
  {
   "cell_type": "code",
   "execution_count": 32,
   "id": "8830d9a3",
   "metadata": {},
   "outputs": [
    {
     "name": "stdout",
     "output_type": "stream",
     "text": [
      "[[-0.27882484 -1.6610326  -1.4640824  ... -1.4062617  -0.90210056\n",
      "   0.9749887 ]\n",
      " [ 0.16546041 -1.2406901  -1.4637522  ... -1.046088   -0.6202794\n",
      "   1.2154511 ]\n",
      " [-0.05865124 -1.7179849  -1.456497   ... -1.1318249  -0.9501119\n",
      "   1.0824864 ]\n",
      " ...\n",
      " [-0.09073795 -1.6183611  -1.6515392  ... -1.1856104  -1.006303\n",
      "   1.0273564 ]\n",
      " [ 0.17899546 -1.7340089  -1.7147235  ... -1.1643307  -1.1804765\n",
      "   1.1147445 ]\n",
      " [-0.08731508 -1.302654   -1.1459596  ... -1.1892314  -0.9049844\n",
      "   1.036444  ]]\n"
     ]
    }
   ],
   "source": [
    "outputs = ort_sess.run(\n",
    "    None,\n",
    "    {\"actual_input_1\": np.random.randn(10, 3, 224, 224).astype(np.float32)},\n",
    ")"
   ]
  },
  {
   "cell_type": "code",
   "execution_count": 38,
   "id": "d7674be6",
   "metadata": {},
   "outputs": [
    {
     "name": "stdout",
     "output_type": "stream",
     "text": [
      "[735 735 533 735 474 735 741 735 533 735]\n"
     ]
    }
   ],
   "source": [
    "print(np.argmax(outputs[0], -1))"
   ]
  },
  {
   "cell_type": "code",
   "execution_count": null,
   "id": "12a6268c",
   "metadata": {},
   "outputs": [],
   "source": []
  }
 ],
 "metadata": {
  "kernelspec": {
   "display_name": "Python 3 (ipykernel)",
   "language": "python",
   "name": "python3"
  },
  "language_info": {
   "codemirror_mode": {
    "name": "ipython",
    "version": 3
   },
   "file_extension": ".py",
   "mimetype": "text/x-python",
   "name": "python",
   "nbconvert_exporter": "python",
   "pygments_lexer": "ipython3",
   "version": "3.8.13"
  }
 },
 "nbformat": 4,
 "nbformat_minor": 5
}
